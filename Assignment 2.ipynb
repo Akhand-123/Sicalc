{
 "cells": [
  {
   "cell_type": "markdown",
   "id": "a50424f8",
   "metadata": {},
   "source": [
    "# Problem Statement:- \n",
    "Uber Data Analysis involves studying data related to Uber\n",
    "rides, such as ride times, locations, and user ratings. The\n",
    "analysis can be used to understand user behavior, driver\n",
    "patterns, and areas of high demand"
   ]
  },
  {
   "cell_type": "code",
   "execution_count": 1,
   "id": "2f375e47",
   "metadata": {},
   "outputs": [],
   "source": [
    "# Importing libraries \n",
    "import pandas as pd\n",
    "import numpy as np\n",
    "import matplotlib.pyplot as plt\n",
    "import seaborn as sns\n",
    "from datetime import datetime\n",
    "import warnings\n",
    "warnings.filterwarnings('ignore')"
   ]
  },
  {
   "cell_type": "code",
   "execution_count": 2,
   "id": "79829bc7",
   "metadata": {},
   "outputs": [
    {
     "data": {
      "text/html": [
       "<div>\n",
       "<style scoped>\n",
       "    .dataframe tbody tr th:only-of-type {\n",
       "        vertical-align: middle;\n",
       "    }\n",
       "\n",
       "    .dataframe tbody tr th {\n",
       "        vertical-align: top;\n",
       "    }\n",
       "\n",
       "    .dataframe thead th {\n",
       "        text-align: right;\n",
       "    }\n",
       "</style>\n",
       "<table border=\"1\" class=\"dataframe\">\n",
       "  <thead>\n",
       "    <tr style=\"text-align: right;\">\n",
       "      <th></th>\n",
       "      <th>START_DATE</th>\n",
       "      <th>END_DATE</th>\n",
       "      <th>CATEGORY</th>\n",
       "      <th>START</th>\n",
       "      <th>STOP</th>\n",
       "      <th>MILES</th>\n",
       "      <th>PURPOSE</th>\n",
       "    </tr>\n",
       "  </thead>\n",
       "  <tbody>\n",
       "    <tr>\n",
       "      <th>0</th>\n",
       "      <td>01-01-2016 21:11</td>\n",
       "      <td>2016-01-01 21:17:00</td>\n",
       "      <td>Business</td>\n",
       "      <td>Fort Pierce</td>\n",
       "      <td>Fort Pierce</td>\n",
       "      <td>5.1</td>\n",
       "      <td>Meal/Entertain</td>\n",
       "    </tr>\n",
       "    <tr>\n",
       "      <th>1</th>\n",
       "      <td>01-02-2016 01:25</td>\n",
       "      <td>2016-01-02 01:37:00</td>\n",
       "      <td>Business</td>\n",
       "      <td>Fort Pierce</td>\n",
       "      <td>Fort Pierce</td>\n",
       "      <td>5.0</td>\n",
       "      <td>NaN</td>\n",
       "    </tr>\n",
       "    <tr>\n",
       "      <th>2</th>\n",
       "      <td>01-02-2016 20:25</td>\n",
       "      <td>2016-01-02 20:38:00</td>\n",
       "      <td>Business</td>\n",
       "      <td>Fort Pierce</td>\n",
       "      <td>Fort Pierce</td>\n",
       "      <td>4.8</td>\n",
       "      <td>Errand/Supplies</td>\n",
       "    </tr>\n",
       "    <tr>\n",
       "      <th>3</th>\n",
       "      <td>01-05-2016 17:31</td>\n",
       "      <td>2016-01-05 17:45:00</td>\n",
       "      <td>Business</td>\n",
       "      <td>Fort Pierce</td>\n",
       "      <td>Fort Pierce</td>\n",
       "      <td>4.7</td>\n",
       "      <td>Meeting</td>\n",
       "    </tr>\n",
       "    <tr>\n",
       "      <th>4</th>\n",
       "      <td>01-06-2016 14:42</td>\n",
       "      <td>2016-01-06 15:49:00</td>\n",
       "      <td>Business</td>\n",
       "      <td>Fort Pierce</td>\n",
       "      <td>West Palm Beach</td>\n",
       "      <td>63.7</td>\n",
       "      <td>Customer Visit</td>\n",
       "    </tr>\n",
       "  </tbody>\n",
       "</table>\n",
       "</div>"
      ],
      "text/plain": [
       "         START_DATE            END_DATE  CATEGORY        START  \\\n",
       "0  01-01-2016 21:11 2016-01-01 21:17:00  Business  Fort Pierce   \n",
       "1  01-02-2016 01:25 2016-01-02 01:37:00  Business  Fort Pierce   \n",
       "2  01-02-2016 20:25 2016-01-02 20:38:00  Business  Fort Pierce   \n",
       "3  01-05-2016 17:31 2016-01-05 17:45:00  Business  Fort Pierce   \n",
       "4  01-06-2016 14:42 2016-01-06 15:49:00  Business  Fort Pierce   \n",
       "\n",
       "              STOP  MILES          PURPOSE  \n",
       "0      Fort Pierce    5.1   Meal/Entertain  \n",
       "1      Fort Pierce    5.0              NaN  \n",
       "2      Fort Pierce    4.8  Errand/Supplies  \n",
       "3      Fort Pierce    4.7          Meeting  \n",
       "4  West Palm Beach   63.7   Customer Visit  "
      ]
     },
     "execution_count": 2,
     "metadata": {},
     "output_type": "execute_result"
    }
   ],
   "source": [
    "data = pd.read_csv('UberDataset.csv',parse_dates=['START_DATE','END_DATE'])\n",
    "data.head()"
   ]
  },
  {
   "cell_type": "code",
   "execution_count": 3,
   "id": "2d4a4e19",
   "metadata": {},
   "outputs": [
    {
     "data": {
      "text/plain": [
       "(1156, 7)"
      ]
     },
     "execution_count": 3,
     "metadata": {},
     "output_type": "execute_result"
    }
   ],
   "source": [
    "data.shape"
   ]
  },
  {
   "cell_type": "markdown",
   "id": "1241bb39",
   "metadata": {},
   "source": [
    "# Observation:- \n",
    "- There are 1156 rows and 7 columns.\n",
    "- Each row repesent the individual rides."
   ]
  },
  {
   "cell_type": "code",
   "execution_count": 4,
   "id": "c892450d",
   "metadata": {},
   "outputs": [
    {
     "data": {
      "text/plain": [
       "START_DATE      0\n",
       "END_DATE        1\n",
       "CATEGORY        1\n",
       "START           1\n",
       "STOP            1\n",
       "MILES           0\n",
       "PURPOSE       503\n",
       "dtype: int64"
      ]
     },
     "execution_count": 4,
     "metadata": {},
     "output_type": "execute_result"
    }
   ],
   "source": [
    "# Checking for null values in the dataset\n",
    "data.isnull().sum()"
   ]
  },
  {
   "cell_type": "code",
   "execution_count": 5,
   "id": "f8ede72d",
   "metadata": {},
   "outputs": [
    {
     "data": {
      "text/plain": [
       "START_DATE     0.000000\n",
       "END_DATE       0.086505\n",
       "CATEGORY       0.086505\n",
       "START          0.086505\n",
       "STOP           0.086505\n",
       "MILES          0.000000\n",
       "PURPOSE       43.512111\n",
       "dtype: float64"
      ]
     },
     "execution_count": 5,
     "metadata": {},
     "output_type": "execute_result"
    }
   ],
   "source": [
    "# Percentage of null values \n",
    "data.isnull().sum()/1156 * 100"
   ]
  },
  {
   "cell_type": "code",
   "execution_count": 6,
   "id": "5a40e82d",
   "metadata": {},
   "outputs": [],
   "source": [
    "# Converting columns name to lower case\n",
    "data.columns=data.columns.str.lower()"
   ]
  },
  {
   "cell_type": "code",
   "execution_count": 7,
   "id": "04ccc415",
   "metadata": {},
   "outputs": [],
   "source": [
    "# Missing value treatment \n",
    "data['purpose'] = data['purpose'].fillna('Unknown')\n",
    "data.dropna(inplace=True)"
   ]
  },
  {
   "cell_type": "code",
   "execution_count": 8,
   "id": "34516cef",
   "metadata": {},
   "outputs": [
    {
     "data": {
      "text/plain": [
       "start_date    0\n",
       "end_date      0\n",
       "category      0\n",
       "start         0\n",
       "stop          0\n",
       "miles         0\n",
       "purpose       0\n",
       "dtype: int64"
      ]
     },
     "execution_count": 8,
     "metadata": {},
     "output_type": "execute_result"
    }
   ],
   "source": [
    "# Again checking null value\n",
    "data.isnull().sum()"
   ]
  },
  {
   "cell_type": "code",
   "execution_count": 9,
   "id": "502d30dc",
   "metadata": {},
   "outputs": [
    {
     "name": "stdout",
     "output_type": "stream",
     "text": [
      "<class 'pandas.core.frame.DataFrame'>\n",
      "Int64Index: 1155 entries, 0 to 1154\n",
      "Data columns (total 7 columns):\n",
      " #   Column      Non-Null Count  Dtype         \n",
      "---  ------      --------------  -----         \n",
      " 0   start_date  1155 non-null   object        \n",
      " 1   end_date    1155 non-null   datetime64[ns]\n",
      " 2   category    1155 non-null   object        \n",
      " 3   start       1155 non-null   object        \n",
      " 4   stop        1155 non-null   object        \n",
      " 5   miles       1155 non-null   float64       \n",
      " 6   purpose     1155 non-null   object        \n",
      "dtypes: datetime64[ns](1), float64(1), object(5)\n",
      "memory usage: 72.2+ KB\n"
     ]
    }
   ],
   "source": [
    "data.info()"
   ]
  },
  {
   "cell_type": "code",
   "execution_count": 10,
   "id": "b83ed20f",
   "metadata": {},
   "outputs": [
    {
     "data": {
      "text/html": [
       "<div>\n",
       "<style scoped>\n",
       "    .dataframe tbody tr th:only-of-type {\n",
       "        vertical-align: middle;\n",
       "    }\n",
       "\n",
       "    .dataframe tbody tr th {\n",
       "        vertical-align: top;\n",
       "    }\n",
       "\n",
       "    .dataframe thead th {\n",
       "        text-align: right;\n",
       "    }\n",
       "</style>\n",
       "<table border=\"1\" class=\"dataframe\">\n",
       "  <thead>\n",
       "    <tr style=\"text-align: right;\">\n",
       "      <th></th>\n",
       "      <th>miles</th>\n",
       "    </tr>\n",
       "  </thead>\n",
       "  <tbody>\n",
       "    <tr>\n",
       "      <th>count</th>\n",
       "      <td>1155.000000</td>\n",
       "    </tr>\n",
       "    <tr>\n",
       "      <th>mean</th>\n",
       "      <td>10.566840</td>\n",
       "    </tr>\n",
       "    <tr>\n",
       "      <th>std</th>\n",
       "      <td>21.579106</td>\n",
       "    </tr>\n",
       "    <tr>\n",
       "      <th>min</th>\n",
       "      <td>0.500000</td>\n",
       "    </tr>\n",
       "    <tr>\n",
       "      <th>25%</th>\n",
       "      <td>2.900000</td>\n",
       "    </tr>\n",
       "    <tr>\n",
       "      <th>50%</th>\n",
       "      <td>6.000000</td>\n",
       "    </tr>\n",
       "    <tr>\n",
       "      <th>75%</th>\n",
       "      <td>10.400000</td>\n",
       "    </tr>\n",
       "    <tr>\n",
       "      <th>max</th>\n",
       "      <td>310.300000</td>\n",
       "    </tr>\n",
       "  </tbody>\n",
       "</table>\n",
       "</div>"
      ],
      "text/plain": [
       "             miles\n",
       "count  1155.000000\n",
       "mean     10.566840\n",
       "std      21.579106\n",
       "min       0.500000\n",
       "25%       2.900000\n",
       "50%       6.000000\n",
       "75%      10.400000\n",
       "max     310.300000"
      ]
     },
     "execution_count": 10,
     "metadata": {},
     "output_type": "execute_result"
    }
   ],
   "source": [
    "data.describe()"
   ]
  },
  {
   "cell_type": "markdown",
   "id": "28c5c6e2",
   "metadata": {},
   "source": [
    "# Exploratory Data Analysis"
   ]
  },
  {
   "cell_type": "markdown",
   "id": "f7d20f9f",
   "metadata": {},
   "source": [
    "### Analyzing Uber Trip Frequency"
   ]
  },
  {
   "cell_type": "code",
   "execution_count": 11,
   "id": "3584620b",
   "metadata": {},
   "outputs": [],
   "source": [
    "# Finding most busiest start and stop location \n",
    "busy_start_loc = data['start'].value_counts().idxmax()\n",
    "busy_stop_loc = data['stop'].value_counts().idxmax()"
   ]
  },
  {
   "cell_type": "markdown",
   "id": "ed2bcd68",
   "metadata": {},
   "source": [
    "#### Now let's visualize the number of trips starting from the busiest location and the number of trips ending at the busiest stop location"
   ]
  },
  {
   "cell_type": "code",
   "execution_count": 12,
   "id": "9823fc5a",
   "metadata": {},
   "outputs": [
    {
     "data": {
      "text/html": [
       "<div>\n",
       "<style scoped>\n",
       "    .dataframe tbody tr th:only-of-type {\n",
       "        vertical-align: middle;\n",
       "    }\n",
       "\n",
       "    .dataframe tbody tr th {\n",
       "        vertical-align: top;\n",
       "    }\n",
       "\n",
       "    .dataframe thead th {\n",
       "        text-align: right;\n",
       "    }\n",
       "</style>\n",
       "<table border=\"1\" class=\"dataframe\">\n",
       "  <thead>\n",
       "    <tr style=\"text-align: right;\">\n",
       "      <th></th>\n",
       "      <th>Location</th>\n",
       "      <th>No. of Starts</th>\n",
       "    </tr>\n",
       "  </thead>\n",
       "  <tbody>\n",
       "    <tr>\n",
       "      <th>0</th>\n",
       "      <td>Cary</td>\n",
       "      <td>201</td>\n",
       "    </tr>\n",
       "    <tr>\n",
       "      <th>1</th>\n",
       "      <td>Unknown Location</td>\n",
       "      <td>148</td>\n",
       "    </tr>\n",
       "    <tr>\n",
       "      <th>2</th>\n",
       "      <td>Morrisville</td>\n",
       "      <td>85</td>\n",
       "    </tr>\n",
       "    <tr>\n",
       "      <th>3</th>\n",
       "      <td>Whitebridge</td>\n",
       "      <td>68</td>\n",
       "    </tr>\n",
       "    <tr>\n",
       "      <th>4</th>\n",
       "      <td>Islamabad</td>\n",
       "      <td>57</td>\n",
       "    </tr>\n",
       "    <tr>\n",
       "      <th>...</th>\n",
       "      <td>...</td>\n",
       "      <td>...</td>\n",
       "    </tr>\n",
       "    <tr>\n",
       "      <th>172</th>\n",
       "      <td>Florence</td>\n",
       "      <td>1</td>\n",
       "    </tr>\n",
       "    <tr>\n",
       "      <th>173</th>\n",
       "      <td>Ridgeland</td>\n",
       "      <td>1</td>\n",
       "    </tr>\n",
       "    <tr>\n",
       "      <th>174</th>\n",
       "      <td>Daytona Beach</td>\n",
       "      <td>1</td>\n",
       "    </tr>\n",
       "    <tr>\n",
       "      <th>175</th>\n",
       "      <td>Sky Lake</td>\n",
       "      <td>1</td>\n",
       "    </tr>\n",
       "    <tr>\n",
       "      <th>176</th>\n",
       "      <td>Gampaha</td>\n",
       "      <td>1</td>\n",
       "    </tr>\n",
       "  </tbody>\n",
       "</table>\n",
       "<p>177 rows × 2 columns</p>\n",
       "</div>"
      ],
      "text/plain": [
       "             Location  No. of Starts\n",
       "0                Cary            201\n",
       "1    Unknown Location            148\n",
       "2         Morrisville             85\n",
       "3         Whitebridge             68\n",
       "4           Islamabad             57\n",
       "..                ...            ...\n",
       "172          Florence              1\n",
       "173         Ridgeland              1\n",
       "174     Daytona Beach              1\n",
       "175          Sky Lake              1\n",
       "176           Gampaha              1\n",
       "\n",
       "[177 rows x 2 columns]"
      ]
     },
     "execution_count": 12,
     "metadata": {},
     "output_type": "execute_result"
    }
   ],
   "source": [
    "# Count the number of trips for each start location\n",
    "start_loc_counts = data['start'].value_counts().reset_index()\n",
    "start_loc_counts.columns = ['Location','No. of Starts']\n",
    "start_loc_counts"
   ]
  },
  {
   "cell_type": "code",
   "execution_count": 13,
   "id": "7a64e69c",
   "metadata": {},
   "outputs": [
    {
     "data": {
      "image/png": "[encoded data removed]",
      "text/plain": [
       "<Figure size 432x288 with 1 Axes>"
      ]
     },
     "metadata": {
      "needs_background": "light"
     },
     "output_type": "display_data"
    }
   ],
   "source": [
    "sns.barplot(x='No. of Starts',y='Location',data=start_loc_counts.head(10))\n",
    "plt.title(\"Top 10 locations\")\n",
    "plt.xlabel(\"Number of tiprs started\")\n",
    "plt.ylabel(\"Location\")\n",
    "plt.show()"
   ]
  },
  {
   "cell_type": "code",
   "execution_count": 14,
   "id": "32521480",
   "metadata": {},
   "outputs": [
    {
     "data": {
      "text/html": [
       "<div>\n",
       "<style scoped>\n",
       "    .dataframe tbody tr th:only-of-type {\n",
       "        vertical-align: middle;\n",
       "    }\n",
       "\n",
       "    .dataframe tbody tr th {\n",
       "        vertical-align: top;\n",
       "    }\n",
       "\n",
       "    .dataframe thead th {\n",
       "        text-align: right;\n",
       "    }\n",
       "</style>\n",
       "<table border=\"1\" class=\"dataframe\">\n",
       "  <thead>\n",
       "    <tr style=\"text-align: right;\">\n",
       "      <th></th>\n",
       "      <th>Location</th>\n",
       "      <th>No. of stops</th>\n",
       "    </tr>\n",
       "  </thead>\n",
       "  <tbody>\n",
       "    <tr>\n",
       "      <th>0</th>\n",
       "      <td>Cary</td>\n",
       "      <td>203</td>\n",
       "    </tr>\n",
       "    <tr>\n",
       "      <th>1</th>\n",
       "      <td>Unknown Location</td>\n",
       "      <td>149</td>\n",
       "    </tr>\n",
       "    <tr>\n",
       "      <th>2</th>\n",
       "      <td>Morrisville</td>\n",
       "      <td>84</td>\n",
       "    </tr>\n",
       "    <tr>\n",
       "      <th>3</th>\n",
       "      <td>Whitebridge</td>\n",
       "      <td>65</td>\n",
       "    </tr>\n",
       "    <tr>\n",
       "      <th>4</th>\n",
       "      <td>Islamabad</td>\n",
       "      <td>58</td>\n",
       "    </tr>\n",
       "    <tr>\n",
       "      <th>...</th>\n",
       "      <td>...</td>\n",
       "      <td>...</td>\n",
       "    </tr>\n",
       "    <tr>\n",
       "      <th>183</th>\n",
       "      <td>Daytona Beach</td>\n",
       "      <td>1</td>\n",
       "    </tr>\n",
       "    <tr>\n",
       "      <th>184</th>\n",
       "      <td>Sand Lake Commons</td>\n",
       "      <td>1</td>\n",
       "    </tr>\n",
       "    <tr>\n",
       "      <th>185</th>\n",
       "      <td>Sky Lake</td>\n",
       "      <td>1</td>\n",
       "    </tr>\n",
       "    <tr>\n",
       "      <th>186</th>\n",
       "      <td>Vista East</td>\n",
       "      <td>1</td>\n",
       "    </tr>\n",
       "    <tr>\n",
       "      <th>187</th>\n",
       "      <td>Ilukwatta</td>\n",
       "      <td>1</td>\n",
       "    </tr>\n",
       "  </tbody>\n",
       "</table>\n",
       "<p>188 rows × 2 columns</p>\n",
       "</div>"
      ],
      "text/plain": [
       "              Location  No. of stops\n",
       "0                 Cary           203\n",
       "1     Unknown Location           149\n",
       "2          Morrisville            84\n",
       "3          Whitebridge            65\n",
       "4            Islamabad            58\n",
       "..                 ...           ...\n",
       "183      Daytona Beach             1\n",
       "184  Sand Lake Commons             1\n",
       "185           Sky Lake             1\n",
       "186         Vista East             1\n",
       "187          Ilukwatta             1\n",
       "\n",
       "[188 rows x 2 columns]"
      ]
     },
     "execution_count": 14,
     "metadata": {},
     "output_type": "execute_result"
    }
   ],
   "source": [
    "# Count the number of trips for each stop location\n",
    "stop_loc_counts = data['stop'].value_counts().reset_index()\n",
    "stop_loc_counts.columns = ['Location','No. of stops']\n",
    "stop_loc_counts"
   ]
  },
  {
   "cell_type": "code",
   "execution_count": 15,
   "id": "1abdc383",
   "metadata": {},
   "outputs": [
    {
     "data": {
      "image/png": "[encoded data removed]",
      "text/plain": [
       "<Figure size 432x288 with 1 Axes>"
      ]
     },
     "metadata": {
      "needs_background": "light"
     },
     "output_type": "display_data"
    }
   ],
   "source": [
    "# Plot for stop locations\n",
    "sns.barplot(x=\"No. of stops\",y=\"Location\",data=stop_loc_counts.head(10))\n",
    "plt.title(\"Top 10 stop locations\")\n",
    "plt.xlabel(\"Number of tips ended\")\n",
    "plt.ylabel(\"Location\")\n",
    "plt.show()"
   ]
  },
  {
   "cell_type": "markdown",
   "id": "1c0e4855",
   "metadata": {},
   "source": [
    "## Peak Travel times: A Snapshot of Uber Trip bolume by Time of Day\n"
   ]
  },
  {
   "cell_type": "code",
   "execution_count": 16,
   "id": "bb191cb5",
   "metadata": {
    "scrolled": true
   },
   "outputs": [
    {
     "data": {
      "text/plain": [
       "start_date    0.0\n",
       "end_date      0.0\n",
       "category      0.0\n",
       "start         0.0\n",
       "stop          0.0\n",
       "miles         0.0\n",
       "purpose       0.0\n",
       "dtype: float64"
      ]
     },
     "execution_count": 16,
     "metadata": {},
     "output_type": "execute_result"
    }
   ],
   "source": [
    "data.isnull().sum()/len(data)"
   ]
  },
  {
   "cell_type": "code",
   "execution_count": 17,
   "id": "461c529a",
   "metadata": {},
   "outputs": [],
   "source": [
    "data['start_date'] = pd.to_datetime(data['start_date'], format='%m-%d-%Y %H:%M', errors='coerce')\n",
    "data['end_date'] = pd.to_datetime(data['end_date'], format='%m-%d-%Y %H:%M', errors='coerce')"
   ]
  },
  {
   "cell_type": "code",
   "execution_count": 18,
   "id": "e4ed2523",
   "metadata": {},
   "outputs": [],
   "source": [
    "data.dropna(inplace=True)"
   ]
  },
  {
   "cell_type": "code",
   "execution_count": 19,
   "id": "c7dd1567",
   "metadata": {},
   "outputs": [],
   "source": [
    "data['request_hour'] = data['start_date'].dt.hour"
   ]
  },
  {
   "cell_type": "code",
   "execution_count": 20,
   "id": "d8499b02",
   "metadata": {},
   "outputs": [
    {
     "data": {
      "text/plain": [
       "{0: 'Late Night',\n",
       " 1: 'Midnight',\n",
       " 2: 'Midnight',\n",
       " 3: 'Early Morning',\n",
       " 4: 'Early Morning',\n",
       " 5: 'Early Morning',\n",
       " 6: 'Morning',\n",
       " 7: 'Morning',\n",
       " 8: 'Morning',\n",
       " 9: 'Morning',\n",
       " 10: 'Morning',\n",
       " 11: 'Morning',\n",
       " 12: 'After Noon',\n",
       " 13: 'After Noon',\n",
       " 14: 'After Noon',\n",
       " 15: 'Afer Noon',\n",
       " 16: 'Evening',\n",
       " 17: 'Evening',\n",
       " 18: 'Evening',\n",
       " 19: 'Night',\n",
       " 20: 'Night',\n",
       " 21: 'Night',\n",
       " 22: 'Late Night',\n",
       " 23: 'Late Night'}"
      ]
     },
     "execution_count": 20,
     "metadata": {},
     "output_type": "execute_result"
    }
   ],
   "source": [
    "time_slots = {\n",
    "    0:'Late Night',\n",
    "    1:'Midnight',\n",
    "    2:'Midnight',\n",
    "    3:'Early Morning',\n",
    "    4:'Early Morning',\n",
    "    5:'Early Morning',\n",
    "    6:'Morning',\n",
    "    7:'Morning',\n",
    "    8:'Morning',\n",
    "    9:'Morning',\n",
    "    10:'Morning',\n",
    "    11:'Morning',\n",
    "    12:'After Noon',\n",
    "    13:'After Noon',\n",
    "    14:'After Noon',\n",
    "    15:'Afer Noon',\n",
    "    16:'Evening',\n",
    "    17:'Evening',\n",
    "    18:'Evening',\n",
    "    19:'Night',\n",
    "    20:'Night',\n",
    "    21:'Night',\n",
    "    22:'Late Night',\n",
    "    23:'Late Night'\n",
    "}\n",
    "time_slots"
   ]
  },
  {
   "cell_type": "code",
   "execution_count": 21,
   "id": "5d59278a",
   "metadata": {},
   "outputs": [],
   "source": [
    "data['time_slot'] = data['request_hour'].apply(lambda x:time_slots.get(x) )"
   ]
  },
  {
   "cell_type": "code",
   "execution_count": 22,
   "id": "4493173d",
   "metadata": {},
   "outputs": [
    {
     "data": {
      "text/html": [
       "<div>\n",
       "<style scoped>\n",
       "    .dataframe tbody tr th:only-of-type {\n",
       "        vertical-align: middle;\n",
       "    }\n",
       "\n",
       "    .dataframe tbody tr th {\n",
       "        vertical-align: top;\n",
       "    }\n",
       "\n",
       "    .dataframe thead th {\n",
       "        text-align: right;\n",
       "    }\n",
       "</style>\n",
       "<table border=\"1\" class=\"dataframe\">\n",
       "  <thead>\n",
       "    <tr style=\"text-align: right;\">\n",
       "      <th></th>\n",
       "      <th>start_date</th>\n",
       "      <th>end_date</th>\n",
       "      <th>category</th>\n",
       "      <th>start</th>\n",
       "      <th>stop</th>\n",
       "      <th>miles</th>\n",
       "      <th>purpose</th>\n",
       "      <th>request_hour</th>\n",
       "      <th>time_slot</th>\n",
       "    </tr>\n",
       "  </thead>\n",
       "  <tbody>\n",
       "    <tr>\n",
       "      <th>0</th>\n",
       "      <td>2016-01-01 21:11:00</td>\n",
       "      <td>2016-01-01 21:17:00</td>\n",
       "      <td>Business</td>\n",
       "      <td>Fort Pierce</td>\n",
       "      <td>Fort Pierce</td>\n",
       "      <td>5.1</td>\n",
       "      <td>Meal/Entertain</td>\n",
       "      <td>21</td>\n",
       "      <td>Night</td>\n",
       "    </tr>\n",
       "    <tr>\n",
       "      <th>1</th>\n",
       "      <td>2016-01-02 01:25:00</td>\n",
       "      <td>2016-01-02 01:37:00</td>\n",
       "      <td>Business</td>\n",
       "      <td>Fort Pierce</td>\n",
       "      <td>Fort Pierce</td>\n",
       "      <td>5.0</td>\n",
       "      <td>Unknown</td>\n",
       "      <td>1</td>\n",
       "      <td>Midnight</td>\n",
       "    </tr>\n",
       "    <tr>\n",
       "      <th>2</th>\n",
       "      <td>2016-01-02 20:25:00</td>\n",
       "      <td>2016-01-02 20:38:00</td>\n",
       "      <td>Business</td>\n",
       "      <td>Fort Pierce</td>\n",
       "      <td>Fort Pierce</td>\n",
       "      <td>4.8</td>\n",
       "      <td>Errand/Supplies</td>\n",
       "      <td>20</td>\n",
       "      <td>Night</td>\n",
       "    </tr>\n",
       "    <tr>\n",
       "      <th>3</th>\n",
       "      <td>2016-01-05 17:31:00</td>\n",
       "      <td>2016-01-05 17:45:00</td>\n",
       "      <td>Business</td>\n",
       "      <td>Fort Pierce</td>\n",
       "      <td>Fort Pierce</td>\n",
       "      <td>4.7</td>\n",
       "      <td>Meeting</td>\n",
       "      <td>17</td>\n",
       "      <td>Evening</td>\n",
       "    </tr>\n",
       "    <tr>\n",
       "      <th>4</th>\n",
       "      <td>2016-01-06 14:42:00</td>\n",
       "      <td>2016-01-06 15:49:00</td>\n",
       "      <td>Business</td>\n",
       "      <td>Fort Pierce</td>\n",
       "      <td>West Palm Beach</td>\n",
       "      <td>63.7</td>\n",
       "      <td>Customer Visit</td>\n",
       "      <td>14</td>\n",
       "      <td>After Noon</td>\n",
       "    </tr>\n",
       "  </tbody>\n",
       "</table>\n",
       "</div>"
      ],
      "text/plain": [
       "           start_date            end_date  category        start  \\\n",
       "0 2016-01-01 21:11:00 2016-01-01 21:17:00  Business  Fort Pierce   \n",
       "1 2016-01-02 01:25:00 2016-01-02 01:37:00  Business  Fort Pierce   \n",
       "2 2016-01-02 20:25:00 2016-01-02 20:38:00  Business  Fort Pierce   \n",
       "3 2016-01-05 17:31:00 2016-01-05 17:45:00  Business  Fort Pierce   \n",
       "4 2016-01-06 14:42:00 2016-01-06 15:49:00  Business  Fort Pierce   \n",
       "\n",
       "              stop  miles          purpose  request_hour   time_slot  \n",
       "0      Fort Pierce    5.1   Meal/Entertain            21       Night  \n",
       "1      Fort Pierce    5.0          Unknown             1    Midnight  \n",
       "2      Fort Pierce    4.8  Errand/Supplies            20       Night  \n",
       "3      Fort Pierce    4.7          Meeting            17     Evening  \n",
       "4  West Palm Beach   63.7   Customer Visit            14  After Noon  "
      ]
     },
     "execution_count": 22,
     "metadata": {},
     "output_type": "execute_result"
    }
   ],
   "source": [
    "data.head()"
   ]
  },
  {
   "cell_type": "code",
   "execution_count": 23,
   "id": "77d6dd6a",
   "metadata": {},
   "outputs": [],
   "source": [
    "time_slot_counts = data.time_slot.value_counts()"
   ]
  },
  {
   "cell_type": "code",
   "execution_count": 24,
   "id": "7fd2e47d",
   "metadata": {},
   "outputs": [
    {
     "data": {
      "text/plain": [
       "Evening          109\n",
       "After Noon        97\n",
       "Night             76\n",
       "Morning           74\n",
       "Late Night        31\n",
       "Afer Noon         28\n",
       "Midnight           3\n",
       "Early Morning      3\n",
       "Name: time_slot, dtype: int64"
      ]
     },
     "execution_count": 24,
     "metadata": {},
     "output_type": "execute_result"
    }
   ],
   "source": [
    "time_slot_counts"
   ]
  },
  {
   "cell_type": "code",
   "execution_count": 25,
   "id": "7767bdea",
   "metadata": {},
   "outputs": [
    {
     "data": {
      "image/png": "[encoded data removed]",
      "text/plain": [
       "<Figure size 432x288 with 1 Axes>"
      ]
     },
     "metadata": {
      "needs_background": "light"
     },
     "output_type": "display_data"
    }
   ],
   "source": [
    "# Visulaization: Distribution of trips in different time slots\n",
    "sns.barplot(x=time_slot_counts.index,y=time_slot_counts.values)\n",
    "plt.title(\"Distribution of trips across time slots\")\n",
    "plt.xlabel('time slots')\n",
    "plt.ylabel(\"number of trips\")\n",
    "plt.xticks(rotation=45)\n",
    "plt.show()"
   ]
  },
  {
   "cell_type": "markdown",
   "id": "1a664371",
   "metadata": {},
   "source": [
    "#### From above graph we can clearly see that the most of the trip booked at Evening, and After noon."
   ]
  },
  {
   "cell_type": "code",
   "execution_count": 26,
   "id": "b07e2fa0",
   "metadata": {},
   "outputs": [
    {
     "data": {
      "image/png": "[encoded data removed]",
      "text/plain": [
       "<Figure size 432x288 with 1 Axes>"
      ]
     },
     "metadata": {
      "needs_background": "light"
     },
     "output_type": "display_data"
    }
   ],
   "source": [
    "# Trip counts by purpose\n",
    "purpose_count = data['purpose'].value_counts()\n",
    "# Plot purpose distribution\n",
    "sns.barplot(x=purpose_count.index,y=purpose_count.values)\n",
    "plt.title(\"Trip counts by purpose\")\n",
    "plt.xlabel(\"Purpose\")\n",
    "plt.ylabel(\"number of trips\")\n",
    "plt.xticks(rotation=90)\n",
    "plt.show()"
   ]
  },
  {
   "cell_type": "code",
   "execution_count": 27,
   "id": "cf259959",
   "metadata": {},
   "outputs": [
    {
     "data": {
      "text/plain": [
       "array([21,  1, 20, 17, 14, 13,  8, 12, 15, 18, 19, 11, 16, 10,  9,  7,  3,\n",
       "       23,  2,  0, 22,  5,  6], dtype=int64)"
      ]
     },
     "execution_count": 27,
     "metadata": {},
     "output_type": "execute_result"
    }
   ],
   "source": [
    "data['request_hour'].unique()"
   ]
  },
  {
   "cell_type": "code",
   "execution_count": 28,
   "id": "dbda888a",
   "metadata": {},
   "outputs": [],
   "source": [
    "def map_time_slot(hour):\n",
    "    if 5 <= hour < 12:\n",
    "        return 'Morning'\n",
    "    elif 12<= hour < 17:\n",
    "        return 'After Noon'\n",
    "    elif 17 <= hour <21:\n",
    "        return 'Evening'\n",
    "    elif 21 <= hour < 24:\n",
    "        return 'Night'\n",
    "    elif 0<= hour < 5:\n",
    "        return 'Late Night'\n",
    "# Apply the function to the 'Request hour' to create the 'time slot' column\n",
    "data['time_slot'] = data['request_hour'].apply(map_time_slot)"
   ]
  },
  {
   "cell_type": "code",
   "execution_count": 29,
   "id": "9bfb32be",
   "metadata": {},
   "outputs": [],
   "source": [
    "# Create a pivot table with sum of 'miles' for each 'time slot' and 'purspose'\n",
    "pivot_table = data.pivot_table(index='time_slot',columns='purpose',values='miles',aggfunc='sum',fill_value=0)"
   ]
  },
  {
   "cell_type": "code",
   "execution_count": 30,
   "id": "6ee05664",
   "metadata": {},
   "outputs": [
    {
     "data": {
      "text/html": [
       "<div>\n",
       "<style scoped>\n",
       "    .dataframe tbody tr th:only-of-type {\n",
       "        vertical-align: middle;\n",
       "    }\n",
       "\n",
       "    .dataframe tbody tr th {\n",
       "        vertical-align: top;\n",
       "    }\n",
       "\n",
       "    .dataframe thead th {\n",
       "        text-align: right;\n",
       "    }\n",
       "</style>\n",
       "<table border=\"1\" class=\"dataframe\">\n",
       "  <thead>\n",
       "    <tr style=\"text-align: right;\">\n",
       "      <th>purpose</th>\n",
       "      <th>Between Offices</th>\n",
       "      <th>Customer Visit</th>\n",
       "      <th>Errand/Supplies</th>\n",
       "      <th>Meal/Entertain</th>\n",
       "      <th>Meeting</th>\n",
       "      <th>Temporary Site</th>\n",
       "      <th>Unknown</th>\n",
       "    </tr>\n",
       "    <tr>\n",
       "      <th>time_slot</th>\n",
       "      <th></th>\n",
       "      <th></th>\n",
       "      <th></th>\n",
       "      <th></th>\n",
       "      <th></th>\n",
       "      <th></th>\n",
       "      <th></th>\n",
       "    </tr>\n",
       "  </thead>\n",
       "  <tbody>\n",
       "    <tr>\n",
       "      <th>After Noon</th>\n",
       "      <td>62.8</td>\n",
       "      <td>426.0</td>\n",
       "      <td>85.1</td>\n",
       "      <td>131.7</td>\n",
       "      <td>343.1</td>\n",
       "      <td>26.4</td>\n",
       "      <td>281.4</td>\n",
       "    </tr>\n",
       "    <tr>\n",
       "      <th>Evening</th>\n",
       "      <td>19.4</td>\n",
       "      <td>260.5</td>\n",
       "      <td>68.1</td>\n",
       "      <td>86.6</td>\n",
       "      <td>120.0</td>\n",
       "      <td>36.3</td>\n",
       "      <td>521.2</td>\n",
       "    </tr>\n",
       "    <tr>\n",
       "      <th>Late Night</th>\n",
       "      <td>0.0</td>\n",
       "      <td>0.0</td>\n",
       "      <td>7.4</td>\n",
       "      <td>14.3</td>\n",
       "      <td>214.5</td>\n",
       "      <td>0.0</td>\n",
       "      <td>5.0</td>\n",
       "    </tr>\n",
       "    <tr>\n",
       "      <th>Morning</th>\n",
       "      <td>12.2</td>\n",
       "      <td>136.5</td>\n",
       "      <td>20.2</td>\n",
       "      <td>28.5</td>\n",
       "      <td>148.2</td>\n",
       "      <td>45.9</td>\n",
       "      <td>266.7</td>\n",
       "    </tr>\n",
       "    <tr>\n",
       "      <th>Night</th>\n",
       "      <td>4.0</td>\n",
       "      <td>34.4</td>\n",
       "      <td>12.9</td>\n",
       "      <td>53.3</td>\n",
       "      <td>293.8</td>\n",
       "      <td>0.0</td>\n",
       "      <td>57.5</td>\n",
       "    </tr>\n",
       "  </tbody>\n",
       "</table>\n",
       "</div>"
      ],
      "text/plain": [
       "purpose     Between Offices  Customer Visit  Errand/Supplies  Meal/Entertain  \\\n",
       "time_slot                                                                      \n",
       "After Noon             62.8           426.0             85.1           131.7   \n",
       "Evening                19.4           260.5             68.1            86.6   \n",
       "Late Night              0.0             0.0              7.4            14.3   \n",
       "Morning                12.2           136.5             20.2            28.5   \n",
       "Night                   4.0            34.4             12.9            53.3   \n",
       "\n",
       "purpose     Meeting  Temporary Site  Unknown  \n",
       "time_slot                                     \n",
       "After Noon    343.1            26.4    281.4  \n",
       "Evening       120.0            36.3    521.2  \n",
       "Late Night    214.5             0.0      5.0  \n",
       "Morning       148.2            45.9    266.7  \n",
       "Night         293.8             0.0     57.5  "
      ]
     },
     "execution_count": 30,
     "metadata": {},
     "output_type": "execute_result"
    }
   ],
   "source": [
    "pivot_table"
   ]
  },
  {
   "cell_type": "code",
   "execution_count": 31,
   "id": "819ddf95",
   "metadata": {},
   "outputs": [
    {
     "data": {
      "image/png": "[encoded data removed]",
      "text/plain": [
       "<Figure size 1008x576 with 1 Axes>"
      ]
     },
     "metadata": {
      "needs_background": "light"
     },
     "output_type": "display_data"
    }
   ],
   "source": [
    "df_pivot = pd.DataFrame(pivot_table)\n",
    "# For visualization, we will melt the DataFrame to work with seaborn\n",
    "df_melted  = df_pivot.reset_index().melt(id_vars='time_slot', var_name='purpose', value_name='miles')\n",
    "\n",
    "plt.figure(figsize=(14,8))\n",
    "sns.barplot(x='purpose',y='miles',hue='time_slot',data=df_melted)\n",
    "plt.title(\"Miles Traveled for Each purpose for different time slots\")\n",
    "plt.xlabel(\"Purpose\")\n",
    "plt.ylabel(\"Miles Traveled\")\n",
    "plt.legend(title=\"Time Slot\")\n",
    "plt.tight_layout()\n",
    "plt.show()\n"
   ]
  },
  {
   "cell_type": "markdown",
   "id": "cceb1242",
   "metadata": {},
   "source": [
    "# Histogram of Trip Miles:\n",
    "The histogram shows a right-skewed distribution of miles traveled per trip, indicating that most trips are short. There's a high frequency of trips with a small number of miles, probably within a city or a short distance. The long trail to the right suggests there are fewer long-distance trips, but they do occur."
   ]
  },
  {
   "cell_type": "code",
   "execution_count": 32,
   "id": "bfb8fd7e",
   "metadata": {},
   "outputs": [
    {
     "data": {
      "image/png": "[encoded data removed]",
      "text/plain": [
       "<Figure size 720x432 with 1 Axes>"
      ]
     },
     "metadata": {
      "needs_background": "light"
     },
     "output_type": "display_data"
    }
   ],
   "source": [
    "plt.figure(figsize=(10,6))\n",
    "sns.histplot(data['miles'],bins=30,kde=True,color='green')\n",
    "plt.title(\"Distribution of Trip Miles\")\n",
    "plt.xlabel(\"Miles\")\n",
    "plt.ylabel(\"Frequency\")\n",
    "plt.grid(True)\n",
    "plt.show()"
   ]
  },
  {
   "cell_type": "markdown",
   "id": "6ce89745",
   "metadata": {},
   "source": [
    "# Comparative Overview of Trip Lengths for Business and Personal Categories\n",
    "The bar chart illustrates the average distance traveled for trips under two distinct categories: Business and Personal. The average mileage for Business trips is shown to be slightly higher than for personal trips. This representation helps in understanding the differences in travel Patterns associated with the purpose of the trips, indicating that Business trips may typically cover longer distances."
   ]
  },
  {
   "cell_type": "code",
   "execution_count": 33,
   "id": "fb9bb2c5",
   "metadata": {},
   "outputs": [
    {
     "data": {
      "image/png": "[encoded data removed]",
      "text/plain": [
       "<Figure size 720x432 with 1 Axes>"
      ]
     },
     "metadata": {
      "needs_background": "light"
     },
     "output_type": "display_data"
    }
   ],
   "source": [
    "avg_distance_per_category = data.groupby('category')['miles'].mean()\n",
    "\n",
    "# Convert the Series to DataFrame for plotting.\n",
    "avg_distance_per_category_df = avg_distance_per_category.reset_index()\n",
    "\n",
    "# Plotting the average distance per category\n",
    "plt.figure(figsize=(10,6))\n",
    "sns.barplot(x='category',y='miles',data=avg_distance_per_category_df)\n",
    "plt.title(\"Average Distance Traveled per Category\")\n",
    "plt.xlabel(\"Category\")\n",
    "plt.ylabel(\"Average Distance (miles)\")\n",
    "plt.xticks(rotation=45)\n",
    "\n",
    "plt.show()"
   ]
  },
  {
   "cell_type": "markdown",
   "id": "28fbe72c",
   "metadata": {},
   "source": [
    "# Bar chart of Trip Categories:\n",
    "This chart clearly indicates the predomiance of one category over the other. If, for example,'Business' trips are significantly more than 'Personal' trips, it suggests that the dataset is primarily comprised of business-related travel.The imbalance between the categores could be relevant for any analysis or model training, as it indicates a skew in the types of trips recorded. "
   ]
  },
  {
   "cell_type": "code",
   "execution_count": 34,
   "id": "6066a791",
   "metadata": {},
   "outputs": [
    {
     "data": {
      "image/png": "[encoded data removed]",
      "text/plain": [
       "<Figure size 720x432 with 1 Axes>"
      ]
     },
     "metadata": {
      "needs_background": "light"
     },
     "output_type": "display_data"
    }
   ],
   "source": [
    "plt.figure(figsize=(10,6))\n",
    "sns.countplot(data,x='category')\n",
    "plt.title('Frequency of Trip categories')\n",
    "plt.xlabel('Category')\n",
    "plt.ylabel(\"Count\")\n",
    "plt.grid(axis='y')\n",
    "plt.show()"
   ]
  },
  {
   "cell_type": "markdown",
   "id": "8ec9a676",
   "metadata": {},
   "source": [
    "# Scatter plot of Time of Day vs. Miles Traveled:\n",
    "This scatter plot helps in understanding if there's any correlation between the time of day and the length of the trip. A concentration of points during certain hours could indicate popular times for trips. Any visible pattern, like longer trips occuring during certain hours, could suggest trends like longer commutes or travel during specific tiems of the day.\n",
    "\n",
    "Each chart provides a different perespective on the data, revealing various aspects of trip behavior, preferences, and patterns. By analyzing these visualizations, one can gain a deeper understanding of the underlying dynamics of the trip data."
   ]
  },
  {
   "cell_type": "code",
   "execution_count": 35,
   "id": "0f39c418",
   "metadata": {},
   "outputs": [
    {
     "data": {
      "image/png": "[encoded data removed]",
      "text/plain": [
       "<Figure size 864x432 with 1 Axes>"
      ]
     },
     "metadata": {
      "needs_background": "light"
     },
     "output_type": "display_data"
    }
   ],
   "source": [
    "data['hour_of_day'] = data['start_date'].dt.hour\n",
    "plt.figure(figsize=(12,6))\n",
    "sns.scatterplot(data=data,x='hour_of_day',y='miles')\n",
    "plt.title('Relationship between time of day and miles traveled')\n",
    "plt.xlabel(\"Hour of day\")\n",
    "plt.ylabel(\"Miles\")\n",
    "plt.grid(True)\n",
    "plt.show()"
   ]
  },
  {
   "cell_type": "markdown",
   "id": "85435603",
   "metadata": {},
   "source": [
    "# Uber Trip Trends Over the Year\n",
    "- The line graph illustrates the frequency of daily Uber trips over teh course of a year, with the x-axis representing time from January to December and the y-axis indicating the number og trips per day. the plot show variability in trip frequecy, with certain days experiencing higher numbers of trips. There are notable peaks which may correspond to special events or holidays. The overall trend suggests fluctuating demand with no clear pattern of seasonality, highlighting the dynamic nature of ride-hailing services."
   ]
  },
  {
   "cell_type": "code",
   "execution_count": 39,
   "id": "8ab9291e",
   "metadata": {},
   "outputs": [
    {
     "data": {
      "image/png": "[encoded data removed]",
      "text/plain": [
       "<Figure size 864x432 with 1 Axes>"
      ]
     },
     "metadata": {
      "needs_background": "light"
     },
     "output_type": "display_data"
    }
   ],
   "source": [
    "daily_trips = data.resample('D',on='start_date').size()\n",
    "plt.figure(figsize=(12,6))\n",
    "daily_trips.plot(title=\"Daily Trip Frequencies\",color = 'g')\n",
    "plt.xlabel(\"Date\")\n",
    "plt.ylabel(\"Number of Trips\")\n",
    "plt.grid(True)\n",
    "plt.show()"
   ]
  },
  {
   "cell_type": "markdown",
   "id": "fee35982",
   "metadata": {},
   "source": [
    "# Histogram of Uber Trip Durations\n",
    "- The historgram displays the distribution of trip durations for Uber rides, with the duration in minutes on the x-axis and the frequency of trips on the y-axis. The majority of trips are short, with durations clustered around 5 to 15 minutes. The frequency dramatically decreases for longer trips, indicating that longer rides are much less common. This pattern suggest that the Uber service is predominantly used for short to medium-length journeys.\n"
   ]
  },
  {
   "cell_type": "code",
   "execution_count": 43,
   "id": "917f2e7a",
   "metadata": {},
   "outputs": [
    {
     "data": {
      "image/png": "[encoded data removed]",
      "text/plain": [
       "<Figure size 720x360 with 1 Axes>"
      ]
     },
     "metadata": {
      "needs_background": "light"
     },
     "output_type": "display_data"
    }
   ],
   "source": [
    "data['duration'] =( data['end_date'] - data['start_date']).dt.total_seconds()/60\n",
    "\n",
    "# plot distribution of trips durations\n",
    "plt.figure(figsize=(10,5))\n",
    "sns.histplot(data['duration'],bins=30,kde=True)\n",
    "plt.title(\"Distribution of Trip Durations\")\n",
    "plt.xlabel(\"Duration(minutes)\")\n",
    "plt.ylabel(\"Frequency\")\n",
    "plt.show()"
   ]
  },
  {
   "cell_type": "code",
   "execution_count": 44,
   "id": "1e24be40",
   "metadata": {},
   "outputs": [
    {
     "data": {
      "text/html": [
       "<div>\n",
       "<style scoped>\n",
       "    .dataframe tbody tr th:only-of-type {\n",
       "        vertical-align: middle;\n",
       "    }\n",
       "\n",
       "    .dataframe tbody tr th {\n",
       "        vertical-align: top;\n",
       "    }\n",
       "\n",
       "    .dataframe thead th {\n",
       "        text-align: right;\n",
       "    }\n",
       "</style>\n",
       "<table border=\"1\" class=\"dataframe\">\n",
       "  <thead>\n",
       "    <tr style=\"text-align: right;\">\n",
       "      <th></th>\n",
       "      <th>start_date</th>\n",
       "      <th>end_date</th>\n",
       "      <th>category</th>\n",
       "      <th>start</th>\n",
       "      <th>stop</th>\n",
       "      <th>miles</th>\n",
       "      <th>purpose</th>\n",
       "      <th>request_hour</th>\n",
       "      <th>time_slot</th>\n",
       "      <th>hour_of_day</th>\n",
       "      <th>duration</th>\n",
       "    </tr>\n",
       "  </thead>\n",
       "  <tbody>\n",
       "    <tr>\n",
       "      <th>0</th>\n",
       "      <td>2016-01-01 21:11:00</td>\n",
       "      <td>2016-01-01 21:17:00</td>\n",
       "      <td>Business</td>\n",
       "      <td>Fort Pierce</td>\n",
       "      <td>Fort Pierce</td>\n",
       "      <td>5.1</td>\n",
       "      <td>Meal/Entertain</td>\n",
       "      <td>21</td>\n",
       "      <td>Night</td>\n",
       "      <td>21</td>\n",
       "      <td>6.0</td>\n",
       "    </tr>\n",
       "    <tr>\n",
       "      <th>1</th>\n",
       "      <td>2016-01-02 01:25:00</td>\n",
       "      <td>2016-01-02 01:37:00</td>\n",
       "      <td>Business</td>\n",
       "      <td>Fort Pierce</td>\n",
       "      <td>Fort Pierce</td>\n",
       "      <td>5.0</td>\n",
       "      <td>Unknown</td>\n",
       "      <td>1</td>\n",
       "      <td>Late Night</td>\n",
       "      <td>1</td>\n",
       "      <td>12.0</td>\n",
       "    </tr>\n",
       "    <tr>\n",
       "      <th>2</th>\n",
       "      <td>2016-01-02 20:25:00</td>\n",
       "      <td>2016-01-02 20:38:00</td>\n",
       "      <td>Business</td>\n",
       "      <td>Fort Pierce</td>\n",
       "      <td>Fort Pierce</td>\n",
       "      <td>4.8</td>\n",
       "      <td>Errand/Supplies</td>\n",
       "      <td>20</td>\n",
       "      <td>Evening</td>\n",
       "      <td>20</td>\n",
       "      <td>13.0</td>\n",
       "    </tr>\n",
       "    <tr>\n",
       "      <th>3</th>\n",
       "      <td>2016-01-05 17:31:00</td>\n",
       "      <td>2016-01-05 17:45:00</td>\n",
       "      <td>Business</td>\n",
       "      <td>Fort Pierce</td>\n",
       "      <td>Fort Pierce</td>\n",
       "      <td>4.7</td>\n",
       "      <td>Meeting</td>\n",
       "      <td>17</td>\n",
       "      <td>Evening</td>\n",
       "      <td>17</td>\n",
       "      <td>14.0</td>\n",
       "    </tr>\n",
       "    <tr>\n",
       "      <th>4</th>\n",
       "      <td>2016-01-06 14:42:00</td>\n",
       "      <td>2016-01-06 15:49:00</td>\n",
       "      <td>Business</td>\n",
       "      <td>Fort Pierce</td>\n",
       "      <td>West Palm Beach</td>\n",
       "      <td>63.7</td>\n",
       "      <td>Customer Visit</td>\n",
       "      <td>14</td>\n",
       "      <td>After Noon</td>\n",
       "      <td>14</td>\n",
       "      <td>67.0</td>\n",
       "    </tr>\n",
       "  </tbody>\n",
       "</table>\n",
       "</div>"
      ],
      "text/plain": [
       "           start_date            end_date  category        start  \\\n",
       "0 2016-01-01 21:11:00 2016-01-01 21:17:00  Business  Fort Pierce   \n",
       "1 2016-01-02 01:25:00 2016-01-02 01:37:00  Business  Fort Pierce   \n",
       "2 2016-01-02 20:25:00 2016-01-02 20:38:00  Business  Fort Pierce   \n",
       "3 2016-01-05 17:31:00 2016-01-05 17:45:00  Business  Fort Pierce   \n",
       "4 2016-01-06 14:42:00 2016-01-06 15:49:00  Business  Fort Pierce   \n",
       "\n",
       "              stop  miles          purpose  request_hour   time_slot  \\\n",
       "0      Fort Pierce    5.1   Meal/Entertain            21       Night   \n",
       "1      Fort Pierce    5.0          Unknown             1  Late Night   \n",
       "2      Fort Pierce    4.8  Errand/Supplies            20     Evening   \n",
       "3      Fort Pierce    4.7          Meeting            17     Evening   \n",
       "4  West Palm Beach   63.7   Customer Visit            14  After Noon   \n",
       "\n",
       "   hour_of_day  duration  \n",
       "0           21       6.0  \n",
       "1            1      12.0  \n",
       "2           20      13.0  \n",
       "3           17      14.0  \n",
       "4           14      67.0  "
      ]
     },
     "execution_count": 44,
     "metadata": {},
     "output_type": "execute_result"
    }
   ],
   "source": [
    "data.head()"
   ]
  },
  {
   "cell_type": "code",
   "execution_count": null,
   "id": "fd16be66",
   "metadata": {},
   "outputs": [],
   "source": []
  }
 ],
 "metadata": {
  "kernelspec": {
   "display_name": "Python 3 (ipykernel)",
   "language": "python",
   "name": "python3"
  },
  "language_info": {
   "codemirror_mode": {
    "name": "ipython",
    "version": 3
   },
   "file_extension": ".py",
   "mimetype": "text/x-python",
   "name": "python",
   "nbconvert_exporter": "python",
   "pygments_lexer": "ipython3",
   "version": "3.9.6"
  }
 },
 "nbformat": 4,
 "nbformat_minor": 5
}
