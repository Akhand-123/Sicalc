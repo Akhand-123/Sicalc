{
 "cells": [
  {
   "cell_type": "markdown",
   "id": "b6aa89e7",
   "metadata": {},
   "source": [
    "# Merge two Python dictionaries into one "
   ]
  },
  {
   "cell_type": "code",
   "execution_count": 1,
   "id": "e59dcc86",
   "metadata": {},
   "outputs": [
    {
     "name": "stdout",
     "output_type": "stream",
     "text": [
      "{'name': 'Akhand', 'degree': 'B.tech', 'course': 'Data Science', 'batch': 'DS060623'}\n"
     ]
    }
   ],
   "source": [
    "d1={'name':\"Akhand\",\"degree\":\"B.tech\",\"course\":'Data Science'}\n",
    "d2={\"batch\":\"DS060623\"}\n",
    "d1.update(d2)\n",
    "print(d1)"
   ]
  },
  {
   "cell_type": "code",
   "execution_count": 2,
   "id": "e9e369e4",
   "metadata": {},
   "outputs": [
    {
     "name": "stdout",
     "output_type": "stream",
     "text": [
      "name degree course "
     ]
    }
   ],
   "source": [
    "# Extract all keys from the Dictionary\n",
    "d1={'name':\"Akhand\",\"degree\":\"B.tech\",\"course\":'Data Science'}\n",
    "for i in d1.keys():\n",
    "    print(i,end = \" \")"
   ]
  },
  {
   "cell_type": "markdown",
   "id": "3bbe13d8",
   "metadata": {},
   "source": [
    "# Extract all values from the Dictionray"
   ]
  },
  {
   "cell_type": "code",
   "execution_count": 4,
   "id": "80b05ab2",
   "metadata": {},
   "outputs": [
    {
     "name": "stdout",
     "output_type": "stream",
     "text": [
      "Akhand B.tech Data Science "
     ]
    }
   ],
   "source": [
    "d1={'name':\"Akhand\",\"degree\":\"B.tech\",\"course\":'Data Science'}\n",
    "for i in d1.values():\n",
    "    print(i,end=\" \")"
   ]
  },
  {
   "cell_type": "markdown",
   "id": "39976df5",
   "metadata": {},
   "source": [
    "# Extract both keys and values from the Dictionary"
   ]
  },
  {
   "cell_type": "code",
   "execution_count": 7,
   "id": "eb3add66",
   "metadata": {},
   "outputs": [
    {
     "name": "stdout",
     "output_type": "stream",
     "text": [
      "for key name value is Akhand\n",
      "for key degree value is B.tech\n",
      "for key course value is Data Science\n"
     ]
    }
   ],
   "source": [
    "d1={'name':\"Akhand\",\"degree\":\"B.tech\",\"course\":'Data Science'}\n",
    "for key,value in d1.items():\n",
    "    print(f\"for key {key} value is {value}\")\n",
    "    "
   ]
  },
  {
   "cell_type": "markdown",
   "id": "c614aac4",
   "metadata": {},
   "source": [
    "# Create your own dictionary like this: d={1:2,2:3,3:4,4:5,5:6}"
   ]
  },
  {
   "cell_type": "code",
   "execution_count": 8,
   "id": "fd1b3bc4",
   "metadata": {},
   "outputs": [
    {
     "name": "stdout",
     "output_type": "stream",
     "text": [
      "{1: 2, 2: 3, 3: 4, 4: 5, 5: 6}\n"
     ]
    }
   ],
   "source": [
    "d={}\n",
    "for i in range(1,6):\n",
    "    d[i]=i+1\n",
    "print(d)"
   ]
  },
  {
   "cell_type": "markdown",
   "id": "dbd45e50",
   "metadata": {},
   "source": [
    "# Create your own dictionary like this: d={2:4,3:6,4:8,5:10,6:12}"
   ]
  },
  {
   "cell_type": "code",
   "execution_count": 9,
   "id": "e6ae5e9d",
   "metadata": {},
   "outputs": [
    {
     "name": "stdout",
     "output_type": "stream",
     "text": [
      "{2: 4, 3: 6, 4: 8, 5: 10, 6: 12}\n"
     ]
    }
   ],
   "source": [
    "d = {}\n",
    "for i in range(2,7):\n",
    "    d[i]=i*2\n",
    "print(d)"
   ]
  },
  {
   "cell_type": "markdown",
   "id": "355bbfb5",
   "metadata": {},
   "source": [
    "# Create your own Dictionary like this: d={2:4,4:8,6:12,8:16,10:20}"
   ]
  },
  {
   "cell_type": "code",
   "execution_count": 10,
   "id": "7dc54f57",
   "metadata": {},
   "outputs": [
    {
     "name": "stdout",
     "output_type": "stream",
     "text": [
      "{2: 4, 4: 8, 6: 12, 8: 16, 10: 20}\n"
     ]
    }
   ],
   "source": [
    "d = {}\n",
    "for i in range(2,11,2):\n",
    "    d[i]=i*2\n",
    "print(d)"
   ]
  },
  {
   "cell_type": "markdown",
   "id": "0a21df3f",
   "metadata": {},
   "source": [
    "# Create your own Dictionary like this: d={1:1,2:8,3:27,4:64,5:125}\n"
   ]
  },
  {
   "cell_type": "code",
   "execution_count": 11,
   "id": "5280a938",
   "metadata": {},
   "outputs": [
    {
     "name": "stdout",
     "output_type": "stream",
     "text": [
      "{1: 1, 2: 8, 3: 27, 4: 64, 5: 125}\n"
     ]
    }
   ],
   "source": [
    "d = {}\n",
    "for i in range(1,6):\n",
    "    d[i]=i**3\n",
    "print(d)"
   ]
  },
  {
   "cell_type": "markdown",
   "id": "42598613",
   "metadata": {},
   "source": [
    "# Create your own dictionary like this: d={5:15,7:21,9:27,11:33,13:39}"
   ]
  },
  {
   "cell_type": "code",
   "execution_count": 12,
   "id": "066f43b0",
   "metadata": {},
   "outputs": [
    {
     "name": "stdout",
     "output_type": "stream",
     "text": [
      "{5: 15, 7: 21, 9: 27, 11: 33, 13: 39}\n"
     ]
    }
   ],
   "source": [
    "d={}\n",
    "for i in range(5,14,2):\n",
    "    d[i]=i*3\n",
    "print(d)"
   ]
  },
  {
   "cell_type": "markdown",
   "id": "665c4bc8",
   "metadata": {},
   "source": [
    "# Python program to find the size of the dictionary"
   ]
  },
  {
   "cell_type": "code",
   "execution_count": 13,
   "id": "f3469df9",
   "metadata": {},
   "outputs": [
    {
     "name": "stdout",
     "output_type": "stream",
     "text": [
      "3\n"
     ]
    }
   ],
   "source": [
    "d1={'name':\"Akhand\",\"degree\":\"B.tech\",\"course\":'Data Science'}\n",
    "print(len(d1))"
   ]
  },
  {
   "cell_type": "markdown",
   "id": "f18ce9bd",
   "metadata": {},
   "source": [
    "# Python program to find the sum of all items in a dictionary"
   ]
  },
  {
   "cell_type": "code",
   "execution_count": 14,
   "id": "6aa66c62",
   "metadata": {},
   "outputs": [
    {
     "name": "stdout",
     "output_type": "stream",
     "text": [
      "Sum of keys in dictionary 45\n",
      "Sum of values in dictionary 135\n"
     ]
    }
   ],
   "source": [
    "d={5: 15, 7: 21, 9: 27, 11: 33, 13: 39}\n",
    "sum_key=0\n",
    "sum_value=0\n",
    "for key,value in d.items():\n",
    "    sum_key +=key\n",
    "    sum_value +=value\n",
    "print(f\"Sum of keys in dictionary {sum_key}\")\n",
    "print(f\"Sum of values in dictionary {sum_value}\")\n",
    "    "
   ]
  },
  {
   "cell_type": "markdown",
   "id": "bc93e67c",
   "metadata": {},
   "source": [
    "# Write a python program to sort (ascending and descenting) a dictionary by value"
   ]
  },
  {
   "cell_type": "code",
   "execution_count": 24,
   "id": "06eea7ae",
   "metadata": {},
   "outputs": [
    {
     "name": "stdout",
     "output_type": "stream",
     "text": [
      "[64, 39, 33, 27, 27, 21, 15, 8, 1]\n",
      "[1, 8, 15, 21, 27, 27, 33, 39, 64]\n"
     ]
    }
   ],
   "source": [
    "d={5: 15, 7: 21, 9: 27, 11: 33, 13: 39,1:1,2:8,3:27,4:64}\n",
    "lst = []\n",
    "for value in d.values():\n",
    "    lst.append(value)\n",
    "print(sorted(lst,reverse=True))\n",
    "print(sorted(lst))\n"
   ]
  },
  {
   "cell_type": "markdown",
   "id": "20e68837",
   "metadata": {},
   "source": [
    "# Write a python program to add a key to a dictionary"
   ]
  },
  {
   "cell_type": "code",
   "execution_count": 25,
   "id": "d9437a37",
   "metadata": {},
   "outputs": [
    {
     "name": "stdout",
     "output_type": "stream",
     "text": [
      "{'name': 'akhand', 'gf': 'sappunda'}\n"
     ]
    }
   ],
   "source": [
    "d={}\n",
    "d[\"name\"]=\"akhand\"\n",
    "d[\"gf\"]=\"sappunda\"\n",
    "print(d)"
   ]
  },
  {
   "cell_type": "markdown",
   "id": "3a7b23be",
   "metadata": {},
   "source": [
    "#  Write a python program to delete a key to a dictionary"
   ]
  },
  {
   "cell_type": "code",
   "execution_count": 26,
   "id": "02dc3df7",
   "metadata": {},
   "outputs": [
    {
     "name": "stdout",
     "output_type": "stream",
     "text": [
      "{7: 21, 9: 27, 11: 33, 13: 39}\n"
     ]
    }
   ],
   "source": [
    "d={5: 15, 7: 21, 9: 27, 11: 33, 13: 39}\n",
    "del d[5]\n",
    "print(d)"
   ]
  },
  {
   "cell_type": "code",
   "execution_count": 27,
   "id": "04f9c9a1",
   "metadata": {},
   "outputs": [
    {
     "name": "stdout",
     "output_type": "stream",
     "text": [
      "key is 5 and its value is 15\n",
      "key is 7 and its value is 21\n",
      "key is 9 and its value is 27\n",
      "key is 11 and its value is 33\n",
      "key is 13 and its value is 39\n"
     ]
    }
   ],
   "source": [
    "d={5: 15, 7: 21, 9: 27, 11: 33, 13: 39}\n",
    "for key,value in d.items():\n",
    "    print(f\"key is {key} and its value is {value}\")"
   ]
  },
  {
   "cell_type": "markdown",
   "id": "3769e0df",
   "metadata": {},
   "source": [
    "# Write a python program to get the maximum and minimum value in a dictionary"
   ]
  },
  {
   "cell_type": "code",
   "execution_count": 33,
   "id": "53a1656a",
   "metadata": {},
   "outputs": [
    {
     "name": "stdout",
     "output_type": "stream",
     "text": [
      "maximum values in keys 13 and min values in keys 1\n",
      "maximum values 64 and min value 1\n",
      "[5, 7, 9, 11, 13, 1, 2, 3, 4, 15, 21, 27, 33, 39, 1, 8, 27, 64]\n",
      "max in both keys and values 64 min in both 1\n"
     ]
    }
   ],
   "source": [
    "d={5: 15, 7: 21, 9: 27, 11: 33, 13: 39,1:1,2:8,3:27,4:64}\n",
    "keys=[]\n",
    "values=[]\n",
    "for key,value in d.items():\n",
    "    keys.append(key)\n",
    "    values.append(value)\n",
    "print(f\"maximum values in keys {max(keys)} and min values in keys {min(keys)}\")\n",
    "print(f\"maximum values {max(values)} and min value {min(values)}\")\n",
    "keys.extend(values)\n",
    "print(keys)\n",
    "print(f\"max in both keys and values {max(keys)} min in both {min(keys)}\")"
   ]
  },
  {
   "cell_type": "markdown",
   "id": "3ce4a50e",
   "metadata": {},
   "source": [
    "# Write a python program to check a dictionary is empty or not"
   ]
  },
  {
   "cell_type": "code",
   "execution_count": 34,
   "id": "35376bd7",
   "metadata": {},
   "outputs": [
    {
     "name": "stdout",
     "output_type": "stream",
     "text": [
      "dictionary is empty\n"
     ]
    }
   ],
   "source": [
    "d={}\n",
    "if len(d)==0:\n",
    "    print(\"dictionary is empty\")\n",
    "else:\n",
    "    print(\"dictionary is not empty\")"
   ]
  },
  {
   "cell_type": "markdown",
   "id": "d5381b39",
   "metadata": {},
   "source": [
    "# Write a Python program to print a dictionary line by line "
   ]
  },
  {
   "cell_type": "code",
   "execution_count": 35,
   "id": "2a6ad5fd",
   "metadata": {},
   "outputs": [
    {
     "name": "stdout",
     "output_type": "stream",
     "text": [
      "5 : 15\n",
      "7 : 21\n",
      "9 : 27\n",
      "11 : 33\n",
      "13 : 39\n",
      "1 : 1\n",
      "2 : 8\n",
      "3 : 27\n",
      "4 : 64\n"
     ]
    }
   ],
   "source": [
    "d={5: 15, 7: 21, 9: 27, 11: 33, 13: 39,1:1,2:8,3:27,4:64}\n",
    "for key, value in d.items():\n",
    "    print(f\"{key} : {value}\")"
   ]
  },
  {
   "cell_type": "code",
   "execution_count": null,
   "id": "63b197a5",
   "metadata": {},
   "outputs": [],
   "source": []
  }
 ],
 "metadata": {
  "kernelspec": {
   "display_name": "Python 3 (ipykernel)",
   "language": "python",
   "name": "python3"
  },
  "language_info": {
   "codemirror_mode": {
    "name": "ipython",
    "version": 3
   },
   "file_extension": ".py",
   "mimetype": "text/x-python",
   "name": "python",
   "nbconvert_exporter": "python",
   "pygments_lexer": "ipython3",
   "version": "3.9.6"
  }
 },
 "nbformat": 4,
 "nbformat_minor": 5
}
