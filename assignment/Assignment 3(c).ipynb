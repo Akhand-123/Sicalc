{
 "cells": [
  {
   "cell_type": "markdown",
   "id": "d8605288",
   "metadata": {},
   "source": [
    "# Problem statement:-\n",
    "- Recently you entered in the mobile manufacturing market. Build a machine learning model that would help you to know the estimated price for your manufactured mobile phones on the basis of various key features and specifications."
   ]
  },
  {
   "cell_type": "code",
   "execution_count": 1,
   "id": "19bf5bdd",
   "metadata": {},
   "outputs": [],
   "source": [
    "# Importing libraries \n",
    "import pandas as pd\n",
    "import numpy as np\n",
    "import matplotlib.pyplot as plt\n",
    "import seaborn as sns\n",
    "import warnings\n",
    "warnings.filterwarnings('ignore')"
   ]
  },
  {
   "cell_type": "code",
   "execution_count": 2,
   "id": "b8907687",
   "metadata": {},
   "outputs": [
    {
     "data": {
      "text/html": [
       "<div>\n",
       "<style scoped>\n",
       "    .dataframe tbody tr th:only-of-type {\n",
       "        vertical-align: middle;\n",
       "    }\n",
       "\n",
       "    .dataframe tbody tr th {\n",
       "        vertical-align: top;\n",
       "    }\n",
       "\n",
       "    .dataframe thead th {\n",
       "        text-align: right;\n",
       "    }\n",
       "</style>\n",
       "<table border=\"1\" class=\"dataframe\">\n",
       "  <thead>\n",
       "    <tr style=\"text-align: right;\">\n",
       "      <th></th>\n",
       "      <th>mobile_name</th>\n",
       "      <th>mobile_price</th>\n",
       "      <th>mobile_color</th>\n",
       "      <th>dual_sim</th>\n",
       "      <th>disp_size</th>\n",
       "      <th>resolution</th>\n",
       "      <th>os</th>\n",
       "      <th>num_cores</th>\n",
       "      <th>mp_speed</th>\n",
       "      <th>int_memory</th>\n",
       "      <th>ram</th>\n",
       "      <th>p_cam</th>\n",
       "      <th>f_cam</th>\n",
       "      <th>network</th>\n",
       "      <th>bluetooth</th>\n",
       "      <th>battery_power</th>\n",
       "      <th>mob_width</th>\n",
       "      <th>mob_height</th>\n",
       "      <th>mob_depth</th>\n",
       "      <th>mob_weight</th>\n",
       "    </tr>\n",
       "  </thead>\n",
       "  <tbody>\n",
       "    <tr>\n",
       "      <th>0</th>\n",
       "      <td>Realme Narzo 10A (So White, 32 GB)</td>\n",
       "      <td>₹8,999</td>\n",
       "      <td>So White</td>\n",
       "      <td>Dual Sim</td>\n",
       "      <td>16.56 cm (6.52 inch)</td>\n",
       "      <td>1600 x 720 Pixels</td>\n",
       "      <td>Android 10</td>\n",
       "      <td>Octa Core</td>\n",
       "      <td>2 GHz</td>\n",
       "      <td>32 GB</td>\n",
       "      <td>3 GB</td>\n",
       "      <td>12MP + 2MP + 2MP</td>\n",
       "      <td>5MP Front Camera</td>\n",
       "      <td>4G VOLTE, 4G, 3G, 2G</td>\n",
       "      <td>Yes</td>\n",
       "      <td>5000 mAh</td>\n",
       "      <td>75 mm</td>\n",
       "      <td>164.4 mm</td>\n",
       "      <td>8.95 mm</td>\n",
       "      <td>195 g</td>\n",
       "    </tr>\n",
       "    <tr>\n",
       "      <th>1</th>\n",
       "      <td>Realme Narzo 10A (So Blue, 32 GB)</td>\n",
       "      <td>₹8,999</td>\n",
       "      <td>So Blue</td>\n",
       "      <td>Dual Sim</td>\n",
       "      <td>16.56 cm (6.52 inch)</td>\n",
       "      <td>1600 x 720 Pixels</td>\n",
       "      <td>Android 10</td>\n",
       "      <td>Octa Core</td>\n",
       "      <td>2 GHz</td>\n",
       "      <td>32 GB</td>\n",
       "      <td>3 GB</td>\n",
       "      <td>12MP + 2MP + 2MP</td>\n",
       "      <td>5MP Front Camera</td>\n",
       "      <td>4G VOLTE, 4G, 3G, 2G</td>\n",
       "      <td>Yes</td>\n",
       "      <td>5000 mAh</td>\n",
       "      <td>75 mm</td>\n",
       "      <td>164.4 mm</td>\n",
       "      <td>8.95 mm</td>\n",
       "      <td>195 g</td>\n",
       "    </tr>\n",
       "    <tr>\n",
       "      <th>2</th>\n",
       "      <td>Realme Narzo 10A (So Blue, 64 GB)</td>\n",
       "      <td>₹9,999</td>\n",
       "      <td>So Blue</td>\n",
       "      <td>Dual Sim</td>\n",
       "      <td>16.56 cm (6.52 inch)</td>\n",
       "      <td>1600 x 720 Pixels</td>\n",
       "      <td>Android 10</td>\n",
       "      <td>Octa Core</td>\n",
       "      <td>2 GHz</td>\n",
       "      <td>64 GB</td>\n",
       "      <td>4 GB</td>\n",
       "      <td>12MP + 2MP + 2MP</td>\n",
       "      <td>5MP Front Camera</td>\n",
       "      <td>4G VOLTE, 4G, 3G, 2G</td>\n",
       "      <td>Yes</td>\n",
       "      <td>5000 mAh</td>\n",
       "      <td>75 mm</td>\n",
       "      <td>164.4 mm</td>\n",
       "      <td>8.95 mm</td>\n",
       "      <td>195 g</td>\n",
       "    </tr>\n",
       "    <tr>\n",
       "      <th>3</th>\n",
       "      <td>Realme Narzo 10A (So White, 64 GB)</td>\n",
       "      <td>₹9,999</td>\n",
       "      <td>So White</td>\n",
       "      <td>Dual Sim</td>\n",
       "      <td>16.56 cm (6.52 inch)</td>\n",
       "      <td>1600 x 720 Pixels</td>\n",
       "      <td>Android 10</td>\n",
       "      <td>Octa Core</td>\n",
       "      <td>2 GHz</td>\n",
       "      <td>64 GB</td>\n",
       "      <td>4 GB</td>\n",
       "      <td>12MP + 2MP + 2MP</td>\n",
       "      <td>5MP Front Camera</td>\n",
       "      <td>4G VOLTE, 4G, 3G, 2G</td>\n",
       "      <td>Yes</td>\n",
       "      <td>5000 mAh</td>\n",
       "      <td>75 mm</td>\n",
       "      <td>164.4 mm</td>\n",
       "      <td>8.95 mm</td>\n",
       "      <td>195 g</td>\n",
       "    </tr>\n",
       "    <tr>\n",
       "      <th>4</th>\n",
       "      <td>Realme Narzo 10 (That Green, 128 GB)</td>\n",
       "      <td>₹11,999</td>\n",
       "      <td>That Green</td>\n",
       "      <td>Dual Sim</td>\n",
       "      <td>16.51 cm (6.5 inch)</td>\n",
       "      <td>1600 x 720 Pixels</td>\n",
       "      <td>Android 10</td>\n",
       "      <td>Octa Core</td>\n",
       "      <td>2 GHz</td>\n",
       "      <td>128 GB</td>\n",
       "      <td>4 GB</td>\n",
       "      <td>48MP + 8MP + 2MP + 2MP</td>\n",
       "      <td>16MP Front Camera</td>\n",
       "      <td>4G VOLTE, 4G, 3G, 2G</td>\n",
       "      <td>Yes</td>\n",
       "      <td>5000 mAh</td>\n",
       "      <td>75.4 mm</td>\n",
       "      <td>164.4 mm</td>\n",
       "      <td>9 mm</td>\n",
       "      <td>199 g</td>\n",
       "    </tr>\n",
       "  </tbody>\n",
       "</table>\n",
       "</div>"
      ],
      "text/plain": [
       "                            mobile_name mobile_price mobile_color  dual_sim  \\\n",
       "0    Realme Narzo 10A (So White, 32 GB)       ₹8,999     So White  Dual Sim   \n",
       "1     Realme Narzo 10A (So Blue, 32 GB)       ₹8,999      So Blue  Dual Sim   \n",
       "2     Realme Narzo 10A (So Blue, 64 GB)       ₹9,999      So Blue  Dual Sim   \n",
       "3    Realme Narzo 10A (So White, 64 GB)       ₹9,999     So White  Dual Sim   \n",
       "4  Realme Narzo 10 (That Green, 128 GB)      ₹11,999   That Green  Dual Sim   \n",
       "\n",
       "              disp_size         resolution          os  num_cores mp_speed  \\\n",
       "0  16.56 cm (6.52 inch)  1600 x 720 Pixels  Android 10  Octa Core    2 GHz   \n",
       "1  16.56 cm (6.52 inch)  1600 x 720 Pixels  Android 10  Octa Core    2 GHz   \n",
       "2  16.56 cm (6.52 inch)  1600 x 720 Pixels  Android 10  Octa Core    2 GHz   \n",
       "3  16.56 cm (6.52 inch)  1600 x 720 Pixels  Android 10  Octa Core    2 GHz   \n",
       "4   16.51 cm (6.5 inch)  1600 x 720 Pixels  Android 10  Octa Core    2 GHz   \n",
       "\n",
       "  int_memory   ram                   p_cam              f_cam  \\\n",
       "0      32 GB  3 GB        12MP + 2MP + 2MP   5MP Front Camera   \n",
       "1      32 GB  3 GB        12MP + 2MP + 2MP   5MP Front Camera   \n",
       "2      64 GB  4 GB        12MP + 2MP + 2MP   5MP Front Camera   \n",
       "3      64 GB  4 GB        12MP + 2MP + 2MP   5MP Front Camera   \n",
       "4     128 GB  4 GB  48MP + 8MP + 2MP + 2MP  16MP Front Camera   \n",
       "\n",
       "                network bluetooth battery_power mob_width mob_height  \\\n",
       "0  4G VOLTE, 4G, 3G, 2G       Yes      5000 mAh     75 mm   164.4 mm   \n",
       "1  4G VOLTE, 4G, 3G, 2G       Yes      5000 mAh     75 mm   164.4 mm   \n",
       "2  4G VOLTE, 4G, 3G, 2G       Yes      5000 mAh     75 mm   164.4 mm   \n",
       "3  4G VOLTE, 4G, 3G, 2G       Yes      5000 mAh     75 mm   164.4 mm   \n",
       "4  4G VOLTE, 4G, 3G, 2G       Yes      5000 mAh   75.4 mm   164.4 mm   \n",
       "\n",
       "  mob_depth mob_weight  \n",
       "0   8.95 mm      195 g  \n",
       "1   8.95 mm      195 g  \n",
       "2   8.95 mm      195 g  \n",
       "3   8.95 mm      195 g  \n",
       "4      9 mm      199 g  "
      ]
     },
     "execution_count": 2,
     "metadata": {},
     "output_type": "execute_result"
    }
   ],
   "source": [
    "data = pd.read_csv('mobile_price_data.csv')\n",
    "data.head()"
   ]
  },
  {
   "cell_type": "code",
   "execution_count": 3,
   "id": "0e00e953",
   "metadata": {},
   "outputs": [
    {
     "data": {
      "text/plain": [
       "(459, 20)"
      ]
     },
     "execution_count": 3,
     "metadata": {},
     "output_type": "execute_result"
    }
   ],
   "source": [
    "data.shape"
   ]
  },
  {
   "cell_type": "markdown",
   "id": "40e94025",
   "metadata": {},
   "source": [
    "# Observation : \n",
    "- There are 459 rows and 20 columns in dataset.\n",
    "- Each row represent the information about different mobile."
   ]
  },
  {
   "cell_type": "code",
   "execution_count": 4,
   "id": "ce5f6a50",
   "metadata": {},
   "outputs": [
    {
     "name": "stdout",
     "output_type": "stream",
     "text": [
      "<class 'pandas.core.frame.DataFrame'>\n",
      "RangeIndex: 459 entries, 0 to 458\n",
      "Data columns (total 20 columns):\n",
      " #   Column         Non-Null Count  Dtype \n",
      "---  ------         --------------  ----- \n",
      " 0   mobile_name    459 non-null    object\n",
      " 1   mobile_price   459 non-null    object\n",
      " 2   mobile_color   459 non-null    object\n",
      " 3   dual_sim       459 non-null    object\n",
      " 4   disp_size      459 non-null    object\n",
      " 5   resolution     459 non-null    object\n",
      " 6   os             459 non-null    object\n",
      " 7   num_cores      459 non-null    object\n",
      " 8   mp_speed       459 non-null    object\n",
      " 9   int_memory     459 non-null    object\n",
      " 10  ram            459 non-null    object\n",
      " 11  p_cam          459 non-null    object\n",
      " 12  f_cam          459 non-null    object\n",
      " 13  network        459 non-null    object\n",
      " 14  bluetooth      459 non-null    object\n",
      " 15  battery_power  459 non-null    object\n",
      " 16  mob_width      459 non-null    object\n",
      " 17  mob_height     459 non-null    object\n",
      " 18  mob_depth      459 non-null    object\n",
      " 19  mob_weight     459 non-null    object\n",
      "dtypes: object(20)\n",
      "memory usage: 71.8+ KB\n"
     ]
    }
   ],
   "source": [
    "data.info()"
   ]
  },
  {
   "cell_type": "code",
   "execution_count": 5,
   "id": "b49e5da9",
   "metadata": {},
   "outputs": [],
   "source": [
    "# Changing column names including units in there column\n",
    "col_name = {\n",
    "    'mobile_price':'mobile_price_inr',\n",
    "    'disp_size':'disp_size(cm/inch)',\n",
    "    'resolution':'resolution(pixels)',\n",
    "    'mp_speed':'mp_speed(GHz)',\n",
    "    'int_memory':'int_memory(GB)',\n",
    "    'ram':'ram(GB)',\n",
    "    'p_cam':'p_cam(MP)',\n",
    "    'f_cam':'f_cam(MP)',\n",
    "    'battery_power':'battery_power(mAh)',\n",
    "    'mob_width':'mob_width(mm)',\n",
    "    'mob_height':'mob_height(mm)',\n",
    "    'mob_depth':'mob_depth(mm)',\n",
    "    'mob_weight':'mob_weight(g)'\n",
    "    \n",
    "}\n",
    "data.rename(columns=col_name,inplace=True)"
   ]
  },
  {
   "cell_type": "code",
   "execution_count": 6,
   "id": "4b18d932",
   "metadata": {},
   "outputs": [
    {
     "data": {
      "text/html": [
       "<div>\n",
       "<style scoped>\n",
       "    .dataframe tbody tr th:only-of-type {\n",
       "        vertical-align: middle;\n",
       "    }\n",
       "\n",
       "    .dataframe tbody tr th {\n",
       "        vertical-align: top;\n",
       "    }\n",
       "\n",
       "    .dataframe thead th {\n",
       "        text-align: right;\n",
       "    }\n",
       "</style>\n",
       "<table border=\"1\" class=\"dataframe\">\n",
       "  <thead>\n",
       "    <tr style=\"text-align: right;\">\n",
       "      <th></th>\n",
       "      <th>mobile_name</th>\n",
       "      <th>mobile_price_inr</th>\n",
       "      <th>mobile_color</th>\n",
       "      <th>dual_sim</th>\n",
       "      <th>disp_size(cm/inch)</th>\n",
       "      <th>resolution(pixels)</th>\n",
       "      <th>os</th>\n",
       "      <th>num_cores</th>\n",
       "      <th>mp_speed(GHz)</th>\n",
       "      <th>int_memory(GB)</th>\n",
       "      <th>ram(GB)</th>\n",
       "      <th>p_cam(MP)</th>\n",
       "      <th>f_cam(MP)</th>\n",
       "      <th>network</th>\n",
       "      <th>bluetooth</th>\n",
       "      <th>battery_power(mAh)</th>\n",
       "      <th>mob_width(mm)</th>\n",
       "      <th>mob_height(mm)</th>\n",
       "      <th>mob_depth(mm)</th>\n",
       "      <th>mob_weight(g)</th>\n",
       "    </tr>\n",
       "  </thead>\n",
       "  <tbody>\n",
       "    <tr>\n",
       "      <th>0</th>\n",
       "      <td>Realme Narzo 10A (So White, 32 GB)</td>\n",
       "      <td>₹8,999</td>\n",
       "      <td>So White</td>\n",
       "      <td>Dual Sim</td>\n",
       "      <td>16.56 cm (6.52 inch)</td>\n",
       "      <td>1600 x 720 Pixels</td>\n",
       "      <td>Android 10</td>\n",
       "      <td>Octa Core</td>\n",
       "      <td>2 GHz</td>\n",
       "      <td>32 GB</td>\n",
       "      <td>3 GB</td>\n",
       "      <td>12MP + 2MP + 2MP</td>\n",
       "      <td>5MP Front Camera</td>\n",
       "      <td>4G VOLTE, 4G, 3G, 2G</td>\n",
       "      <td>Yes</td>\n",
       "      <td>5000 mAh</td>\n",
       "      <td>75 mm</td>\n",
       "      <td>164.4 mm</td>\n",
       "      <td>8.95 mm</td>\n",
       "      <td>195 g</td>\n",
       "    </tr>\n",
       "    <tr>\n",
       "      <th>1</th>\n",
       "      <td>Realme Narzo 10A (So Blue, 32 GB)</td>\n",
       "      <td>₹8,999</td>\n",
       "      <td>So Blue</td>\n",
       "      <td>Dual Sim</td>\n",
       "      <td>16.56 cm (6.52 inch)</td>\n",
       "      <td>1600 x 720 Pixels</td>\n",
       "      <td>Android 10</td>\n",
       "      <td>Octa Core</td>\n",
       "      <td>2 GHz</td>\n",
       "      <td>32 GB</td>\n",
       "      <td>3 GB</td>\n",
       "      <td>12MP + 2MP + 2MP</td>\n",
       "      <td>5MP Front Camera</td>\n",
       "      <td>4G VOLTE, 4G, 3G, 2G</td>\n",
       "      <td>Yes</td>\n",
       "      <td>5000 mAh</td>\n",
       "      <td>75 mm</td>\n",
       "      <td>164.4 mm</td>\n",
       "      <td>8.95 mm</td>\n",
       "      <td>195 g</td>\n",
       "    </tr>\n",
       "  </tbody>\n",
       "</table>\n",
       "</div>"
      ],
      "text/plain": [
       "                          mobile_name mobile_price_inr mobile_color  dual_sim  \\\n",
       "0  Realme Narzo 10A (So White, 32 GB)           ₹8,999     So White  Dual Sim   \n",
       "1   Realme Narzo 10A (So Blue, 32 GB)           ₹8,999      So Blue  Dual Sim   \n",
       "\n",
       "     disp_size(cm/inch) resolution(pixels)          os  num_cores  \\\n",
       "0  16.56 cm (6.52 inch)  1600 x 720 Pixels  Android 10  Octa Core   \n",
       "1  16.56 cm (6.52 inch)  1600 x 720 Pixels  Android 10  Octa Core   \n",
       "\n",
       "  mp_speed(GHz) int_memory(GB) ram(GB)         p_cam(MP)         f_cam(MP)  \\\n",
       "0         2 GHz          32 GB    3 GB  12MP + 2MP + 2MP  5MP Front Camera   \n",
       "1         2 GHz          32 GB    3 GB  12MP + 2MP + 2MP  5MP Front Camera   \n",
       "\n",
       "                network bluetooth battery_power(mAh) mob_width(mm)  \\\n",
       "0  4G VOLTE, 4G, 3G, 2G       Yes           5000 mAh         75 mm   \n",
       "1  4G VOLTE, 4G, 3G, 2G       Yes           5000 mAh         75 mm   \n",
       "\n",
       "  mob_height(mm) mob_depth(mm) mob_weight(g)  \n",
       "0       164.4 mm       8.95 mm         195 g  \n",
       "1       164.4 mm       8.95 mm         195 g  "
      ]
     },
     "execution_count": 6,
     "metadata": {},
     "output_type": "execute_result"
    }
   ],
   "source": [
    "data.head(2)"
   ]
  },
  {
   "cell_type": "code",
   "execution_count": 7,
   "id": "b2b324d4",
   "metadata": {},
   "outputs": [],
   "source": [
    "data['mobile_price_inr']=data['mobile_price_inr'].replace(['₹',','],'',regex=True)"
   ]
  },
  {
   "cell_type": "code",
   "execution_count": 8,
   "id": "097bc14b",
   "metadata": {},
   "outputs": [],
   "source": [
    "data['mobile_price_inr'] = data['mobile_price_inr'].astype('int64')"
   ]
  },
  {
   "cell_type": "code",
   "execution_count": 9,
   "id": "c991b383",
   "metadata": {},
   "outputs": [
    {
     "data": {
      "text/html": [
       "<div>\n",
       "<style scoped>\n",
       "    .dataframe tbody tr th:only-of-type {\n",
       "        vertical-align: middle;\n",
       "    }\n",
       "\n",
       "    .dataframe tbody tr th {\n",
       "        vertical-align: top;\n",
       "    }\n",
       "\n",
       "    .dataframe thead th {\n",
       "        text-align: right;\n",
       "    }\n",
       "</style>\n",
       "<table border=\"1\" class=\"dataframe\">\n",
       "  <thead>\n",
       "    <tr style=\"text-align: right;\">\n",
       "      <th></th>\n",
       "      <th>mobile_name</th>\n",
       "      <th>mobile_price_inr</th>\n",
       "      <th>mobile_color</th>\n",
       "      <th>dual_sim</th>\n",
       "      <th>disp_size(cm/inch)</th>\n",
       "      <th>resolution(pixels)</th>\n",
       "      <th>os</th>\n",
       "      <th>num_cores</th>\n",
       "      <th>mp_speed(GHz)</th>\n",
       "      <th>int_memory(GB)</th>\n",
       "      <th>ram(GB)</th>\n",
       "      <th>p_cam(MP)</th>\n",
       "      <th>f_cam(MP)</th>\n",
       "      <th>network</th>\n",
       "      <th>bluetooth</th>\n",
       "      <th>battery_power(mAh)</th>\n",
       "      <th>mob_width(mm)</th>\n",
       "      <th>mob_height(mm)</th>\n",
       "      <th>mob_depth(mm)</th>\n",
       "      <th>mob_weight(g)</th>\n",
       "    </tr>\n",
       "  </thead>\n",
       "  <tbody>\n",
       "    <tr>\n",
       "      <th>0</th>\n",
       "      <td>Realme Narzo 10A (So White, 32 GB)</td>\n",
       "      <td>8999</td>\n",
       "      <td>So White</td>\n",
       "      <td>Dual Sim</td>\n",
       "      <td>16.56 cm (6.52 inch)</td>\n",
       "      <td>1600 x 720 Pixels</td>\n",
       "      <td>Android 10</td>\n",
       "      <td>Octa Core</td>\n",
       "      <td>2 GHz</td>\n",
       "      <td>32 GB</td>\n",
       "      <td>3 GB</td>\n",
       "      <td>12MP + 2MP + 2MP</td>\n",
       "      <td>5MP Front Camera</td>\n",
       "      <td>4G VOLTE, 4G, 3G, 2G</td>\n",
       "      <td>Yes</td>\n",
       "      <td>5000 mAh</td>\n",
       "      <td>75 mm</td>\n",
       "      <td>164.4 mm</td>\n",
       "      <td>8.95 mm</td>\n",
       "      <td>195 g</td>\n",
       "    </tr>\n",
       "    <tr>\n",
       "      <th>1</th>\n",
       "      <td>Realme Narzo 10A (So Blue, 32 GB)</td>\n",
       "      <td>8999</td>\n",
       "      <td>So Blue</td>\n",
       "      <td>Dual Sim</td>\n",
       "      <td>16.56 cm (6.52 inch)</td>\n",
       "      <td>1600 x 720 Pixels</td>\n",
       "      <td>Android 10</td>\n",
       "      <td>Octa Core</td>\n",
       "      <td>2 GHz</td>\n",
       "      <td>32 GB</td>\n",
       "      <td>3 GB</td>\n",
       "      <td>12MP + 2MP + 2MP</td>\n",
       "      <td>5MP Front Camera</td>\n",
       "      <td>4G VOLTE, 4G, 3G, 2G</td>\n",
       "      <td>Yes</td>\n",
       "      <td>5000 mAh</td>\n",
       "      <td>75 mm</td>\n",
       "      <td>164.4 mm</td>\n",
       "      <td>8.95 mm</td>\n",
       "      <td>195 g</td>\n",
       "    </tr>\n",
       "    <tr>\n",
       "      <th>2</th>\n",
       "      <td>Realme Narzo 10A (So Blue, 64 GB)</td>\n",
       "      <td>9999</td>\n",
       "      <td>So Blue</td>\n",
       "      <td>Dual Sim</td>\n",
       "      <td>16.56 cm (6.52 inch)</td>\n",
       "      <td>1600 x 720 Pixels</td>\n",
       "      <td>Android 10</td>\n",
       "      <td>Octa Core</td>\n",
       "      <td>2 GHz</td>\n",
       "      <td>64 GB</td>\n",
       "      <td>4 GB</td>\n",
       "      <td>12MP + 2MP + 2MP</td>\n",
       "      <td>5MP Front Camera</td>\n",
       "      <td>4G VOLTE, 4G, 3G, 2G</td>\n",
       "      <td>Yes</td>\n",
       "      <td>5000 mAh</td>\n",
       "      <td>75 mm</td>\n",
       "      <td>164.4 mm</td>\n",
       "      <td>8.95 mm</td>\n",
       "      <td>195 g</td>\n",
       "    </tr>\n",
       "    <tr>\n",
       "      <th>3</th>\n",
       "      <td>Realme Narzo 10A (So White, 64 GB)</td>\n",
       "      <td>9999</td>\n",
       "      <td>So White</td>\n",
       "      <td>Dual Sim</td>\n",
       "      <td>16.56 cm (6.52 inch)</td>\n",
       "      <td>1600 x 720 Pixels</td>\n",
       "      <td>Android 10</td>\n",
       "      <td>Octa Core</td>\n",
       "      <td>2 GHz</td>\n",
       "      <td>64 GB</td>\n",
       "      <td>4 GB</td>\n",
       "      <td>12MP + 2MP + 2MP</td>\n",
       "      <td>5MP Front Camera</td>\n",
       "      <td>4G VOLTE, 4G, 3G, 2G</td>\n",
       "      <td>Yes</td>\n",
       "      <td>5000 mAh</td>\n",
       "      <td>75 mm</td>\n",
       "      <td>164.4 mm</td>\n",
       "      <td>8.95 mm</td>\n",
       "      <td>195 g</td>\n",
       "    </tr>\n",
       "    <tr>\n",
       "      <th>4</th>\n",
       "      <td>Realme Narzo 10 (That Green, 128 GB)</td>\n",
       "      <td>11999</td>\n",
       "      <td>That Green</td>\n",
       "      <td>Dual Sim</td>\n",
       "      <td>16.51 cm (6.5 inch)</td>\n",
       "      <td>1600 x 720 Pixels</td>\n",
       "      <td>Android 10</td>\n",
       "      <td>Octa Core</td>\n",
       "      <td>2 GHz</td>\n",
       "      <td>128 GB</td>\n",
       "      <td>4 GB</td>\n",
       "      <td>48MP + 8MP + 2MP + 2MP</td>\n",
       "      <td>16MP Front Camera</td>\n",
       "      <td>4G VOLTE, 4G, 3G, 2G</td>\n",
       "      <td>Yes</td>\n",
       "      <td>5000 mAh</td>\n",
       "      <td>75.4 mm</td>\n",
       "      <td>164.4 mm</td>\n",
       "      <td>9 mm</td>\n",
       "      <td>199 g</td>\n",
       "    </tr>\n",
       "  </tbody>\n",
       "</table>\n",
       "</div>"
      ],
      "text/plain": [
       "                            mobile_name  mobile_price_inr mobile_color  \\\n",
       "0    Realme Narzo 10A (So White, 32 GB)              8999     So White   \n",
       "1     Realme Narzo 10A (So Blue, 32 GB)              8999      So Blue   \n",
       "2     Realme Narzo 10A (So Blue, 64 GB)              9999      So Blue   \n",
       "3    Realme Narzo 10A (So White, 64 GB)              9999     So White   \n",
       "4  Realme Narzo 10 (That Green, 128 GB)             11999   That Green   \n",
       "\n",
       "   dual_sim    disp_size(cm/inch) resolution(pixels)          os  num_cores  \\\n",
       "0  Dual Sim  16.56 cm (6.52 inch)  1600 x 720 Pixels  Android 10  Octa Core   \n",
       "1  Dual Sim  16.56 cm (6.52 inch)  1600 x 720 Pixels  Android 10  Octa Core   \n",
       "2  Dual Sim  16.56 cm (6.52 inch)  1600 x 720 Pixels  Android 10  Octa Core   \n",
       "3  Dual Sim  16.56 cm (6.52 inch)  1600 x 720 Pixels  Android 10  Octa Core   \n",
       "4  Dual Sim   16.51 cm (6.5 inch)  1600 x 720 Pixels  Android 10  Octa Core   \n",
       "\n",
       "  mp_speed(GHz) int_memory(GB) ram(GB)               p_cam(MP)  \\\n",
       "0         2 GHz          32 GB    3 GB        12MP + 2MP + 2MP   \n",
       "1         2 GHz          32 GB    3 GB        12MP + 2MP + 2MP   \n",
       "2         2 GHz          64 GB    4 GB        12MP + 2MP + 2MP   \n",
       "3         2 GHz          64 GB    4 GB        12MP + 2MP + 2MP   \n",
       "4         2 GHz         128 GB    4 GB  48MP + 8MP + 2MP + 2MP   \n",
       "\n",
       "           f_cam(MP)               network bluetooth battery_power(mAh)  \\\n",
       "0   5MP Front Camera  4G VOLTE, 4G, 3G, 2G       Yes           5000 mAh   \n",
       "1   5MP Front Camera  4G VOLTE, 4G, 3G, 2G       Yes           5000 mAh   \n",
       "2   5MP Front Camera  4G VOLTE, 4G, 3G, 2G       Yes           5000 mAh   \n",
       "3   5MP Front Camera  4G VOLTE, 4G, 3G, 2G       Yes           5000 mAh   \n",
       "4  16MP Front Camera  4G VOLTE, 4G, 3G, 2G       Yes           5000 mAh   \n",
       "\n",
       "  mob_width(mm) mob_height(mm) mob_depth(mm) mob_weight(g)  \n",
       "0         75 mm       164.4 mm       8.95 mm         195 g  \n",
       "1         75 mm       164.4 mm       8.95 mm         195 g  \n",
       "2         75 mm       164.4 mm       8.95 mm         195 g  \n",
       "3         75 mm       164.4 mm       8.95 mm         195 g  \n",
       "4       75.4 mm       164.4 mm          9 mm         199 g  "
      ]
     },
     "execution_count": 9,
     "metadata": {},
     "output_type": "execute_result"
    }
   ],
   "source": [
    "data.head()"
   ]
  },
  {
   "cell_type": "code",
   "execution_count": 10,
   "id": "8284e41d",
   "metadata": {},
   "outputs": [
    {
     "data": {
      "text/plain": [
       "Yes    459\n",
       "Name: bluetooth, dtype: int64"
      ]
     },
     "execution_count": 10,
     "metadata": {},
     "output_type": "execute_result"
    }
   ],
   "source": [
    "data['bluetooth'].value_counts()"
   ]
  },
  {
   "cell_type": "markdown",
   "id": "b32f6325",
   "metadata": {},
   "source": [
    "#### droping bluetooth column because it in not adding any value to dataset"
   ]
  },
  {
   "cell_type": "code",
   "execution_count": 11,
   "id": "b119cc3c",
   "metadata": {},
   "outputs": [],
   "source": [
    "data.drop('bluetooth',1,inplace=True)"
   ]
  },
  {
   "cell_type": "code",
   "execution_count": 12,
   "id": "fc6234ee",
   "metadata": {},
   "outputs": [
    {
     "data": {
      "text/plain": [
       "165"
      ]
     },
     "execution_count": 12,
     "metadata": {},
     "output_type": "execute_result"
    }
   ],
   "source": [
    "# Now we have to fix the mobile_color \n",
    "data.mobile_color.nunique()"
   ]
  },
  {
   "cell_type": "code",
   "execution_count": 13,
   "id": "4204a7ae",
   "metadata": {},
   "outputs": [
    {
     "data": {
      "text/plain": [
       "Blue         119\n",
       "Black        115\n",
       "Red           53\n",
       "White         40\n",
       "Gold          34\n",
       "Purple        24\n",
       "Green         21\n",
       "Grey          14\n",
       "Violet         5\n",
       "Gray           4\n",
       "Mint           3\n",
       "Silver         3\n",
       "Greener        3\n",
       "Mist           2\n",
       "Cyan           2\n",
       "Sapphire       2\n",
       "Brick          2\n",
       "Concrete       2\n",
       "Wave           2\n",
       "Edition        2\n",
       "Champagne      1\n",
       "Orange         1\n",
       "Brown          1\n",
       "Sea            1\n",
       "white          1\n",
       "Ruby           1\n",
       "gold           1\n",
       "Name: mobile_color, dtype: int64"
      ]
     },
     "execution_count": 13,
     "metadata": {},
     "output_type": "execute_result"
    }
   ],
   "source": [
    "data[['dummy1','dummy2','mobile_color']] = data['mobile_color'].str.rpartition(' ')\n",
    "data.drop(['dummy1','dummy2'],1,inplace=True)\n",
    "data['mobile_color'].value_counts()\n"
   ]
  },
  {
   "cell_type": "markdown",
   "id": "b9d76802",
   "metadata": {},
   "source": [
    "In 'mobile_name' column, only brand name should be kept because it doesn't have any role in pricing remaining feature is for that."
   ]
  },
  {
   "cell_type": "code",
   "execution_count": 14,
   "id": "355f5db2",
   "metadata": {},
   "outputs": [],
   "source": [
    "data[['mobile_name','dummy1','dummy2']] = data['mobile_name'].str.partition(' ')\n",
    "data.drop(['dummy1','dummy2'],1,inplace=True)\n"
   ]
  },
  {
   "cell_type": "code",
   "execution_count": 15,
   "id": "c44e22b6",
   "metadata": {},
   "outputs": [
    {
     "data": {
      "text/plain": [
       "Vivo       96\n",
       "Redmi      93\n",
       "OPPO       86\n",
       "Realme     79\n",
       "Infinix    36\n",
       "POCO       31\n",
       "Mi         20\n",
       "Samsung    17\n",
       "MI3         1\n",
       "Name: mobile_name, dtype: int64"
      ]
     },
     "execution_count": 15,
     "metadata": {},
     "output_type": "execute_result"
    }
   ],
   "source": [
    "data['mobile_name'].value_counts()"
   ]
  },
  {
   "cell_type": "code",
   "execution_count": 16,
   "id": "38bfe176",
   "metadata": {},
   "outputs": [
    {
     "data": {
      "text/html": [
       "<div>\n",
       "<style scoped>\n",
       "    .dataframe tbody tr th:only-of-type {\n",
       "        vertical-align: middle;\n",
       "    }\n",
       "\n",
       "    .dataframe tbody tr th {\n",
       "        vertical-align: top;\n",
       "    }\n",
       "\n",
       "    .dataframe thead th {\n",
       "        text-align: right;\n",
       "    }\n",
       "</style>\n",
       "<table border=\"1\" class=\"dataframe\">\n",
       "  <thead>\n",
       "    <tr style=\"text-align: right;\">\n",
       "      <th></th>\n",
       "      <th>mobile_name</th>\n",
       "      <th>mobile_price_inr</th>\n",
       "      <th>mobile_color</th>\n",
       "      <th>dual_sim</th>\n",
       "      <th>disp_size(cm/inch)</th>\n",
       "      <th>resolution(pixels)</th>\n",
       "      <th>os</th>\n",
       "      <th>num_cores</th>\n",
       "      <th>mp_speed(GHz)</th>\n",
       "      <th>int_memory(GB)</th>\n",
       "      <th>ram(GB)</th>\n",
       "      <th>p_cam(MP)</th>\n",
       "      <th>f_cam(MP)</th>\n",
       "      <th>network</th>\n",
       "      <th>battery_power(mAh)</th>\n",
       "      <th>mob_width(mm)</th>\n",
       "      <th>mob_height(mm)</th>\n",
       "      <th>mob_depth(mm)</th>\n",
       "      <th>mob_weight(g)</th>\n",
       "    </tr>\n",
       "  </thead>\n",
       "  <tbody>\n",
       "    <tr>\n",
       "      <th>0</th>\n",
       "      <td>Realme</td>\n",
       "      <td>8999</td>\n",
       "      <td>White</td>\n",
       "      <td>Dual Sim</td>\n",
       "      <td>16.56 cm (6.52 inch)</td>\n",
       "      <td>1600 x 720 Pixels</td>\n",
       "      <td>Android 10</td>\n",
       "      <td>Octa Core</td>\n",
       "      <td>2 GHz</td>\n",
       "      <td>32 GB</td>\n",
       "      <td>3 GB</td>\n",
       "      <td>12MP + 2MP + 2MP</td>\n",
       "      <td>5MP Front Camera</td>\n",
       "      <td>4G VOLTE, 4G, 3G, 2G</td>\n",
       "      <td>5000 mAh</td>\n",
       "      <td>75 mm</td>\n",
       "      <td>164.4 mm</td>\n",
       "      <td>8.95 mm</td>\n",
       "      <td>195 g</td>\n",
       "    </tr>\n",
       "    <tr>\n",
       "      <th>1</th>\n",
       "      <td>Realme</td>\n",
       "      <td>8999</td>\n",
       "      <td>Blue</td>\n",
       "      <td>Dual Sim</td>\n",
       "      <td>16.56 cm (6.52 inch)</td>\n",
       "      <td>1600 x 720 Pixels</td>\n",
       "      <td>Android 10</td>\n",
       "      <td>Octa Core</td>\n",
       "      <td>2 GHz</td>\n",
       "      <td>32 GB</td>\n",
       "      <td>3 GB</td>\n",
       "      <td>12MP + 2MP + 2MP</td>\n",
       "      <td>5MP Front Camera</td>\n",
       "      <td>4G VOLTE, 4G, 3G, 2G</td>\n",
       "      <td>5000 mAh</td>\n",
       "      <td>75 mm</td>\n",
       "      <td>164.4 mm</td>\n",
       "      <td>8.95 mm</td>\n",
       "      <td>195 g</td>\n",
       "    </tr>\n",
       "  </tbody>\n",
       "</table>\n",
       "</div>"
      ],
      "text/plain": [
       "  mobile_name  mobile_price_inr mobile_color  dual_sim    disp_size(cm/inch)  \\\n",
       "0      Realme              8999        White  Dual Sim  16.56 cm (6.52 inch)   \n",
       "1      Realme              8999         Blue  Dual Sim  16.56 cm (6.52 inch)   \n",
       "\n",
       "  resolution(pixels)          os  num_cores mp_speed(GHz) int_memory(GB)  \\\n",
       "0  1600 x 720 Pixels  Android 10  Octa Core         2 GHz          32 GB   \n",
       "1  1600 x 720 Pixels  Android 10  Octa Core         2 GHz          32 GB   \n",
       "\n",
       "  ram(GB)         p_cam(MP)         f_cam(MP)               network  \\\n",
       "0    3 GB  12MP + 2MP + 2MP  5MP Front Camera  4G VOLTE, 4G, 3G, 2G   \n",
       "1    3 GB  12MP + 2MP + 2MP  5MP Front Camera  4G VOLTE, 4G, 3G, 2G   \n",
       "\n",
       "  battery_power(mAh) mob_width(mm) mob_height(mm) mob_depth(mm) mob_weight(g)  \n",
       "0           5000 mAh         75 mm       164.4 mm       8.95 mm         195 g  \n",
       "1           5000 mAh         75 mm       164.4 mm       8.95 mm         195 g  "
      ]
     },
     "execution_count": 16,
     "metadata": {},
     "output_type": "execute_result"
    }
   ],
   "source": [
    "data.head(2)"
   ]
  },
  {
   "cell_type": "code",
   "execution_count": 17,
   "id": "2eee6de0",
   "metadata": {},
   "outputs": [],
   "source": [
    "data['disp_size(cm/inch)'] = data['disp_size(cm/inch)'].str.replace('\\scm\\s\\(.+\\)','',regex=True)"
   ]
  },
  {
   "cell_type": "code",
   "execution_count": 18,
   "id": "76d69df0",
   "metadata": {},
   "outputs": [],
   "source": [
    "data['disp_size(cm/inch)'] = data['disp_size(cm/inch)'].astype('float')"
   ]
  },
  {
   "cell_type": "code",
   "execution_count": 19,
   "id": "cccd8020",
   "metadata": {},
   "outputs": [
    {
     "data": {
      "text/plain": [
       "array([16.56, 16.51, 16.  , 16.26, 16.36, 16.76, 15.49, 16.69, 15.8 ,\n",
       "       16.23, 16.94, 15.44, 15.21, 15.9 , 12.7 , 15.46, 13.97, 13.84,\n",
       "       16.13, 16.21, 16.59, 16.28, 16.74, 14.48, 15.24, 13.21, 17.02,\n",
       "       11.94, 15.06, 15.75, 15.72, 14.35, 15.19, 15.77, 15.7 , 15.82])"
      ]
     },
     "execution_count": 19,
     "metadata": {},
     "output_type": "execute_result"
    }
   ],
   "source": [
    "data['disp_size(cm/inch)'].unique()"
   ]
  },
  {
   "cell_type": "code",
   "execution_count": 20,
   "id": "8ce72404",
   "metadata": {},
   "outputs": [],
   "source": [
    "data['resolution(pixels)'] = data['resolution(pixels)'].str.replace('\\s?[pP]ixel.*','',regex=True).replace('\\s?[x*×]\\s?','X',regex=True).replace('\\$','',regex=True)"
   ]
  },
  {
   "cell_type": "code",
   "execution_count": 21,
   "id": "3b70bc06",
   "metadata": {},
   "outputs": [
    {
     "data": {
      "text/plain": [
       "array(['1600X720', '2340X1080', '2400X1080', '1080X2340', '1080X2400',\n",
       "       '720X1600', '1560X720', '1520X720', '2160X1080', '1440X720',\n",
       "       '2280X1080', '1920X1080', '1280X720', '720X1544', '2316X1080',\n",
       "       '960X540', '540X960', '1080X2160', '1500X720', '720X1440',\n",
       "       '1080X1920', '720X1520', '720X1560', '720X1280'], dtype=object)"
      ]
     },
     "execution_count": 21,
     "metadata": {},
     "output_type": "execute_result"
    }
   ],
   "source": [
    "data['resolution(pixels)'].unique()"
   ]
  },
  {
   "cell_type": "markdown",
   "id": "3f1f2509",
   "metadata": {},
   "source": [
    "So, we have remove the units from resolution column."
   ]
  },
  {
   "cell_type": "code",
   "execution_count": 22,
   "id": "1424e0e6",
   "metadata": {},
   "outputs": [],
   "source": [
    "data[['res1','sep','res2']] = data['resolution(pixels)'].str.partition('X')"
   ]
  },
  {
   "cell_type": "markdown",
   "id": "d4802451",
   "metadata": {},
   "source": [
    "Now sep is the column which contain X so we have to drop that column."
   ]
  },
  {
   "cell_type": "code",
   "execution_count": 23,
   "id": "c1d8d7a6",
   "metadata": {},
   "outputs": [],
   "source": [
    "data.drop('sep',1,inplace=True)"
   ]
  },
  {
   "cell_type": "code",
   "execution_count": 24,
   "id": "587965d8",
   "metadata": {},
   "outputs": [
    {
     "data": {
      "text/plain": [
       "res1    object\n",
       "res2    object\n",
       "dtype: object"
      ]
     },
     "execution_count": 24,
     "metadata": {},
     "output_type": "execute_result"
    }
   ],
   "source": [
    "# Changing the type of res1 and res2 \n",
    "data[['res1','res2']].dtypes"
   ]
  },
  {
   "cell_type": "code",
   "execution_count": 25,
   "id": "c979516b",
   "metadata": {},
   "outputs": [
    {
     "data": {
      "text/plain": [
       "(array(['1600', '2340', '2400', '1080', '720', '1560', '1520', '2160',\n",
       "        '1440', '2280', '1920', '1280', '2316', '960', '540', '1500'],\n",
       "       dtype=object),\n",
       " array(['720', '1080', '2340', '2400', '1600', '1544', '540', '960',\n",
       "        '2160', '1440', '1920', '1520', '1560', '1280'], dtype=object))"
      ]
     },
     "execution_count": 25,
     "metadata": {},
     "output_type": "execute_result"
    }
   ],
   "source": [
    "data['res1'].unique(),data['res2'].unique()"
   ]
  },
  {
   "cell_type": "code",
   "execution_count": 26,
   "id": "31591d86",
   "metadata": {},
   "outputs": [],
   "source": [
    "data['res1'] = data['res1'].astype('int64')\n",
    "data['res2'] = data['res2'].astype('int64')\n"
   ]
  },
  {
   "cell_type": "code",
   "execution_count": 27,
   "id": "591d1c59",
   "metadata": {},
   "outputs": [],
   "source": [
    "# Changing the value of resolution column to res1*res2\n",
    "data['resolution(pixels)'] = data['res1']*data['res2']"
   ]
  },
  {
   "cell_type": "code",
   "execution_count": 28,
   "id": "b525b394",
   "metadata": {},
   "outputs": [
    {
     "data": {
      "text/html": [
       "<div>\n",
       "<style scoped>\n",
       "    .dataframe tbody tr th:only-of-type {\n",
       "        vertical-align: middle;\n",
       "    }\n",
       "\n",
       "    .dataframe tbody tr th {\n",
       "        vertical-align: top;\n",
       "    }\n",
       "\n",
       "    .dataframe thead th {\n",
       "        text-align: right;\n",
       "    }\n",
       "</style>\n",
       "<table border=\"1\" class=\"dataframe\">\n",
       "  <thead>\n",
       "    <tr style=\"text-align: right;\">\n",
       "      <th></th>\n",
       "      <th>mobile_name</th>\n",
       "      <th>mobile_price_inr</th>\n",
       "      <th>mobile_color</th>\n",
       "      <th>dual_sim</th>\n",
       "      <th>disp_size(cm/inch)</th>\n",
       "      <th>resolution(pixels)</th>\n",
       "      <th>os</th>\n",
       "      <th>num_cores</th>\n",
       "      <th>mp_speed(GHz)</th>\n",
       "      <th>int_memory(GB)</th>\n",
       "      <th>...</th>\n",
       "      <th>p_cam(MP)</th>\n",
       "      <th>f_cam(MP)</th>\n",
       "      <th>network</th>\n",
       "      <th>battery_power(mAh)</th>\n",
       "      <th>mob_width(mm)</th>\n",
       "      <th>mob_height(mm)</th>\n",
       "      <th>mob_depth(mm)</th>\n",
       "      <th>mob_weight(g)</th>\n",
       "      <th>res1</th>\n",
       "      <th>res2</th>\n",
       "    </tr>\n",
       "  </thead>\n",
       "  <tbody>\n",
       "    <tr>\n",
       "      <th>0</th>\n",
       "      <td>Realme</td>\n",
       "      <td>8999</td>\n",
       "      <td>White</td>\n",
       "      <td>Dual Sim</td>\n",
       "      <td>16.56</td>\n",
       "      <td>1152000</td>\n",
       "      <td>Android 10</td>\n",
       "      <td>Octa Core</td>\n",
       "      <td>2 GHz</td>\n",
       "      <td>32 GB</td>\n",
       "      <td>...</td>\n",
       "      <td>12MP + 2MP + 2MP</td>\n",
       "      <td>5MP Front Camera</td>\n",
       "      <td>4G VOLTE, 4G, 3G, 2G</td>\n",
       "      <td>5000 mAh</td>\n",
       "      <td>75 mm</td>\n",
       "      <td>164.4 mm</td>\n",
       "      <td>8.95 mm</td>\n",
       "      <td>195 g</td>\n",
       "      <td>1600</td>\n",
       "      <td>720</td>\n",
       "    </tr>\n",
       "    <tr>\n",
       "      <th>1</th>\n",
       "      <td>Realme</td>\n",
       "      <td>8999</td>\n",
       "      <td>Blue</td>\n",
       "      <td>Dual Sim</td>\n",
       "      <td>16.56</td>\n",
       "      <td>1152000</td>\n",
       "      <td>Android 10</td>\n",
       "      <td>Octa Core</td>\n",
       "      <td>2 GHz</td>\n",
       "      <td>32 GB</td>\n",
       "      <td>...</td>\n",
       "      <td>12MP + 2MP + 2MP</td>\n",
       "      <td>5MP Front Camera</td>\n",
       "      <td>4G VOLTE, 4G, 3G, 2G</td>\n",
       "      <td>5000 mAh</td>\n",
       "      <td>75 mm</td>\n",
       "      <td>164.4 mm</td>\n",
       "      <td>8.95 mm</td>\n",
       "      <td>195 g</td>\n",
       "      <td>1600</td>\n",
       "      <td>720</td>\n",
       "    </tr>\n",
       "  </tbody>\n",
       "</table>\n",
       "<p>2 rows × 21 columns</p>\n",
       "</div>"
      ],
      "text/plain": [
       "  mobile_name  mobile_price_inr mobile_color  dual_sim  disp_size(cm/inch)  \\\n",
       "0      Realme              8999        White  Dual Sim               16.56   \n",
       "1      Realme              8999         Blue  Dual Sim               16.56   \n",
       "\n",
       "   resolution(pixels)          os  num_cores mp_speed(GHz) int_memory(GB)  \\\n",
       "0             1152000  Android 10  Octa Core         2 GHz          32 GB   \n",
       "1             1152000  Android 10  Octa Core         2 GHz          32 GB   \n",
       "\n",
       "   ...         p_cam(MP)         f_cam(MP)               network  \\\n",
       "0  ...  12MP + 2MP + 2MP  5MP Front Camera  4G VOLTE, 4G, 3G, 2G   \n",
       "1  ...  12MP + 2MP + 2MP  5MP Front Camera  4G VOLTE, 4G, 3G, 2G   \n",
       "\n",
       "  battery_power(mAh) mob_width(mm) mob_height(mm) mob_depth(mm) mob_weight(g)  \\\n",
       "0           5000 mAh         75 mm       164.4 mm       8.95 mm         195 g   \n",
       "1           5000 mAh         75 mm       164.4 mm       8.95 mm         195 g   \n",
       "\n",
       "   res1  res2  \n",
       "0  1600   720  \n",
       "1  1600   720  \n",
       "\n",
       "[2 rows x 21 columns]"
      ]
     },
     "execution_count": 28,
     "metadata": {},
     "output_type": "execute_result"
    }
   ],
   "source": [
    "data.head(2)"
   ]
  },
  {
   "cell_type": "markdown",
   "id": "ffab5fe6",
   "metadata": {},
   "source": [
    "Now we have to change mp_speed(GHz). We have to remove the GHz from the data and convert its type to int."
   ]
  },
  {
   "cell_type": "code",
   "execution_count": 29,
   "id": "0b74c26d",
   "metadata": {},
   "outputs": [
    {
     "data": {
      "text/plain": [
       "array(['2 GHz', '2.3 GHz', '2.96 GHz', '1.95 GHz', '2.8 GHz', '2.05 GHz',\n",
       "       '2.2 GHz', '2.1 GHz', '2.84 GHz', '2.5 GHz', '1.8 GHz', '1.4 GHz',\n",
       "       '1.5 GHz', '1.3 GHz', '1.6 GHz', '2.39 GHz', '2.6 GHz',\n",
       "       '2.649 GHz'], dtype=object)"
      ]
     },
     "execution_count": 29,
     "metadata": {},
     "output_type": "execute_result"
    }
   ],
   "source": [
    "data['mp_speed(GHz)'].unique()"
   ]
  },
  {
   "cell_type": "code",
   "execution_count": 30,
   "id": "bfc7c26e",
   "metadata": {},
   "outputs": [],
   "source": [
    "data[['mp_speed(GHz)','dummy1','dummy2']] = data['mp_speed(GHz)'].str.partition(\" \")"
   ]
  },
  {
   "cell_type": "markdown",
   "id": "8575cbd4",
   "metadata": {},
   "source": [
    "We have sepearted mp_speed column into mp_speed,dummy1,and dummy2. dummy1 and dummy2 are of no use so we have to drop it."
   ]
  },
  {
   "cell_type": "code",
   "execution_count": 31,
   "id": "0e61f2b0",
   "metadata": {},
   "outputs": [],
   "source": [
    "data.drop(['dummy1','dummy2'],1,inplace=True)"
   ]
  },
  {
   "cell_type": "code",
   "execution_count": 32,
   "id": "bb6d846d",
   "metadata": {},
   "outputs": [],
   "source": [
    "# Now we have to change its datatype to int\n",
    "data['mp_speed(GHz)']=data['mp_speed(GHz)'].astype('float')"
   ]
  },
  {
   "cell_type": "code",
   "execution_count": 33,
   "id": "f143602f",
   "metadata": {},
   "outputs": [
    {
     "data": {
      "text/html": [
       "<div>\n",
       "<style scoped>\n",
       "    .dataframe tbody tr th:only-of-type {\n",
       "        vertical-align: middle;\n",
       "    }\n",
       "\n",
       "    .dataframe tbody tr th {\n",
       "        vertical-align: top;\n",
       "    }\n",
       "\n",
       "    .dataframe thead th {\n",
       "        text-align: right;\n",
       "    }\n",
       "</style>\n",
       "<table border=\"1\" class=\"dataframe\">\n",
       "  <thead>\n",
       "    <tr style=\"text-align: right;\">\n",
       "      <th></th>\n",
       "      <th>mobile_name</th>\n",
       "      <th>mobile_price_inr</th>\n",
       "      <th>mobile_color</th>\n",
       "      <th>dual_sim</th>\n",
       "      <th>disp_size(cm/inch)</th>\n",
       "      <th>resolution(pixels)</th>\n",
       "      <th>os</th>\n",
       "      <th>num_cores</th>\n",
       "      <th>mp_speed(GHz)</th>\n",
       "      <th>int_memory(GB)</th>\n",
       "      <th>...</th>\n",
       "      <th>p_cam(MP)</th>\n",
       "      <th>f_cam(MP)</th>\n",
       "      <th>network</th>\n",
       "      <th>battery_power(mAh)</th>\n",
       "      <th>mob_width(mm)</th>\n",
       "      <th>mob_height(mm)</th>\n",
       "      <th>mob_depth(mm)</th>\n",
       "      <th>mob_weight(g)</th>\n",
       "      <th>res1</th>\n",
       "      <th>res2</th>\n",
       "    </tr>\n",
       "  </thead>\n",
       "  <tbody>\n",
       "    <tr>\n",
       "      <th>0</th>\n",
       "      <td>Realme</td>\n",
       "      <td>8999</td>\n",
       "      <td>White</td>\n",
       "      <td>Dual Sim</td>\n",
       "      <td>16.56</td>\n",
       "      <td>1152000</td>\n",
       "      <td>Android 10</td>\n",
       "      <td>Octa Core</td>\n",
       "      <td>2.0</td>\n",
       "      <td>32 GB</td>\n",
       "      <td>...</td>\n",
       "      <td>12MP + 2MP + 2MP</td>\n",
       "      <td>5MP Front Camera</td>\n",
       "      <td>4G VOLTE, 4G, 3G, 2G</td>\n",
       "      <td>5000 mAh</td>\n",
       "      <td>75 mm</td>\n",
       "      <td>164.4 mm</td>\n",
       "      <td>8.95 mm</td>\n",
       "      <td>195 g</td>\n",
       "      <td>1600</td>\n",
       "      <td>720</td>\n",
       "    </tr>\n",
       "    <tr>\n",
       "      <th>1</th>\n",
       "      <td>Realme</td>\n",
       "      <td>8999</td>\n",
       "      <td>Blue</td>\n",
       "      <td>Dual Sim</td>\n",
       "      <td>16.56</td>\n",
       "      <td>1152000</td>\n",
       "      <td>Android 10</td>\n",
       "      <td>Octa Core</td>\n",
       "      <td>2.0</td>\n",
       "      <td>32 GB</td>\n",
       "      <td>...</td>\n",
       "      <td>12MP + 2MP + 2MP</td>\n",
       "      <td>5MP Front Camera</td>\n",
       "      <td>4G VOLTE, 4G, 3G, 2G</td>\n",
       "      <td>5000 mAh</td>\n",
       "      <td>75 mm</td>\n",
       "      <td>164.4 mm</td>\n",
       "      <td>8.95 mm</td>\n",
       "      <td>195 g</td>\n",
       "      <td>1600</td>\n",
       "      <td>720</td>\n",
       "    </tr>\n",
       "  </tbody>\n",
       "</table>\n",
       "<p>2 rows × 21 columns</p>\n",
       "</div>"
      ],
      "text/plain": [
       "  mobile_name  mobile_price_inr mobile_color  dual_sim  disp_size(cm/inch)  \\\n",
       "0      Realme              8999        White  Dual Sim               16.56   \n",
       "1      Realme              8999         Blue  Dual Sim               16.56   \n",
       "\n",
       "   resolution(pixels)          os  num_cores  mp_speed(GHz) int_memory(GB)  \\\n",
       "0             1152000  Android 10  Octa Core            2.0          32 GB   \n",
       "1             1152000  Android 10  Octa Core            2.0          32 GB   \n",
       "\n",
       "   ...         p_cam(MP)         f_cam(MP)               network  \\\n",
       "0  ...  12MP + 2MP + 2MP  5MP Front Camera  4G VOLTE, 4G, 3G, 2G   \n",
       "1  ...  12MP + 2MP + 2MP  5MP Front Camera  4G VOLTE, 4G, 3G, 2G   \n",
       "\n",
       "  battery_power(mAh) mob_width(mm) mob_height(mm) mob_depth(mm) mob_weight(g)  \\\n",
       "0           5000 mAh         75 mm       164.4 mm       8.95 mm         195 g   \n",
       "1           5000 mAh         75 mm       164.4 mm       8.95 mm         195 g   \n",
       "\n",
       "   res1  res2  \n",
       "0  1600   720  \n",
       "1  1600   720  \n",
       "\n",
       "[2 rows x 21 columns]"
      ]
     },
     "execution_count": 33,
     "metadata": {},
     "output_type": "execute_result"
    }
   ],
   "source": [
    "data.head(2)"
   ]
  },
  {
   "cell_type": "code",
   "execution_count": 34,
   "id": "60db8bae",
   "metadata": {},
   "outputs": [
    {
     "data": {
      "text/plain": [
       "array(['32 GB', '64 GB', '128 GB', '256 GB', '16 GB', '512 GB', '8 GB'],\n",
       "      dtype=object)"
      ]
     },
     "execution_count": 34,
     "metadata": {},
     "output_type": "execute_result"
    }
   ],
   "source": [
    "data['int_memory(GB)'].unique()"
   ]
  },
  {
   "cell_type": "markdown",
   "id": "f9886ea9",
   "metadata": {},
   "source": [
    "We have to remove GB from the data and change its type to int."
   ]
  },
  {
   "cell_type": "code",
   "execution_count": 35,
   "id": "a031ed34",
   "metadata": {},
   "outputs": [],
   "source": [
    "data[['int_memory(GB)','dummy1','dummy2']] = data['int_memory(GB)'].str.partition(\" \")"
   ]
  },
  {
   "cell_type": "markdown",
   "id": "ba02820e",
   "metadata": {},
   "source": [
    "Since we have no use of dummy1 and dummy2 so remove it from data."
   ]
  },
  {
   "cell_type": "code",
   "execution_count": 36,
   "id": "cbc2d5b5",
   "metadata": {},
   "outputs": [],
   "source": [
    "data.drop(['dummy1','dummy2'],1,inplace=True)"
   ]
  },
  {
   "cell_type": "code",
   "execution_count": 37,
   "id": "7907fab1",
   "metadata": {},
   "outputs": [],
   "source": [
    "# Changing data types to int \n",
    "data['int_memory(GB)']=data['int_memory(GB)'].astype('int')"
   ]
  },
  {
   "cell_type": "code",
   "execution_count": 38,
   "id": "d96f54c4",
   "metadata": {},
   "outputs": [
    {
     "data": {
      "text/html": [
       "<div>\n",
       "<style scoped>\n",
       "    .dataframe tbody tr th:only-of-type {\n",
       "        vertical-align: middle;\n",
       "    }\n",
       "\n",
       "    .dataframe tbody tr th {\n",
       "        vertical-align: top;\n",
       "    }\n",
       "\n",
       "    .dataframe thead th {\n",
       "        text-align: right;\n",
       "    }\n",
       "</style>\n",
       "<table border=\"1\" class=\"dataframe\">\n",
       "  <thead>\n",
       "    <tr style=\"text-align: right;\">\n",
       "      <th></th>\n",
       "      <th>mobile_name</th>\n",
       "      <th>mobile_price_inr</th>\n",
       "      <th>mobile_color</th>\n",
       "      <th>dual_sim</th>\n",
       "      <th>disp_size(cm/inch)</th>\n",
       "      <th>resolution(pixels)</th>\n",
       "      <th>os</th>\n",
       "      <th>num_cores</th>\n",
       "      <th>mp_speed(GHz)</th>\n",
       "      <th>int_memory(GB)</th>\n",
       "      <th>...</th>\n",
       "      <th>p_cam(MP)</th>\n",
       "      <th>f_cam(MP)</th>\n",
       "      <th>network</th>\n",
       "      <th>battery_power(mAh)</th>\n",
       "      <th>mob_width(mm)</th>\n",
       "      <th>mob_height(mm)</th>\n",
       "      <th>mob_depth(mm)</th>\n",
       "      <th>mob_weight(g)</th>\n",
       "      <th>res1</th>\n",
       "      <th>res2</th>\n",
       "    </tr>\n",
       "  </thead>\n",
       "  <tbody>\n",
       "    <tr>\n",
       "      <th>0</th>\n",
       "      <td>Realme</td>\n",
       "      <td>8999</td>\n",
       "      <td>White</td>\n",
       "      <td>Dual Sim</td>\n",
       "      <td>16.56</td>\n",
       "      <td>1152000</td>\n",
       "      <td>Android 10</td>\n",
       "      <td>Octa Core</td>\n",
       "      <td>2.0</td>\n",
       "      <td>32</td>\n",
       "      <td>...</td>\n",
       "      <td>12MP + 2MP + 2MP</td>\n",
       "      <td>5MP Front Camera</td>\n",
       "      <td>4G VOLTE, 4G, 3G, 2G</td>\n",
       "      <td>5000 mAh</td>\n",
       "      <td>75 mm</td>\n",
       "      <td>164.4 mm</td>\n",
       "      <td>8.95 mm</td>\n",
       "      <td>195 g</td>\n",
       "      <td>1600</td>\n",
       "      <td>720</td>\n",
       "    </tr>\n",
       "    <tr>\n",
       "      <th>1</th>\n",
       "      <td>Realme</td>\n",
       "      <td>8999</td>\n",
       "      <td>Blue</td>\n",
       "      <td>Dual Sim</td>\n",
       "      <td>16.56</td>\n",
       "      <td>1152000</td>\n",
       "      <td>Android 10</td>\n",
       "      <td>Octa Core</td>\n",
       "      <td>2.0</td>\n",
       "      <td>32</td>\n",
       "      <td>...</td>\n",
       "      <td>12MP + 2MP + 2MP</td>\n",
       "      <td>5MP Front Camera</td>\n",
       "      <td>4G VOLTE, 4G, 3G, 2G</td>\n",
       "      <td>5000 mAh</td>\n",
       "      <td>75 mm</td>\n",
       "      <td>164.4 mm</td>\n",
       "      <td>8.95 mm</td>\n",
       "      <td>195 g</td>\n",
       "      <td>1600</td>\n",
       "      <td>720</td>\n",
       "    </tr>\n",
       "  </tbody>\n",
       "</table>\n",
       "<p>2 rows × 21 columns</p>\n",
       "</div>"
      ],
      "text/plain": [
       "  mobile_name  mobile_price_inr mobile_color  dual_sim  disp_size(cm/inch)  \\\n",
       "0      Realme              8999        White  Dual Sim               16.56   \n",
       "1      Realme              8999         Blue  Dual Sim               16.56   \n",
       "\n",
       "   resolution(pixels)          os  num_cores  mp_speed(GHz)  int_memory(GB)  \\\n",
       "0             1152000  Android 10  Octa Core            2.0              32   \n",
       "1             1152000  Android 10  Octa Core            2.0              32   \n",
       "\n",
       "   ...         p_cam(MP)         f_cam(MP)               network  \\\n",
       "0  ...  12MP + 2MP + 2MP  5MP Front Camera  4G VOLTE, 4G, 3G, 2G   \n",
       "1  ...  12MP + 2MP + 2MP  5MP Front Camera  4G VOLTE, 4G, 3G, 2G   \n",
       "\n",
       "  battery_power(mAh) mob_width(mm) mob_height(mm) mob_depth(mm) mob_weight(g)  \\\n",
       "0           5000 mAh         75 mm       164.4 mm       8.95 mm         195 g   \n",
       "1           5000 mAh         75 mm       164.4 mm       8.95 mm         195 g   \n",
       "\n",
       "   res1  res2  \n",
       "0  1600   720  \n",
       "1  1600   720  \n",
       "\n",
       "[2 rows x 21 columns]"
      ]
     },
     "execution_count": 38,
     "metadata": {},
     "output_type": "execute_result"
    }
   ],
   "source": [
    "data.head(2)"
   ]
  },
  {
   "cell_type": "code",
   "execution_count": 39,
   "id": "1317e65a",
   "metadata": {},
   "outputs": [
    {
     "data": {
      "text/plain": [
       "array(['5000 mAh', '4035 mAh', '4000 mAh', '3500 mAh', '4200 mAh',\n",
       "       '4300 mAh', '4230 mAh', '5020 mAh', '4030 mAh', '3400 mAh',\n",
       "       '3080 mAh', '3010 mAh', '4780 mAh', '3050 mAh', '4100 mAh',\n",
       "       '3000 mAh', '4500 mAh', '3700 mAh', '3260 mAh', '3360 mAh',\n",
       "       '3225 mAh', '2730 mAh', '6000 mAh', '2600 mAh', '2000 mAh',\n",
       "       '3600 mAh', '4350 mAh', '4025 mAh', '4065 mAh', '3730 mAh',\n",
       "       '3180 mAh', '4020 mAh', '3075 mAh', '3200 mAh'], dtype=object)"
      ]
     },
     "execution_count": 39,
     "metadata": {},
     "output_type": "execute_result"
    }
   ],
   "source": [
    "data['battery_power(mAh)'].unique()"
   ]
  },
  {
   "cell_type": "code",
   "execution_count": 40,
   "id": "f6c355f9",
   "metadata": {},
   "outputs": [],
   "source": [
    "def cleanig_n_converting(data,col):\n",
    "    data[[col,'dummy1','dummy2']] = data[col].str.partition(\" \")\n",
    "    data.drop(['dummy1','dummy2'],1,inplace=True)\n",
    "    data[col]=data[col].astype(float)\n",
    "        "
   ]
  },
  {
   "cell_type": "code",
   "execution_count": 41,
   "id": "2c058384",
   "metadata": {},
   "outputs": [],
   "source": [
    "# Cleaning and converting datatype of column 'battery_power(mAh)'\n",
    "cleanig_n_converting(data,'battery_power(mAh)')"
   ]
  },
  {
   "cell_type": "code",
   "execution_count": 42,
   "id": "73017da1",
   "metadata": {},
   "outputs": [],
   "source": [
    "# Cleaning and converting datatype of column 'mob_width(mm)'\n",
    "cleanig_n_converting(data,'mob_width(mm)')\n"
   ]
  },
  {
   "cell_type": "code",
   "execution_count": 43,
   "id": "38f4f65a",
   "metadata": {},
   "outputs": [],
   "source": [
    "# Cleaning and converting datatype of column 'mob_height(mm)'\n",
    "cleanig_n_converting(data,'mob_height(mm)')"
   ]
  },
  {
   "cell_type": "code",
   "execution_count": 44,
   "id": "3bcf67d4",
   "metadata": {},
   "outputs": [],
   "source": [
    "# Cleaning and converting datatype of column 'mob_depth(mm)'\n",
    "cleanig_n_converting(data,'mob_depth(mm)')"
   ]
  },
  {
   "cell_type": "code",
   "execution_count": 45,
   "id": "9655434b",
   "metadata": {},
   "outputs": [],
   "source": [
    "# Cleaning and converting datatype of column 'mob_weight(g)'\n",
    "cleanig_n_converting(data,'mob_weight(g)')"
   ]
  },
  {
   "cell_type": "code",
   "execution_count": 46,
   "id": "5c78f885",
   "metadata": {},
   "outputs": [],
   "source": [
    "# Cleaning and converting datatype of column 'mob_weight(g)'\n",
    "cleanig_n_converting(data,'ram(GB)')"
   ]
  },
  {
   "cell_type": "code",
   "execution_count": 47,
   "id": "fbbb5c59",
   "metadata": {},
   "outputs": [
    {
     "data": {
      "text/plain": [
       "Index(['mobile_name', 'mobile_price_inr', 'mobile_color', 'dual_sim',\n",
       "       'disp_size(cm/inch)', 'resolution(pixels)', 'os', 'num_cores',\n",
       "       'mp_speed(GHz)', 'int_memory(GB)', 'ram(GB)', 'p_cam(MP)', 'f_cam(MP)',\n",
       "       'network', 'battery_power(mAh)', 'mob_width(mm)', 'mob_height(mm)',\n",
       "       'mob_depth(mm)', 'mob_weight(g)', 'res1', 'res2'],\n",
       "      dtype='object')"
      ]
     },
     "execution_count": 47,
     "metadata": {},
     "output_type": "execute_result"
    }
   ],
   "source": [
    "data.columns"
   ]
  },
  {
   "cell_type": "code",
   "execution_count": 48,
   "id": "cc7440f1",
   "metadata": {},
   "outputs": [
    {
     "data": {
      "text/plain": [
       "0          12MP + 2MP + 2MP\n",
       "1          12MP + 2MP + 2MP\n",
       "2          12MP + 2MP + 2MP\n",
       "3          12MP + 2MP + 2MP\n",
       "4    48MP + 8MP + 2MP + 2MP\n",
       "Name: p_cam(MP), dtype: object"
      ]
     },
     "execution_count": 48,
     "metadata": {},
     "output_type": "execute_result"
    }
   ],
   "source": [
    "data['p_cam(MP)'].head()"
   ]
  },
  {
   "cell_type": "code",
   "execution_count": 49,
   "id": "53d80438",
   "metadata": {},
   "outputs": [
    {
     "data": {
      "text/plain": [
       "array(['5MP Front Camera', '16MP Front Camera',\n",
       "       '32MP + 8MP Dual Front Camera', '16MP + 8MP Dual Front Camera',\n",
       "       '13MP Front Camera', '32MP Front Camera', '8MP Front Camera',\n",
       "       '20MP Front Camera', '20MP + 2MP Dual Front Camera',\n",
       "       '2MP Front Camera', '8MP Dual Front Camera', '25MP Front Camera',\n",
       "       '24MP Front Camera', '13MP + 2MP Dual Front Camera',\n",
       "       '44MP + 2MP Dual Front Camera'], dtype=object)"
      ]
     },
     "execution_count": 49,
     "metadata": {},
     "output_type": "execute_result"
    }
   ],
   "source": [
    "data['f_cam(MP)'].unique()"
   ]
  },
  {
   "cell_type": "code",
   "execution_count": 50,
   "id": "e758a15a",
   "metadata": {},
   "outputs": [
    {
     "data": {
      "text/plain": [
       "0    4G VOLTE, 4G, 3G, 2G\n",
       "1    4G VOLTE, 4G, 3G, 2G\n",
       "2    4G VOLTE, 4G, 3G, 2G\n",
       "3    4G VOLTE, 4G, 3G, 2G\n",
       "4    4G VOLTE, 4G, 3G, 2G\n",
       "Name: network, dtype: object"
      ]
     },
     "execution_count": 50,
     "metadata": {},
     "output_type": "execute_result"
    }
   ],
   "source": [
    "data['network'].head()"
   ]
  },
  {
   "cell_type": "markdown",
   "id": "1a199914",
   "metadata": {},
   "source": [
    "In 'network' feature, the network bandwidth mobile work on so it is also cost determining factor. Hence we will try to use One Hot Encode on it.\n",
    "1. First we are removing extra spaces \"\", If not removed it might create duplicate column."
   ]
  },
  {
   "cell_type": "code",
   "execution_count": 51,
   "id": "a4907bf6",
   "metadata": {},
   "outputs": [],
   "source": [
    "data['network'] = data['network'].str.replace(\" \",\"\")"
   ]
  },
  {
   "cell_type": "markdown",
   "id": "f0cc1804",
   "metadata": {},
   "source": [
    "- Since the values in the str formate are jumbled, we will convert it into list by spliting and then sorting it."
   ]
  },
  {
   "cell_type": "code",
   "execution_count": 52,
   "id": "83e6c76d",
   "metadata": {},
   "outputs": [
    {
     "data": {
      "text/plain": [
       "0    4GVOLTE,4G,3G,2G\n",
       "1    4GVOLTE,4G,3G,2G\n",
       "2    4GVOLTE,4G,3G,2G\n",
       "3    4GVOLTE,4G,3G,2G\n",
       "4    4GVOLTE,4G,3G,2G\n",
       "Name: network, dtype: object"
      ]
     },
     "execution_count": 52,
     "metadata": {},
     "output_type": "execute_result"
    }
   ],
   "source": [
    "data['network'].head()"
   ]
  },
  {
   "cell_type": "code",
   "execution_count": 53,
   "id": "17b7f15f",
   "metadata": {},
   "outputs": [],
   "source": [
    "data['network'] = data['network'].apply(lambda x: sorted(x.split(',')))\n"
   ]
  },
  {
   "cell_type": "code",
   "execution_count": 54,
   "id": "2fd8ffdd",
   "metadata": {},
   "outputs": [
    {
     "data": {
      "text/plain": [
       "[2G, 3G, 4G, 4GVOLTE]        238\n",
       "[2G, 3G, 4GVOLTE]             99\n",
       "[2G, 3G, 4G]                  68\n",
       "[3G, 4GVOLTE]                 18\n",
       "[3G, 4G, 4GVOLTE]             13\n",
       "[4GVOLTE]                      8\n",
       "[4GVOLTE, 5G]                  4\n",
       "[2G, 3G, 4G, 4GVOLTE, 5G]      3\n",
       "[4G, 4GVOLTE]                  3\n",
       "[2G]                           2\n",
       "[3G, 4G]                       2\n",
       "[3G]                           1\n",
       "Name: network, dtype: int64"
      ]
     },
     "execution_count": 54,
     "metadata": {},
     "output_type": "execute_result"
    }
   ],
   "source": [
    "data['network'].value_counts()"
   ]
  },
  {
   "cell_type": "markdown",
   "id": "4b55a6c2",
   "metadata": {},
   "source": [
    "- Now we use MultiLabelBinarizer to convert data['network'] column"
   ]
  },
  {
   "cell_type": "code",
   "execution_count": 55,
   "id": "b6ec2bcf",
   "metadata": {},
   "outputs": [
    {
     "data": {
      "text/html": [
       "<style>#sk-container-id-1 {color: black;background-color: white;}#sk-container-id-1 pre{padding: 0;}#sk-container-id-1 div.sk-toggleable {background-color: white;}#sk-container-id-1 label.sk-toggleable__label {cursor: pointer;display: block;width: 100%;margin-bottom: 0;padding: 0.3em;box-sizing: border-box;text-align: center;}#sk-container-id-1 label.sk-toggleable__label-arrow:before {content: \"▸\";float: left;margin-right: 0.25em;color: #696969;}#sk-container-id-1 label.sk-toggleable__label-arrow:hover:before {color: black;}#sk-container-id-1 div.sk-estimator:hover label.sk-toggleable__label-arrow:before {color: black;}#sk-container-id-1 div.sk-toggleable__content {max-height: 0;max-width: 0;overflow: hidden;text-align: left;background-color: #f0f8ff;}#sk-container-id-1 div.sk-toggleable__content pre {margin: 0.2em;color: black;border-radius: 0.25em;background-color: #f0f8ff;}#sk-container-id-1 input.sk-toggleable__control:checked~div.sk-toggleable__content {max-height: 200px;max-width: 100%;overflow: auto;}#sk-container-id-1 input.sk-toggleable__control:checked~label.sk-toggleable__label-arrow:before {content: \"▾\";}#sk-container-id-1 div.sk-estimator input.sk-toggleable__control:checked~label.sk-toggleable__label {background-color: #d4ebff;}#sk-container-id-1 div.sk-label input.sk-toggleable__control:checked~label.sk-toggleable__label {background-color: #d4ebff;}#sk-container-id-1 input.sk-hidden--visually {border: 0;clip: rect(1px 1px 1px 1px);clip: rect(1px, 1px, 1px, 1px);height: 1px;margin: -1px;overflow: hidden;padding: 0;position: absolute;width: 1px;}#sk-container-id-1 div.sk-estimator {font-family: monospace;background-color: #f0f8ff;border: 1px dotted black;border-radius: 0.25em;box-sizing: border-box;margin-bottom: 0.5em;}#sk-container-id-1 div.sk-estimator:hover {background-color: #d4ebff;}#sk-container-id-1 div.sk-parallel-item::after {content: \"\";width: 100%;border-bottom: 1px solid gray;flex-grow: 1;}#sk-container-id-1 div.sk-label:hover label.sk-toggleable__label {background-color: #d4ebff;}#sk-container-id-1 div.sk-serial::before {content: \"\";position: absolute;border-left: 1px solid gray;box-sizing: border-box;top: 0;bottom: 0;left: 50%;z-index: 0;}#sk-container-id-1 div.sk-serial {display: flex;flex-direction: column;align-items: center;background-color: white;padding-right: 0.2em;padding-left: 0.2em;position: relative;}#sk-container-id-1 div.sk-item {position: relative;z-index: 1;}#sk-container-id-1 div.sk-parallel {display: flex;align-items: stretch;justify-content: center;background-color: white;position: relative;}#sk-container-id-1 div.sk-item::before, #sk-container-id-1 div.sk-parallel-item::before {content: \"\";position: absolute;border-left: 1px solid gray;box-sizing: border-box;top: 0;bottom: 0;left: 50%;z-index: -1;}#sk-container-id-1 div.sk-parallel-item {display: flex;flex-direction: column;z-index: 1;position: relative;background-color: white;}#sk-container-id-1 div.sk-parallel-item:first-child::after {align-self: flex-end;width: 50%;}#sk-container-id-1 div.sk-parallel-item:last-child::after {align-self: flex-start;width: 50%;}#sk-container-id-1 div.sk-parallel-item:only-child::after {width: 0;}#sk-container-id-1 div.sk-dashed-wrapped {border: 1px dashed gray;margin: 0 0.4em 0.5em 0.4em;box-sizing: border-box;padding-bottom: 0.4em;background-color: white;}#sk-container-id-1 div.sk-label label {font-family: monospace;font-weight: bold;display: inline-block;line-height: 1.2em;}#sk-container-id-1 div.sk-label-container {text-align: center;}#sk-container-id-1 div.sk-container {/* jupyter's `normalize.less` sets `[hidden] { display: none; }` but bootstrap.min.css set `[hidden] { display: none !important; }` so we also need the `!important` here to be able to override the default hidden behavior on the sphinx rendered scikit-learn.org. See: https://github.com/scikit-learn/scikit-learn/issues/21755 */display: inline-block !important;position: relative;}#sk-container-id-1 div.sk-text-repr-fallback {display: none;}</style><div id=\"sk-container-id-1\" class=\"sk-top-container\"><div class=\"sk-text-repr-fallback\"><pre>MultiLabelBinarizer()</pre><b>In a Jupyter environment, please rerun this cell to show the HTML representation or trust the notebook. <br />On GitHub, the HTML representation is unable to render, please try loading this page with nbviewer.org.</b></div><div class=\"sk-container\" hidden><div class=\"sk-item\"><div class=\"sk-estimator sk-toggleable\"><input class=\"sk-toggleable__control sk-hidden--visually\" id=\"sk-estimator-id-1\" type=\"checkbox\" checked><label for=\"sk-estimator-id-1\" class=\"sk-toggleable__label sk-toggleable__label-arrow\">MultiLabelBinarizer</label><div class=\"sk-toggleable__content\"><pre>MultiLabelBinarizer()</pre></div></div></div></div></div>"
      ],
      "text/plain": [
       "MultiLabelBinarizer()"
      ]
     },
     "execution_count": 55,
     "metadata": {},
     "output_type": "execute_result"
    }
   ],
   "source": [
    "from sklearn.preprocessing import MultiLabelBinarizer\n",
    "mlb = MultiLabelBinarizer()\n",
    "mlb"
   ]
  },
  {
   "cell_type": "code",
   "execution_count": 56,
   "id": "f9abe8dc",
   "metadata": {},
   "outputs": [
    {
     "data": {
      "text/plain": [
       "array([[1, 1, 1, 1, 0],\n",
       "       [1, 1, 1, 1, 0],\n",
       "       [1, 1, 1, 1, 0],\n",
       "       ...,\n",
       "       [1, 1, 1, 0, 0],\n",
       "       [1, 1, 1, 1, 0],\n",
       "       [1, 1, 1, 1, 0]])"
      ]
     },
     "execution_count": 56,
     "metadata": {},
     "output_type": "execute_result"
    }
   ],
   "source": [
    "data_network = mlb.fit_transform(data['network'])\n",
    "data_network"
   ]
  },
  {
   "cell_type": "code",
   "execution_count": 57,
   "id": "2a98c85f",
   "metadata": {},
   "outputs": [],
   "source": [
    "data_network = pd.DataFrame(data_network,columns = mlb.classes_,index=data.index)"
   ]
  },
  {
   "cell_type": "code",
   "execution_count": 58,
   "id": "4dedda9f",
   "metadata": {},
   "outputs": [
    {
     "data": {
      "text/html": [
       "<div>\n",
       "<style scoped>\n",
       "    .dataframe tbody tr th:only-of-type {\n",
       "        vertical-align: middle;\n",
       "    }\n",
       "\n",
       "    .dataframe tbody tr th {\n",
       "        vertical-align: top;\n",
       "    }\n",
       "\n",
       "    .dataframe thead th {\n",
       "        text-align: right;\n",
       "    }\n",
       "</style>\n",
       "<table border=\"1\" class=\"dataframe\">\n",
       "  <thead>\n",
       "    <tr style=\"text-align: right;\">\n",
       "      <th></th>\n",
       "      <th>2G</th>\n",
       "      <th>3G</th>\n",
       "      <th>4G</th>\n",
       "      <th>4GVOLTE</th>\n",
       "      <th>5G</th>\n",
       "    </tr>\n",
       "  </thead>\n",
       "  <tbody>\n",
       "    <tr>\n",
       "      <th>0</th>\n",
       "      <td>1</td>\n",
       "      <td>1</td>\n",
       "      <td>1</td>\n",
       "      <td>1</td>\n",
       "      <td>0</td>\n",
       "    </tr>\n",
       "    <tr>\n",
       "      <th>1</th>\n",
       "      <td>1</td>\n",
       "      <td>1</td>\n",
       "      <td>1</td>\n",
       "      <td>1</td>\n",
       "      <td>0</td>\n",
       "    </tr>\n",
       "    <tr>\n",
       "      <th>2</th>\n",
       "      <td>1</td>\n",
       "      <td>1</td>\n",
       "      <td>1</td>\n",
       "      <td>1</td>\n",
       "      <td>0</td>\n",
       "    </tr>\n",
       "    <tr>\n",
       "      <th>3</th>\n",
       "      <td>1</td>\n",
       "      <td>1</td>\n",
       "      <td>1</td>\n",
       "      <td>1</td>\n",
       "      <td>0</td>\n",
       "    </tr>\n",
       "    <tr>\n",
       "      <th>4</th>\n",
       "      <td>1</td>\n",
       "      <td>1</td>\n",
       "      <td>1</td>\n",
       "      <td>1</td>\n",
       "      <td>0</td>\n",
       "    </tr>\n",
       "    <tr>\n",
       "      <th>...</th>\n",
       "      <td>...</td>\n",
       "      <td>...</td>\n",
       "      <td>...</td>\n",
       "      <td>...</td>\n",
       "      <td>...</td>\n",
       "    </tr>\n",
       "    <tr>\n",
       "      <th>454</th>\n",
       "      <td>1</td>\n",
       "      <td>1</td>\n",
       "      <td>0</td>\n",
       "      <td>1</td>\n",
       "      <td>0</td>\n",
       "    </tr>\n",
       "    <tr>\n",
       "      <th>455</th>\n",
       "      <td>1</td>\n",
       "      <td>1</td>\n",
       "      <td>1</td>\n",
       "      <td>1</td>\n",
       "      <td>0</td>\n",
       "    </tr>\n",
       "    <tr>\n",
       "      <th>456</th>\n",
       "      <td>1</td>\n",
       "      <td>1</td>\n",
       "      <td>1</td>\n",
       "      <td>0</td>\n",
       "      <td>0</td>\n",
       "    </tr>\n",
       "    <tr>\n",
       "      <th>457</th>\n",
       "      <td>1</td>\n",
       "      <td>1</td>\n",
       "      <td>1</td>\n",
       "      <td>1</td>\n",
       "      <td>0</td>\n",
       "    </tr>\n",
       "    <tr>\n",
       "      <th>458</th>\n",
       "      <td>1</td>\n",
       "      <td>1</td>\n",
       "      <td>1</td>\n",
       "      <td>1</td>\n",
       "      <td>0</td>\n",
       "    </tr>\n",
       "  </tbody>\n",
       "</table>\n",
       "<p>459 rows × 5 columns</p>\n",
       "</div>"
      ],
      "text/plain": [
       "     2G  3G  4G  4GVOLTE  5G\n",
       "0     1   1   1        1   0\n",
       "1     1   1   1        1   0\n",
       "2     1   1   1        1   0\n",
       "3     1   1   1        1   0\n",
       "4     1   1   1        1   0\n",
       "..   ..  ..  ..      ...  ..\n",
       "454   1   1   0        1   0\n",
       "455   1   1   1        1   0\n",
       "456   1   1   1        0   0\n",
       "457   1   1   1        1   0\n",
       "458   1   1   1        1   0\n",
       "\n",
       "[459 rows x 5 columns]"
      ]
     },
     "execution_count": 58,
     "metadata": {},
     "output_type": "execute_result"
    }
   ],
   "source": [
    "data_network"
   ]
  },
  {
   "cell_type": "markdown",
   "id": "90809502",
   "metadata": {},
   "source": [
    "#### Merging newly formed data_network with existing data"
   ]
  },
  {
   "cell_type": "code",
   "execution_count": 59,
   "id": "f1572345",
   "metadata": {},
   "outputs": [],
   "source": [
    "data = pd.concat([data,data_network],axis=1)"
   ]
  },
  {
   "cell_type": "code",
   "execution_count": 60,
   "id": "cfe00d5b",
   "metadata": {},
   "outputs": [],
   "source": [
    "# Now droping the network column from the dataset\n",
    "data.drop('network',1,inplace=True)"
   ]
  },
  {
   "cell_type": "code",
   "execution_count": 61,
   "id": "8d8bab78",
   "metadata": {},
   "outputs": [
    {
     "data": {
      "text/html": [
       "<div>\n",
       "<style scoped>\n",
       "    .dataframe tbody tr th:only-of-type {\n",
       "        vertical-align: middle;\n",
       "    }\n",
       "\n",
       "    .dataframe tbody tr th {\n",
       "        vertical-align: top;\n",
       "    }\n",
       "\n",
       "    .dataframe thead th {\n",
       "        text-align: right;\n",
       "    }\n",
       "</style>\n",
       "<table border=\"1\" class=\"dataframe\">\n",
       "  <thead>\n",
       "    <tr style=\"text-align: right;\">\n",
       "      <th></th>\n",
       "      <th>mobile_name</th>\n",
       "      <th>mobile_price_inr</th>\n",
       "      <th>mobile_color</th>\n",
       "      <th>dual_sim</th>\n",
       "      <th>disp_size(cm/inch)</th>\n",
       "      <th>resolution(pixels)</th>\n",
       "      <th>os</th>\n",
       "      <th>num_cores</th>\n",
       "      <th>mp_speed(GHz)</th>\n",
       "      <th>int_memory(GB)</th>\n",
       "      <th>...</th>\n",
       "      <th>mob_height(mm)</th>\n",
       "      <th>mob_depth(mm)</th>\n",
       "      <th>mob_weight(g)</th>\n",
       "      <th>res1</th>\n",
       "      <th>res2</th>\n",
       "      <th>2G</th>\n",
       "      <th>3G</th>\n",
       "      <th>4G</th>\n",
       "      <th>4GVOLTE</th>\n",
       "      <th>5G</th>\n",
       "    </tr>\n",
       "  </thead>\n",
       "  <tbody>\n",
       "    <tr>\n",
       "      <th>0</th>\n",
       "      <td>Realme</td>\n",
       "      <td>8999</td>\n",
       "      <td>White</td>\n",
       "      <td>Dual Sim</td>\n",
       "      <td>16.56</td>\n",
       "      <td>1152000</td>\n",
       "      <td>Android 10</td>\n",
       "      <td>Octa Core</td>\n",
       "      <td>2.0</td>\n",
       "      <td>32</td>\n",
       "      <td>...</td>\n",
       "      <td>164.4</td>\n",
       "      <td>8.95</td>\n",
       "      <td>195.0</td>\n",
       "      <td>1600</td>\n",
       "      <td>720</td>\n",
       "      <td>1</td>\n",
       "      <td>1</td>\n",
       "      <td>1</td>\n",
       "      <td>1</td>\n",
       "      <td>0</td>\n",
       "    </tr>\n",
       "    <tr>\n",
       "      <th>1</th>\n",
       "      <td>Realme</td>\n",
       "      <td>8999</td>\n",
       "      <td>Blue</td>\n",
       "      <td>Dual Sim</td>\n",
       "      <td>16.56</td>\n",
       "      <td>1152000</td>\n",
       "      <td>Android 10</td>\n",
       "      <td>Octa Core</td>\n",
       "      <td>2.0</td>\n",
       "      <td>32</td>\n",
       "      <td>...</td>\n",
       "      <td>164.4</td>\n",
       "      <td>8.95</td>\n",
       "      <td>195.0</td>\n",
       "      <td>1600</td>\n",
       "      <td>720</td>\n",
       "      <td>1</td>\n",
       "      <td>1</td>\n",
       "      <td>1</td>\n",
       "      <td>1</td>\n",
       "      <td>0</td>\n",
       "    </tr>\n",
       "    <tr>\n",
       "      <th>2</th>\n",
       "      <td>Realme</td>\n",
       "      <td>9999</td>\n",
       "      <td>Blue</td>\n",
       "      <td>Dual Sim</td>\n",
       "      <td>16.56</td>\n",
       "      <td>1152000</td>\n",
       "      <td>Android 10</td>\n",
       "      <td>Octa Core</td>\n",
       "      <td>2.0</td>\n",
       "      <td>64</td>\n",
       "      <td>...</td>\n",
       "      <td>164.4</td>\n",
       "      <td>8.95</td>\n",
       "      <td>195.0</td>\n",
       "      <td>1600</td>\n",
       "      <td>720</td>\n",
       "      <td>1</td>\n",
       "      <td>1</td>\n",
       "      <td>1</td>\n",
       "      <td>1</td>\n",
       "      <td>0</td>\n",
       "    </tr>\n",
       "    <tr>\n",
       "      <th>3</th>\n",
       "      <td>Realme</td>\n",
       "      <td>9999</td>\n",
       "      <td>White</td>\n",
       "      <td>Dual Sim</td>\n",
       "      <td>16.56</td>\n",
       "      <td>1152000</td>\n",
       "      <td>Android 10</td>\n",
       "      <td>Octa Core</td>\n",
       "      <td>2.0</td>\n",
       "      <td>64</td>\n",
       "      <td>...</td>\n",
       "      <td>164.4</td>\n",
       "      <td>8.95</td>\n",
       "      <td>195.0</td>\n",
       "      <td>1600</td>\n",
       "      <td>720</td>\n",
       "      <td>1</td>\n",
       "      <td>1</td>\n",
       "      <td>1</td>\n",
       "      <td>1</td>\n",
       "      <td>0</td>\n",
       "    </tr>\n",
       "    <tr>\n",
       "      <th>4</th>\n",
       "      <td>Realme</td>\n",
       "      <td>11999</td>\n",
       "      <td>Green</td>\n",
       "      <td>Dual Sim</td>\n",
       "      <td>16.51</td>\n",
       "      <td>1152000</td>\n",
       "      <td>Android 10</td>\n",
       "      <td>Octa Core</td>\n",
       "      <td>2.0</td>\n",
       "      <td>128</td>\n",
       "      <td>...</td>\n",
       "      <td>164.4</td>\n",
       "      <td>9.00</td>\n",
       "      <td>199.0</td>\n",
       "      <td>1600</td>\n",
       "      <td>720</td>\n",
       "      <td>1</td>\n",
       "      <td>1</td>\n",
       "      <td>1</td>\n",
       "      <td>1</td>\n",
       "      <td>0</td>\n",
       "    </tr>\n",
       "  </tbody>\n",
       "</table>\n",
       "<p>5 rows × 25 columns</p>\n",
       "</div>"
      ],
      "text/plain": [
       "  mobile_name  mobile_price_inr mobile_color  dual_sim  disp_size(cm/inch)  \\\n",
       "0      Realme              8999        White  Dual Sim               16.56   \n",
       "1      Realme              8999         Blue  Dual Sim               16.56   \n",
       "2      Realme              9999         Blue  Dual Sim               16.56   \n",
       "3      Realme              9999        White  Dual Sim               16.56   \n",
       "4      Realme             11999        Green  Dual Sim               16.51   \n",
       "\n",
       "   resolution(pixels)          os  num_cores  mp_speed(GHz)  int_memory(GB)  \\\n",
       "0             1152000  Android 10  Octa Core            2.0              32   \n",
       "1             1152000  Android 10  Octa Core            2.0              32   \n",
       "2             1152000  Android 10  Octa Core            2.0              64   \n",
       "3             1152000  Android 10  Octa Core            2.0              64   \n",
       "4             1152000  Android 10  Octa Core            2.0             128   \n",
       "\n",
       "   ...  mob_height(mm) mob_depth(mm) mob_weight(g)  res1  res2  2G  3G  4G  \\\n",
       "0  ...           164.4          8.95         195.0  1600   720   1   1   1   \n",
       "1  ...           164.4          8.95         195.0  1600   720   1   1   1   \n",
       "2  ...           164.4          8.95         195.0  1600   720   1   1   1   \n",
       "3  ...           164.4          8.95         195.0  1600   720   1   1   1   \n",
       "4  ...           164.4          9.00         199.0  1600   720   1   1   1   \n",
       "\n",
       "   4GVOLTE  5G  \n",
       "0        1   0  \n",
       "1        1   0  \n",
       "2        1   0  \n",
       "3        1   0  \n",
       "4        1   0  \n",
       "\n",
       "[5 rows x 25 columns]"
      ]
     },
     "execution_count": 61,
     "metadata": {},
     "output_type": "execute_result"
    }
   ],
   "source": [
    "data.head()"
   ]
  },
  {
   "cell_type": "code",
   "execution_count": 62,
   "id": "74bcc04e",
   "metadata": {},
   "outputs": [
    {
     "data": {
      "text/plain": [
       "Dual Sim      458\n",
       "Single Sim      1\n",
       "Name: dual_sim, dtype: int64"
      ]
     },
     "execution_count": 62,
     "metadata": {},
     "output_type": "execute_result"
    }
   ],
   "source": [
    "data['dual_sim'].value_counts()"
   ]
  },
  {
   "cell_type": "markdown",
   "id": "e8b9bd5f",
   "metadata": {},
   "source": [
    "#### Droping dual_sim column from the dataset because it doesn't add any value to our analysis."
   ]
  },
  {
   "cell_type": "code",
   "execution_count": 63,
   "id": "e903277e",
   "metadata": {},
   "outputs": [],
   "source": [
    "data.drop('dual_sim',1,inplace=True)"
   ]
  },
  {
   "cell_type": "code",
   "execution_count": 64,
   "id": "d2011afa",
   "metadata": {},
   "outputs": [
    {
     "data": {
      "text/plain": [
       "Index(['mobile_name', 'mobile_price_inr', 'mobile_color', 'disp_size(cm/inch)',\n",
       "       'resolution(pixels)', 'os', 'num_cores', 'mp_speed(GHz)',\n",
       "       'int_memory(GB)', 'ram(GB)', 'p_cam(MP)', 'f_cam(MP)',\n",
       "       'battery_power(mAh)', 'mob_width(mm)', 'mob_height(mm)',\n",
       "       'mob_depth(mm)', 'mob_weight(g)', 'res1', 'res2', '2G', '3G', '4G',\n",
       "       '4GVOLTE', '5G'],\n",
       "      dtype='object')"
      ]
     },
     "execution_count": 64,
     "metadata": {},
     "output_type": "execute_result"
    }
   ],
   "source": [
    "data.columns"
   ]
  },
  {
   "cell_type": "code",
   "execution_count": 65,
   "id": "02b84409",
   "metadata": {},
   "outputs": [
    {
     "data": {
      "text/plain": [
       "0            12MP + 2MP + 2MP\n",
       "1            12MP + 2MP + 2MP\n",
       "2            12MP + 2MP + 2MP\n",
       "3            12MP + 2MP + 2MP\n",
       "4      48MP + 8MP + 2MP + 2MP\n",
       "                ...          \n",
       "454          13MP Rear Camera\n",
       "455          13MP Rear Camera\n",
       "456          16MP Rear Camera\n",
       "457                48MP + 5MP\n",
       "458                48MP + 5MP\n",
       "Name: p_cam(MP), Length: 459, dtype: object"
      ]
     },
     "execution_count": 65,
     "metadata": {},
     "output_type": "execute_result"
    }
   ],
   "source": [
    "data['p_cam(MP)']"
   ]
  },
  {
   "cell_type": "code",
   "execution_count": 66,
   "id": "9dd3c415",
   "metadata": {},
   "outputs": [],
   "source": [
    "data['p_cam_max'] = [x[0:2].replace(\"M\",\"\") for x in data['p_cam(MP)']]\n",
    "data['p_cam_count'] = [x.count('MP') for x in data['p_cam(MP)']]"
   ]
  },
  {
   "cell_type": "code",
   "execution_count": 67,
   "id": "3e94df38",
   "metadata": {},
   "outputs": [
    {
     "data": {
      "text/plain": [
       "0       5MP Front Camera\n",
       "1       5MP Front Camera\n",
       "2       5MP Front Camera\n",
       "3       5MP Front Camera\n",
       "4      16MP Front Camera\n",
       "             ...        \n",
       "454     8MP Front Camera\n",
       "455     8MP Front Camera\n",
       "456    25MP Front Camera\n",
       "457    16MP Front Camera\n",
       "458    16MP Front Camera\n",
       "Name: f_cam(MP), Length: 459, dtype: object"
      ]
     },
     "execution_count": 67,
     "metadata": {},
     "output_type": "execute_result"
    }
   ],
   "source": [
    "data['f_cam(MP)']"
   ]
  },
  {
   "cell_type": "code",
   "execution_count": 68,
   "id": "231f82d4",
   "metadata": {},
   "outputs": [],
   "source": [
    "data['f_cam_max'] = [x[0:2].replace(\"M\",\"\") for x in data['f_cam(MP)']]\n",
    "data['f_cam_count'] = [x.count('MP') for x in data['f_cam(MP)']]"
   ]
  },
  {
   "cell_type": "markdown",
   "id": "35c254bd",
   "metadata": {},
   "source": [
    "#### Changing datatype fo f_cam_max and p_cam_max "
   ]
  },
  {
   "cell_type": "code",
   "execution_count": 69,
   "id": "3cb0e3d3",
   "metadata": {},
   "outputs": [],
   "source": [
    "data[['f_cam_max','p_cam_max']] = data[['f_cam_max','p_cam_max']].astype('int')"
   ]
  },
  {
   "cell_type": "markdown",
   "id": "3afe0713",
   "metadata": {},
   "source": [
    "#### droping f_cam(MP) and p_cam(MP) from dataset."
   ]
  },
  {
   "cell_type": "code",
   "execution_count": 70,
   "id": "18518410",
   "metadata": {},
   "outputs": [],
   "source": [
    "data.drop(['f_cam(MP)','p_cam(MP)','res1','res2'],1,inplace=True)"
   ]
  },
  {
   "cell_type": "code",
   "execution_count": 71,
   "id": "33494711",
   "metadata": {},
   "outputs": [],
   "source": [
    "data['os']=data['os'].str.replace('^Android\\s[a-zA-Z]*\\s?',\"\",regex=True)"
   ]
  },
  {
   "cell_type": "code",
   "execution_count": 72,
   "id": "af8ec048",
   "metadata": {},
   "outputs": [
    {
     "data": {
      "text/plain": [
       "array(['10', '9.0', '9', '8.1', '7.1.1', '8.0', '7.1.2', '4.4.2', '6.0.1',\n",
       "       '7.1', '6', '7', '5.4.1', '8.1.0', '8', '5.1', '5.1.1'],\n",
       "      dtype=object)"
      ]
     },
     "execution_count": 72,
     "metadata": {},
     "output_type": "execute_result"
    }
   ],
   "source": [
    "data.os.unique()"
   ]
  },
  {
   "cell_type": "markdown",
   "id": "9023c1aa",
   "metadata": {},
   "source": [
    "Now, we need to remove expected element from the os column"
   ]
  },
  {
   "cell_type": "code",
   "execution_count": 73,
   "id": "003cde5b",
   "metadata": {},
   "outputs": [],
   "source": [
    "data[['os','hoax1','hoax2']]=data['os'].str.partition('.')"
   ]
  },
  {
   "cell_type": "markdown",
   "id": "230103dc",
   "metadata": {},
   "source": [
    "Above we created hoax1 and hoax2 which is unwanted columns so we need to drop them."
   ]
  },
  {
   "cell_type": "code",
   "execution_count": 74,
   "id": "91536b08",
   "metadata": {},
   "outputs": [],
   "source": [
    "data.drop(['hoax1','hoax2'],axis=1,inplace=True)"
   ]
  },
  {
   "cell_type": "code",
   "execution_count": 75,
   "id": "b541d1da",
   "metadata": {},
   "outputs": [],
   "source": [
    "data['os'] = data['os'].astype('int')"
   ]
  },
  {
   "cell_type": "code",
   "execution_count": 76,
   "id": "310f578b",
   "metadata": {},
   "outputs": [
    {
     "data": {
      "text/plain": [
       "9     208\n",
       "8     122\n",
       "10     84\n",
       "7      34\n",
       "6       5\n",
       "5       5\n",
       "4       1\n",
       "Name: os, dtype: int64"
      ]
     },
     "execution_count": 76,
     "metadata": {},
     "output_type": "execute_result"
    }
   ],
   "source": [
    "data.os.value_counts()"
   ]
  },
  {
   "cell_type": "code",
   "execution_count": 77,
   "id": "78488ebb",
   "metadata": {},
   "outputs": [
    {
     "data": {
      "text/plain": [
       "array(['Octa Core', 'Quad Core', 'Single Core'], dtype=object)"
      ]
     },
     "execution_count": 77,
     "metadata": {},
     "output_type": "execute_result"
    }
   ],
   "source": [
    "data['num_cores'].unique()"
   ]
  },
  {
   "cell_type": "code",
   "execution_count": 78,
   "id": "5d72048c",
   "metadata": {},
   "outputs": [
    {
     "data": {
      "text/plain": [
       "{'Octa Core': 8, 'Quad Core': 4, 'Single Core': 1}"
      ]
     },
     "execution_count": 78,
     "metadata": {},
     "output_type": "execute_result"
    }
   ],
   "source": [
    "dic = {\n",
    "    'Octa Core':8,\n",
    "    'Quad Core':4,\n",
    "    'Single Core':1\n",
    "}\n",
    "dic"
   ]
  },
  {
   "cell_type": "code",
   "execution_count": 79,
   "id": "125f4fa7",
   "metadata": {},
   "outputs": [],
   "source": [
    "data['num_cores']=data['num_cores'].replace(dic)"
   ]
  },
  {
   "cell_type": "code",
   "execution_count": 80,
   "id": "51072de1",
   "metadata": {},
   "outputs": [
    {
     "data": {
      "text/html": [
       "<div>\n",
       "<style scoped>\n",
       "    .dataframe tbody tr th:only-of-type {\n",
       "        vertical-align: middle;\n",
       "    }\n",
       "\n",
       "    .dataframe tbody tr th {\n",
       "        vertical-align: top;\n",
       "    }\n",
       "\n",
       "    .dataframe thead th {\n",
       "        text-align: right;\n",
       "    }\n",
       "</style>\n",
       "<table border=\"1\" class=\"dataframe\">\n",
       "  <thead>\n",
       "    <tr style=\"text-align: right;\">\n",
       "      <th></th>\n",
       "      <th>mobile_name</th>\n",
       "      <th>mobile_price_inr</th>\n",
       "      <th>mobile_color</th>\n",
       "      <th>disp_size(cm/inch)</th>\n",
       "      <th>resolution(pixels)</th>\n",
       "      <th>os</th>\n",
       "      <th>num_cores</th>\n",
       "      <th>mp_speed(GHz)</th>\n",
       "      <th>int_memory(GB)</th>\n",
       "      <th>ram(GB)</th>\n",
       "      <th>...</th>\n",
       "      <th>mob_weight(g)</th>\n",
       "      <th>2G</th>\n",
       "      <th>3G</th>\n",
       "      <th>4G</th>\n",
       "      <th>4GVOLTE</th>\n",
       "      <th>5G</th>\n",
       "      <th>p_cam_max</th>\n",
       "      <th>p_cam_count</th>\n",
       "      <th>f_cam_max</th>\n",
       "      <th>f_cam_count</th>\n",
       "    </tr>\n",
       "  </thead>\n",
       "  <tbody>\n",
       "    <tr>\n",
       "      <th>0</th>\n",
       "      <td>Realme</td>\n",
       "      <td>8999</td>\n",
       "      <td>White</td>\n",
       "      <td>16.56</td>\n",
       "      <td>1152000</td>\n",
       "      <td>10</td>\n",
       "      <td>8</td>\n",
       "      <td>2.0</td>\n",
       "      <td>32</td>\n",
       "      <td>3.0</td>\n",
       "      <td>...</td>\n",
       "      <td>195.0</td>\n",
       "      <td>1</td>\n",
       "      <td>1</td>\n",
       "      <td>1</td>\n",
       "      <td>1</td>\n",
       "      <td>0</td>\n",
       "      <td>12</td>\n",
       "      <td>3</td>\n",
       "      <td>5</td>\n",
       "      <td>1</td>\n",
       "    </tr>\n",
       "    <tr>\n",
       "      <th>1</th>\n",
       "      <td>Realme</td>\n",
       "      <td>8999</td>\n",
       "      <td>Blue</td>\n",
       "      <td>16.56</td>\n",
       "      <td>1152000</td>\n",
       "      <td>10</td>\n",
       "      <td>8</td>\n",
       "      <td>2.0</td>\n",
       "      <td>32</td>\n",
       "      <td>3.0</td>\n",
       "      <td>...</td>\n",
       "      <td>195.0</td>\n",
       "      <td>1</td>\n",
       "      <td>1</td>\n",
       "      <td>1</td>\n",
       "      <td>1</td>\n",
       "      <td>0</td>\n",
       "      <td>12</td>\n",
       "      <td>3</td>\n",
       "      <td>5</td>\n",
       "      <td>1</td>\n",
       "    </tr>\n",
       "    <tr>\n",
       "      <th>2</th>\n",
       "      <td>Realme</td>\n",
       "      <td>9999</td>\n",
       "      <td>Blue</td>\n",
       "      <td>16.56</td>\n",
       "      <td>1152000</td>\n",
       "      <td>10</td>\n",
       "      <td>8</td>\n",
       "      <td>2.0</td>\n",
       "      <td>64</td>\n",
       "      <td>4.0</td>\n",
       "      <td>...</td>\n",
       "      <td>195.0</td>\n",
       "      <td>1</td>\n",
       "      <td>1</td>\n",
       "      <td>1</td>\n",
       "      <td>1</td>\n",
       "      <td>0</td>\n",
       "      <td>12</td>\n",
       "      <td>3</td>\n",
       "      <td>5</td>\n",
       "      <td>1</td>\n",
       "    </tr>\n",
       "    <tr>\n",
       "      <th>3</th>\n",
       "      <td>Realme</td>\n",
       "      <td>9999</td>\n",
       "      <td>White</td>\n",
       "      <td>16.56</td>\n",
       "      <td>1152000</td>\n",
       "      <td>10</td>\n",
       "      <td>8</td>\n",
       "      <td>2.0</td>\n",
       "      <td>64</td>\n",
       "      <td>4.0</td>\n",
       "      <td>...</td>\n",
       "      <td>195.0</td>\n",
       "      <td>1</td>\n",
       "      <td>1</td>\n",
       "      <td>1</td>\n",
       "      <td>1</td>\n",
       "      <td>0</td>\n",
       "      <td>12</td>\n",
       "      <td>3</td>\n",
       "      <td>5</td>\n",
       "      <td>1</td>\n",
       "    </tr>\n",
       "    <tr>\n",
       "      <th>4</th>\n",
       "      <td>Realme</td>\n",
       "      <td>11999</td>\n",
       "      <td>Green</td>\n",
       "      <td>16.51</td>\n",
       "      <td>1152000</td>\n",
       "      <td>10</td>\n",
       "      <td>8</td>\n",
       "      <td>2.0</td>\n",
       "      <td>128</td>\n",
       "      <td>4.0</td>\n",
       "      <td>...</td>\n",
       "      <td>199.0</td>\n",
       "      <td>1</td>\n",
       "      <td>1</td>\n",
       "      <td>1</td>\n",
       "      <td>1</td>\n",
       "      <td>0</td>\n",
       "      <td>48</td>\n",
       "      <td>4</td>\n",
       "      <td>16</td>\n",
       "      <td>1</td>\n",
       "    </tr>\n",
       "  </tbody>\n",
       "</table>\n",
       "<p>5 rows × 24 columns</p>\n",
       "</div>"
      ],
      "text/plain": [
       "  mobile_name  mobile_price_inr mobile_color  disp_size(cm/inch)  \\\n",
       "0      Realme              8999        White               16.56   \n",
       "1      Realme              8999         Blue               16.56   \n",
       "2      Realme              9999         Blue               16.56   \n",
       "3      Realme              9999        White               16.56   \n",
       "4      Realme             11999        Green               16.51   \n",
       "\n",
       "   resolution(pixels)  os  num_cores  mp_speed(GHz)  int_memory(GB)  ram(GB)  \\\n",
       "0             1152000  10          8            2.0              32      3.0   \n",
       "1             1152000  10          8            2.0              32      3.0   \n",
       "2             1152000  10          8            2.0              64      4.0   \n",
       "3             1152000  10          8            2.0              64      4.0   \n",
       "4             1152000  10          8            2.0             128      4.0   \n",
       "\n",
       "   ...  mob_weight(g)  2G  3G  4G  4GVOLTE  5G  p_cam_max  p_cam_count  \\\n",
       "0  ...          195.0   1   1   1        1   0         12            3   \n",
       "1  ...          195.0   1   1   1        1   0         12            3   \n",
       "2  ...          195.0   1   1   1        1   0         12            3   \n",
       "3  ...          195.0   1   1   1        1   0         12            3   \n",
       "4  ...          199.0   1   1   1        1   0         48            4   \n",
       "\n",
       "   f_cam_max  f_cam_count  \n",
       "0          5            1  \n",
       "1          5            1  \n",
       "2          5            1  \n",
       "3          5            1  \n",
       "4         16            1  \n",
       "\n",
       "[5 rows x 24 columns]"
      ]
     },
     "execution_count": 80,
     "metadata": {},
     "output_type": "execute_result"
    }
   ],
   "source": [
    "data.head()"
   ]
  },
  {
   "cell_type": "markdown",
   "id": "472372c5",
   "metadata": {},
   "source": [
    "#### Now we are done with the datacleaning part our dataset is cleanded."
   ]
  },
  {
   "cell_type": "code",
   "execution_count": 81,
   "id": "188f6f38",
   "metadata": {},
   "outputs": [
    {
     "data": {
      "text/plain": [
       "Vivo       96\n",
       "Redmi      93\n",
       "OPPO       86\n",
       "Realme     79\n",
       "Infinix    36\n",
       "POCO       31\n",
       "Mi         20\n",
       "Samsung    17\n",
       "MI3         1\n",
       "Name: mobile_name, dtype: int64"
      ]
     },
     "execution_count": 81,
     "metadata": {},
     "output_type": "execute_result"
    }
   ],
   "source": [
    "data['mobile_name'].value_counts()"
   ]
  },
  {
   "cell_type": "markdown",
   "id": "6ba4f814",
   "metadata": {},
   "source": [
    "From above we can observe that the most no. of saled mobile is of Vivo company followed by Redmi and OPPO."
   ]
  },
  {
   "cell_type": "markdown",
   "id": "d00783d5",
   "metadata": {},
   "source": [
    "### Performing One Hot Encoding in mobile_name, and mobile_color column"
   ]
  },
  {
   "cell_type": "code",
   "execution_count": 82,
   "id": "f2c2e4e4",
   "metadata": {},
   "outputs": [
    {
     "data": {
      "text/plain": [
       "mobile_name      9\n",
       "mobile_color    27\n",
       "dtype: int64"
      ]
     },
     "execution_count": 82,
     "metadata": {},
     "output_type": "execute_result"
    }
   ],
   "source": [
    "data[['mobile_name','mobile_color']].nunique()"
   ]
  },
  {
   "cell_type": "code",
   "execution_count": 83,
   "id": "43a8df20",
   "metadata": {},
   "outputs": [
    {
     "data": {
      "text/html": [
       "<div>\n",
       "<style scoped>\n",
       "    .dataframe tbody tr th:only-of-type {\n",
       "        vertical-align: middle;\n",
       "    }\n",
       "\n",
       "    .dataframe tbody tr th {\n",
       "        vertical-align: top;\n",
       "    }\n",
       "\n",
       "    .dataframe thead th {\n",
       "        text-align: right;\n",
       "    }\n",
       "</style>\n",
       "<table border=\"1\" class=\"dataframe\">\n",
       "  <thead>\n",
       "    <tr style=\"text-align: right;\">\n",
       "      <th></th>\n",
       "      <th>Infinix</th>\n",
       "      <th>MI3</th>\n",
       "      <th>Mi</th>\n",
       "      <th>OPPO</th>\n",
       "      <th>POCO</th>\n",
       "      <th>Realme</th>\n",
       "      <th>Redmi</th>\n",
       "      <th>Samsung</th>\n",
       "      <th>Vivo</th>\n",
       "    </tr>\n",
       "  </thead>\n",
       "  <tbody>\n",
       "    <tr>\n",
       "      <th>0</th>\n",
       "      <td>0</td>\n",
       "      <td>0</td>\n",
       "      <td>0</td>\n",
       "      <td>0</td>\n",
       "      <td>0</td>\n",
       "      <td>1</td>\n",
       "      <td>0</td>\n",
       "      <td>0</td>\n",
       "      <td>0</td>\n",
       "    </tr>\n",
       "    <tr>\n",
       "      <th>1</th>\n",
       "      <td>0</td>\n",
       "      <td>0</td>\n",
       "      <td>0</td>\n",
       "      <td>0</td>\n",
       "      <td>0</td>\n",
       "      <td>1</td>\n",
       "      <td>0</td>\n",
       "      <td>0</td>\n",
       "      <td>0</td>\n",
       "    </tr>\n",
       "    <tr>\n",
       "      <th>2</th>\n",
       "      <td>0</td>\n",
       "      <td>0</td>\n",
       "      <td>0</td>\n",
       "      <td>0</td>\n",
       "      <td>0</td>\n",
       "      <td>1</td>\n",
       "      <td>0</td>\n",
       "      <td>0</td>\n",
       "      <td>0</td>\n",
       "    </tr>\n",
       "    <tr>\n",
       "      <th>3</th>\n",
       "      <td>0</td>\n",
       "      <td>0</td>\n",
       "      <td>0</td>\n",
       "      <td>0</td>\n",
       "      <td>0</td>\n",
       "      <td>1</td>\n",
       "      <td>0</td>\n",
       "      <td>0</td>\n",
       "      <td>0</td>\n",
       "    </tr>\n",
       "    <tr>\n",
       "      <th>4</th>\n",
       "      <td>0</td>\n",
       "      <td>0</td>\n",
       "      <td>0</td>\n",
       "      <td>0</td>\n",
       "      <td>0</td>\n",
       "      <td>1</td>\n",
       "      <td>0</td>\n",
       "      <td>0</td>\n",
       "      <td>0</td>\n",
       "    </tr>\n",
       "    <tr>\n",
       "      <th>...</th>\n",
       "      <td>...</td>\n",
       "      <td>...</td>\n",
       "      <td>...</td>\n",
       "      <td>...</td>\n",
       "      <td>...</td>\n",
       "      <td>...</td>\n",
       "      <td>...</td>\n",
       "      <td>...</td>\n",
       "      <td>...</td>\n",
       "    </tr>\n",
       "    <tr>\n",
       "      <th>454</th>\n",
       "      <td>0</td>\n",
       "      <td>0</td>\n",
       "      <td>0</td>\n",
       "      <td>1</td>\n",
       "      <td>0</td>\n",
       "      <td>0</td>\n",
       "      <td>0</td>\n",
       "      <td>0</td>\n",
       "      <td>0</td>\n",
       "    </tr>\n",
       "    <tr>\n",
       "      <th>455</th>\n",
       "      <td>0</td>\n",
       "      <td>0</td>\n",
       "      <td>0</td>\n",
       "      <td>1</td>\n",
       "      <td>0</td>\n",
       "      <td>0</td>\n",
       "      <td>0</td>\n",
       "      <td>0</td>\n",
       "      <td>0</td>\n",
       "    </tr>\n",
       "    <tr>\n",
       "      <th>456</th>\n",
       "      <td>0</td>\n",
       "      <td>0</td>\n",
       "      <td>0</td>\n",
       "      <td>1</td>\n",
       "      <td>0</td>\n",
       "      <td>0</td>\n",
       "      <td>0</td>\n",
       "      <td>0</td>\n",
       "      <td>0</td>\n",
       "    </tr>\n",
       "    <tr>\n",
       "      <th>457</th>\n",
       "      <td>0</td>\n",
       "      <td>0</td>\n",
       "      <td>0</td>\n",
       "      <td>1</td>\n",
       "      <td>0</td>\n",
       "      <td>0</td>\n",
       "      <td>0</td>\n",
       "      <td>0</td>\n",
       "      <td>0</td>\n",
       "    </tr>\n",
       "    <tr>\n",
       "      <th>458</th>\n",
       "      <td>0</td>\n",
       "      <td>0</td>\n",
       "      <td>0</td>\n",
       "      <td>1</td>\n",
       "      <td>0</td>\n",
       "      <td>0</td>\n",
       "      <td>0</td>\n",
       "      <td>0</td>\n",
       "      <td>0</td>\n",
       "    </tr>\n",
       "  </tbody>\n",
       "</table>\n",
       "<p>459 rows × 9 columns</p>\n",
       "</div>"
      ],
      "text/plain": [
       "     Infinix  MI3  Mi  OPPO  POCO  Realme  Redmi  Samsung  Vivo\n",
       "0          0    0   0     0     0       1      0        0     0\n",
       "1          0    0   0     0     0       1      0        0     0\n",
       "2          0    0   0     0     0       1      0        0     0\n",
       "3          0    0   0     0     0       1      0        0     0\n",
       "4          0    0   0     0     0       1      0        0     0\n",
       "..       ...  ...  ..   ...   ...     ...    ...      ...   ...\n",
       "454        0    0   0     1     0       0      0        0     0\n",
       "455        0    0   0     1     0       0      0        0     0\n",
       "456        0    0   0     1     0       0      0        0     0\n",
       "457        0    0   0     1     0       0      0        0     0\n",
       "458        0    0   0     1     0       0      0        0     0\n",
       "\n",
       "[459 rows x 9 columns]"
      ]
     },
     "execution_count": 83,
     "metadata": {},
     "output_type": "execute_result"
    }
   ],
   "source": [
    "# ohe for mobile_name\n",
    "data_mobile_name = pd.get_dummies(data['mobile_name'])\n",
    "data_mobile_name"
   ]
  },
  {
   "cell_type": "code",
   "execution_count": 84,
   "id": "08ad2253",
   "metadata": {},
   "outputs": [
    {
     "data": {
      "text/html": [
       "<div>\n",
       "<style scoped>\n",
       "    .dataframe tbody tr th:only-of-type {\n",
       "        vertical-align: middle;\n",
       "    }\n",
       "\n",
       "    .dataframe tbody tr th {\n",
       "        vertical-align: top;\n",
       "    }\n",
       "\n",
       "    .dataframe thead th {\n",
       "        text-align: right;\n",
       "    }\n",
       "</style>\n",
       "<table border=\"1\" class=\"dataframe\">\n",
       "  <thead>\n",
       "    <tr style=\"text-align: right;\">\n",
       "      <th></th>\n",
       "      <th>Black</th>\n",
       "      <th>Blue</th>\n",
       "      <th>Brick</th>\n",
       "      <th>Brown</th>\n",
       "      <th>Champagne</th>\n",
       "      <th>Concrete</th>\n",
       "      <th>Cyan</th>\n",
       "      <th>Edition</th>\n",
       "      <th>Gold</th>\n",
       "      <th>Gray</th>\n",
       "      <th>...</th>\n",
       "      <th>Red</th>\n",
       "      <th>Ruby</th>\n",
       "      <th>Sapphire</th>\n",
       "      <th>Sea</th>\n",
       "      <th>Silver</th>\n",
       "      <th>Violet</th>\n",
       "      <th>Wave</th>\n",
       "      <th>White</th>\n",
       "      <th>gold</th>\n",
       "      <th>white</th>\n",
       "    </tr>\n",
       "  </thead>\n",
       "  <tbody>\n",
       "    <tr>\n",
       "      <th>0</th>\n",
       "      <td>0</td>\n",
       "      <td>0</td>\n",
       "      <td>0</td>\n",
       "      <td>0</td>\n",
       "      <td>0</td>\n",
       "      <td>0</td>\n",
       "      <td>0</td>\n",
       "      <td>0</td>\n",
       "      <td>0</td>\n",
       "      <td>0</td>\n",
       "      <td>...</td>\n",
       "      <td>0</td>\n",
       "      <td>0</td>\n",
       "      <td>0</td>\n",
       "      <td>0</td>\n",
       "      <td>0</td>\n",
       "      <td>0</td>\n",
       "      <td>0</td>\n",
       "      <td>1</td>\n",
       "      <td>0</td>\n",
       "      <td>0</td>\n",
       "    </tr>\n",
       "    <tr>\n",
       "      <th>1</th>\n",
       "      <td>0</td>\n",
       "      <td>1</td>\n",
       "      <td>0</td>\n",
       "      <td>0</td>\n",
       "      <td>0</td>\n",
       "      <td>0</td>\n",
       "      <td>0</td>\n",
       "      <td>0</td>\n",
       "      <td>0</td>\n",
       "      <td>0</td>\n",
       "      <td>...</td>\n",
       "      <td>0</td>\n",
       "      <td>0</td>\n",
       "      <td>0</td>\n",
       "      <td>0</td>\n",
       "      <td>0</td>\n",
       "      <td>0</td>\n",
       "      <td>0</td>\n",
       "      <td>0</td>\n",
       "      <td>0</td>\n",
       "      <td>0</td>\n",
       "    </tr>\n",
       "    <tr>\n",
       "      <th>2</th>\n",
       "      <td>0</td>\n",
       "      <td>1</td>\n",
       "      <td>0</td>\n",
       "      <td>0</td>\n",
       "      <td>0</td>\n",
       "      <td>0</td>\n",
       "      <td>0</td>\n",
       "      <td>0</td>\n",
       "      <td>0</td>\n",
       "      <td>0</td>\n",
       "      <td>...</td>\n",
       "      <td>0</td>\n",
       "      <td>0</td>\n",
       "      <td>0</td>\n",
       "      <td>0</td>\n",
       "      <td>0</td>\n",
       "      <td>0</td>\n",
       "      <td>0</td>\n",
       "      <td>0</td>\n",
       "      <td>0</td>\n",
       "      <td>0</td>\n",
       "    </tr>\n",
       "    <tr>\n",
       "      <th>3</th>\n",
       "      <td>0</td>\n",
       "      <td>0</td>\n",
       "      <td>0</td>\n",
       "      <td>0</td>\n",
       "      <td>0</td>\n",
       "      <td>0</td>\n",
       "      <td>0</td>\n",
       "      <td>0</td>\n",
       "      <td>0</td>\n",
       "      <td>0</td>\n",
       "      <td>...</td>\n",
       "      <td>0</td>\n",
       "      <td>0</td>\n",
       "      <td>0</td>\n",
       "      <td>0</td>\n",
       "      <td>0</td>\n",
       "      <td>0</td>\n",
       "      <td>0</td>\n",
       "      <td>1</td>\n",
       "      <td>0</td>\n",
       "      <td>0</td>\n",
       "    </tr>\n",
       "    <tr>\n",
       "      <th>4</th>\n",
       "      <td>0</td>\n",
       "      <td>0</td>\n",
       "      <td>0</td>\n",
       "      <td>0</td>\n",
       "      <td>0</td>\n",
       "      <td>0</td>\n",
       "      <td>0</td>\n",
       "      <td>0</td>\n",
       "      <td>0</td>\n",
       "      <td>0</td>\n",
       "      <td>...</td>\n",
       "      <td>0</td>\n",
       "      <td>0</td>\n",
       "      <td>0</td>\n",
       "      <td>0</td>\n",
       "      <td>0</td>\n",
       "      <td>0</td>\n",
       "      <td>0</td>\n",
       "      <td>0</td>\n",
       "      <td>0</td>\n",
       "      <td>0</td>\n",
       "    </tr>\n",
       "    <tr>\n",
       "      <th>...</th>\n",
       "      <td>...</td>\n",
       "      <td>...</td>\n",
       "      <td>...</td>\n",
       "      <td>...</td>\n",
       "      <td>...</td>\n",
       "      <td>...</td>\n",
       "      <td>...</td>\n",
       "      <td>...</td>\n",
       "      <td>...</td>\n",
       "      <td>...</td>\n",
       "      <td>...</td>\n",
       "      <td>...</td>\n",
       "      <td>...</td>\n",
       "      <td>...</td>\n",
       "      <td>...</td>\n",
       "      <td>...</td>\n",
       "      <td>...</td>\n",
       "      <td>...</td>\n",
       "      <td>...</td>\n",
       "      <td>...</td>\n",
       "      <td>...</td>\n",
       "    </tr>\n",
       "    <tr>\n",
       "      <th>454</th>\n",
       "      <td>1</td>\n",
       "      <td>0</td>\n",
       "      <td>0</td>\n",
       "      <td>0</td>\n",
       "      <td>0</td>\n",
       "      <td>0</td>\n",
       "      <td>0</td>\n",
       "      <td>0</td>\n",
       "      <td>0</td>\n",
       "      <td>0</td>\n",
       "      <td>...</td>\n",
       "      <td>0</td>\n",
       "      <td>0</td>\n",
       "      <td>0</td>\n",
       "      <td>0</td>\n",
       "      <td>0</td>\n",
       "      <td>0</td>\n",
       "      <td>0</td>\n",
       "      <td>0</td>\n",
       "      <td>0</td>\n",
       "      <td>0</td>\n",
       "    </tr>\n",
       "    <tr>\n",
       "      <th>455</th>\n",
       "      <td>0</td>\n",
       "      <td>0</td>\n",
       "      <td>0</td>\n",
       "      <td>0</td>\n",
       "      <td>0</td>\n",
       "      <td>0</td>\n",
       "      <td>0</td>\n",
       "      <td>0</td>\n",
       "      <td>0</td>\n",
       "      <td>0</td>\n",
       "      <td>...</td>\n",
       "      <td>1</td>\n",
       "      <td>0</td>\n",
       "      <td>0</td>\n",
       "      <td>0</td>\n",
       "      <td>0</td>\n",
       "      <td>0</td>\n",
       "      <td>0</td>\n",
       "      <td>0</td>\n",
       "      <td>0</td>\n",
       "      <td>0</td>\n",
       "    </tr>\n",
       "    <tr>\n",
       "      <th>456</th>\n",
       "      <td>0</td>\n",
       "      <td>0</td>\n",
       "      <td>0</td>\n",
       "      <td>0</td>\n",
       "      <td>0</td>\n",
       "      <td>0</td>\n",
       "      <td>0</td>\n",
       "      <td>0</td>\n",
       "      <td>0</td>\n",
       "      <td>0</td>\n",
       "      <td>...</td>\n",
       "      <td>1</td>\n",
       "      <td>0</td>\n",
       "      <td>0</td>\n",
       "      <td>0</td>\n",
       "      <td>0</td>\n",
       "      <td>0</td>\n",
       "      <td>0</td>\n",
       "      <td>0</td>\n",
       "      <td>0</td>\n",
       "      <td>0</td>\n",
       "    </tr>\n",
       "    <tr>\n",
       "      <th>457</th>\n",
       "      <td>0</td>\n",
       "      <td>0</td>\n",
       "      <td>0</td>\n",
       "      <td>0</td>\n",
       "      <td>0</td>\n",
       "      <td>0</td>\n",
       "      <td>0</td>\n",
       "      <td>0</td>\n",
       "      <td>0</td>\n",
       "      <td>0</td>\n",
       "      <td>...</td>\n",
       "      <td>0</td>\n",
       "      <td>0</td>\n",
       "      <td>0</td>\n",
       "      <td>0</td>\n",
       "      <td>0</td>\n",
       "      <td>0</td>\n",
       "      <td>0</td>\n",
       "      <td>0</td>\n",
       "      <td>0</td>\n",
       "      <td>0</td>\n",
       "    </tr>\n",
       "    <tr>\n",
       "      <th>458</th>\n",
       "      <td>0</td>\n",
       "      <td>0</td>\n",
       "      <td>0</td>\n",
       "      <td>0</td>\n",
       "      <td>0</td>\n",
       "      <td>0</td>\n",
       "      <td>0</td>\n",
       "      <td>0</td>\n",
       "      <td>0</td>\n",
       "      <td>0</td>\n",
       "      <td>...</td>\n",
       "      <td>0</td>\n",
       "      <td>0</td>\n",
       "      <td>0</td>\n",
       "      <td>0</td>\n",
       "      <td>0</td>\n",
       "      <td>0</td>\n",
       "      <td>0</td>\n",
       "      <td>0</td>\n",
       "      <td>0</td>\n",
       "      <td>0</td>\n",
       "    </tr>\n",
       "  </tbody>\n",
       "</table>\n",
       "<p>459 rows × 27 columns</p>\n",
       "</div>"
      ],
      "text/plain": [
       "     Black  Blue  Brick  Brown  Champagne  Concrete  Cyan  Edition  Gold  \\\n",
       "0        0     0      0      0          0         0     0        0     0   \n",
       "1        0     1      0      0          0         0     0        0     0   \n",
       "2        0     1      0      0          0         0     0        0     0   \n",
       "3        0     0      0      0          0         0     0        0     0   \n",
       "4        0     0      0      0          0         0     0        0     0   \n",
       "..     ...   ...    ...    ...        ...       ...   ...      ...   ...   \n",
       "454      1     0      0      0          0         0     0        0     0   \n",
       "455      0     0      0      0          0         0     0        0     0   \n",
       "456      0     0      0      0          0         0     0        0     0   \n",
       "457      0     0      0      0          0         0     0        0     0   \n",
       "458      0     0      0      0          0         0     0        0     0   \n",
       "\n",
       "     Gray  ...  Red  Ruby  Sapphire  Sea  Silver  Violet  Wave  White  gold  \\\n",
       "0       0  ...    0     0         0    0       0       0     0      1     0   \n",
       "1       0  ...    0     0         0    0       0       0     0      0     0   \n",
       "2       0  ...    0     0         0    0       0       0     0      0     0   \n",
       "3       0  ...    0     0         0    0       0       0     0      1     0   \n",
       "4       0  ...    0     0         0    0       0       0     0      0     0   \n",
       "..    ...  ...  ...   ...       ...  ...     ...     ...   ...    ...   ...   \n",
       "454     0  ...    0     0         0    0       0       0     0      0     0   \n",
       "455     0  ...    1     0         0    0       0       0     0      0     0   \n",
       "456     0  ...    1     0         0    0       0       0     0      0     0   \n",
       "457     0  ...    0     0         0    0       0       0     0      0     0   \n",
       "458     0  ...    0     0         0    0       0       0     0      0     0   \n",
       "\n",
       "     white  \n",
       "0        0  \n",
       "1        0  \n",
       "2        0  \n",
       "3        0  \n",
       "4        0  \n",
       "..     ...  \n",
       "454      0  \n",
       "455      0  \n",
       "456      0  \n",
       "457      0  \n",
       "458      0  \n",
       "\n",
       "[459 rows x 27 columns]"
      ]
     },
     "execution_count": 84,
     "metadata": {},
     "output_type": "execute_result"
    }
   ],
   "source": [
    "# ohe for mobile_color \n",
    "data_color = pd.get_dummies(data['mobile_color'])\n",
    "data_color"
   ]
  },
  {
   "cell_type": "markdown",
   "id": "79b082cb",
   "metadata": {},
   "source": [
    "# Now merging both into orignal data "
   ]
  },
  {
   "cell_type": "code",
   "execution_count": 85,
   "id": "95b7447a",
   "metadata": {},
   "outputs": [],
   "source": [
    "data = pd.concat([data,data_mobile_name,data_color],axis=1)"
   ]
  },
  {
   "cell_type": "markdown",
   "id": "3b69976a",
   "metadata": {},
   "source": [
    "#### droping mobile_name and mobile_color from the dataset"
   ]
  },
  {
   "cell_type": "code",
   "execution_count": 86,
   "id": "fc98bd6d",
   "metadata": {},
   "outputs": [],
   "source": [
    "data_cat = ['mobile_name', 'mobile_color']\n",
    "data.drop(data_cat,1,inplace=True)"
   ]
  },
  {
   "cell_type": "markdown",
   "id": "80d18a3f",
   "metadata": {},
   "source": [
    "### We have cleaned and preprocessed the dataset now we are ready to go."
   ]
  },
  {
   "cell_type": "markdown",
   "id": "413a0962",
   "metadata": {},
   "source": [
    "# Sepearting x and y from dataset"
   ]
  },
  {
   "cell_type": "code",
   "execution_count": 87,
   "id": "b1b7f314",
   "metadata": {},
   "outputs": [],
   "source": [
    "x = data.drop('mobile_price_inr',1)\n",
    "y = data['mobile_price_inr']"
   ]
  },
  {
   "cell_type": "markdown",
   "id": "ec9a2aeb",
   "metadata": {},
   "source": [
    "# Spliting x and y into train and test set"
   ]
  },
  {
   "cell_type": "code",
   "execution_count": 88,
   "id": "19d7d642",
   "metadata": {},
   "outputs": [],
   "source": [
    "from sklearn.model_selection import train_test_split\n",
    "x_train,x_test,y_train,y_test = train_test_split(x,y,test_size = 0.25,random_state=42)"
   ]
  },
  {
   "cell_type": "markdown",
   "id": "89969ac3",
   "metadata": {},
   "source": [
    "# Applying linear Regression to x_train and y_train"
   ]
  },
  {
   "cell_type": "code",
   "execution_count": 89,
   "id": "57d2182e",
   "metadata": {},
   "outputs": [
    {
     "data": {
      "text/html": [
       "<style>#sk-container-id-2 {color: black;background-color: white;}#sk-container-id-2 pre{padding: 0;}#sk-container-id-2 div.sk-toggleable {background-color: white;}#sk-container-id-2 label.sk-toggleable__label {cursor: pointer;display: block;width: 100%;margin-bottom: 0;padding: 0.3em;box-sizing: border-box;text-align: center;}#sk-container-id-2 label.sk-toggleable__label-arrow:before {content: \"▸\";float: left;margin-right: 0.25em;color: #696969;}#sk-container-id-2 label.sk-toggleable__label-arrow:hover:before {color: black;}#sk-container-id-2 div.sk-estimator:hover label.sk-toggleable__label-arrow:before {color: black;}#sk-container-id-2 div.sk-toggleable__content {max-height: 0;max-width: 0;overflow: hidden;text-align: left;background-color: #f0f8ff;}#sk-container-id-2 div.sk-toggleable__content pre {margin: 0.2em;color: black;border-radius: 0.25em;background-color: #f0f8ff;}#sk-container-id-2 input.sk-toggleable__control:checked~div.sk-toggleable__content {max-height: 200px;max-width: 100%;overflow: auto;}#sk-container-id-2 input.sk-toggleable__control:checked~label.sk-toggleable__label-arrow:before {content: \"▾\";}#sk-container-id-2 div.sk-estimator input.sk-toggleable__control:checked~label.sk-toggleable__label {background-color: #d4ebff;}#sk-container-id-2 div.sk-label input.sk-toggleable__control:checked~label.sk-toggleable__label {background-color: #d4ebff;}#sk-container-id-2 input.sk-hidden--visually {border: 0;clip: rect(1px 1px 1px 1px);clip: rect(1px, 1px, 1px, 1px);height: 1px;margin: -1px;overflow: hidden;padding: 0;position: absolute;width: 1px;}#sk-container-id-2 div.sk-estimator {font-family: monospace;background-color: #f0f8ff;border: 1px dotted black;border-radius: 0.25em;box-sizing: border-box;margin-bottom: 0.5em;}#sk-container-id-2 div.sk-estimator:hover {background-color: #d4ebff;}#sk-container-id-2 div.sk-parallel-item::after {content: \"\";width: 100%;border-bottom: 1px solid gray;flex-grow: 1;}#sk-container-id-2 div.sk-label:hover label.sk-toggleable__label {background-color: #d4ebff;}#sk-container-id-2 div.sk-serial::before {content: \"\";position: absolute;border-left: 1px solid gray;box-sizing: border-box;top: 0;bottom: 0;left: 50%;z-index: 0;}#sk-container-id-2 div.sk-serial {display: flex;flex-direction: column;align-items: center;background-color: white;padding-right: 0.2em;padding-left: 0.2em;position: relative;}#sk-container-id-2 div.sk-item {position: relative;z-index: 1;}#sk-container-id-2 div.sk-parallel {display: flex;align-items: stretch;justify-content: center;background-color: white;position: relative;}#sk-container-id-2 div.sk-item::before, #sk-container-id-2 div.sk-parallel-item::before {content: \"\";position: absolute;border-left: 1px solid gray;box-sizing: border-box;top: 0;bottom: 0;left: 50%;z-index: -1;}#sk-container-id-2 div.sk-parallel-item {display: flex;flex-direction: column;z-index: 1;position: relative;background-color: white;}#sk-container-id-2 div.sk-parallel-item:first-child::after {align-self: flex-end;width: 50%;}#sk-container-id-2 div.sk-parallel-item:last-child::after {align-self: flex-start;width: 50%;}#sk-container-id-2 div.sk-parallel-item:only-child::after {width: 0;}#sk-container-id-2 div.sk-dashed-wrapped {border: 1px dashed gray;margin: 0 0.4em 0.5em 0.4em;box-sizing: border-box;padding-bottom: 0.4em;background-color: white;}#sk-container-id-2 div.sk-label label {font-family: monospace;font-weight: bold;display: inline-block;line-height: 1.2em;}#sk-container-id-2 div.sk-label-container {text-align: center;}#sk-container-id-2 div.sk-container {/* jupyter's `normalize.less` sets `[hidden] { display: none; }` but bootstrap.min.css set `[hidden] { display: none !important; }` so we also need the `!important` here to be able to override the default hidden behavior on the sphinx rendered scikit-learn.org. See: https://github.com/scikit-learn/scikit-learn/issues/21755 */display: inline-block !important;position: relative;}#sk-container-id-2 div.sk-text-repr-fallback {display: none;}</style><div id=\"sk-container-id-2\" class=\"sk-top-container\"><div class=\"sk-text-repr-fallback\"><pre>LinearRegression()</pre><b>In a Jupyter environment, please rerun this cell to show the HTML representation or trust the notebook. <br />On GitHub, the HTML representation is unable to render, please try loading this page with nbviewer.org.</b></div><div class=\"sk-container\" hidden><div class=\"sk-item\"><div class=\"sk-estimator sk-toggleable\"><input class=\"sk-toggleable__control sk-hidden--visually\" id=\"sk-estimator-id-2\" type=\"checkbox\" checked><label for=\"sk-estimator-id-2\" class=\"sk-toggleable__label sk-toggleable__label-arrow\">LinearRegression</label><div class=\"sk-toggleable__content\"><pre>LinearRegression()</pre></div></div></div></div></div>"
      ],
      "text/plain": [
       "LinearRegression()"
      ]
     },
     "execution_count": 89,
     "metadata": {},
     "output_type": "execute_result"
    }
   ],
   "source": [
    "from sklearn.linear_model import LinearRegression\n",
    "lr = LinearRegression()\n",
    "lr"
   ]
  },
  {
   "cell_type": "code",
   "execution_count": 90,
   "id": "37d80749",
   "metadata": {},
   "outputs": [
    {
     "data": {
      "text/html": [
       "<style>#sk-container-id-3 {color: black;background-color: white;}#sk-container-id-3 pre{padding: 0;}#sk-container-id-3 div.sk-toggleable {background-color: white;}#sk-container-id-3 label.sk-toggleable__label {cursor: pointer;display: block;width: 100%;margin-bottom: 0;padding: 0.3em;box-sizing: border-box;text-align: center;}#sk-container-id-3 label.sk-toggleable__label-arrow:before {content: \"▸\";float: left;margin-right: 0.25em;color: #696969;}#sk-container-id-3 label.sk-toggleable__label-arrow:hover:before {color: black;}#sk-container-id-3 div.sk-estimator:hover label.sk-toggleable__label-arrow:before {color: black;}#sk-container-id-3 div.sk-toggleable__content {max-height: 0;max-width: 0;overflow: hidden;text-align: left;background-color: #f0f8ff;}#sk-container-id-3 div.sk-toggleable__content pre {margin: 0.2em;color: black;border-radius: 0.25em;background-color: #f0f8ff;}#sk-container-id-3 input.sk-toggleable__control:checked~div.sk-toggleable__content {max-height: 200px;max-width: 100%;overflow: auto;}#sk-container-id-3 input.sk-toggleable__control:checked~label.sk-toggleable__label-arrow:before {content: \"▾\";}#sk-container-id-3 div.sk-estimator input.sk-toggleable__control:checked~label.sk-toggleable__label {background-color: #d4ebff;}#sk-container-id-3 div.sk-label input.sk-toggleable__control:checked~label.sk-toggleable__label {background-color: #d4ebff;}#sk-container-id-3 input.sk-hidden--visually {border: 0;clip: rect(1px 1px 1px 1px);clip: rect(1px, 1px, 1px, 1px);height: 1px;margin: -1px;overflow: hidden;padding: 0;position: absolute;width: 1px;}#sk-container-id-3 div.sk-estimator {font-family: monospace;background-color: #f0f8ff;border: 1px dotted black;border-radius: 0.25em;box-sizing: border-box;margin-bottom: 0.5em;}#sk-container-id-3 div.sk-estimator:hover {background-color: #d4ebff;}#sk-container-id-3 div.sk-parallel-item::after {content: \"\";width: 100%;border-bottom: 1px solid gray;flex-grow: 1;}#sk-container-id-3 div.sk-label:hover label.sk-toggleable__label {background-color: #d4ebff;}#sk-container-id-3 div.sk-serial::before {content: \"\";position: absolute;border-left: 1px solid gray;box-sizing: border-box;top: 0;bottom: 0;left: 50%;z-index: 0;}#sk-container-id-3 div.sk-serial {display: flex;flex-direction: column;align-items: center;background-color: white;padding-right: 0.2em;padding-left: 0.2em;position: relative;}#sk-container-id-3 div.sk-item {position: relative;z-index: 1;}#sk-container-id-3 div.sk-parallel {display: flex;align-items: stretch;justify-content: center;background-color: white;position: relative;}#sk-container-id-3 div.sk-item::before, #sk-container-id-3 div.sk-parallel-item::before {content: \"\";position: absolute;border-left: 1px solid gray;box-sizing: border-box;top: 0;bottom: 0;left: 50%;z-index: -1;}#sk-container-id-3 div.sk-parallel-item {display: flex;flex-direction: column;z-index: 1;position: relative;background-color: white;}#sk-container-id-3 div.sk-parallel-item:first-child::after {align-self: flex-end;width: 50%;}#sk-container-id-3 div.sk-parallel-item:last-child::after {align-self: flex-start;width: 50%;}#sk-container-id-3 div.sk-parallel-item:only-child::after {width: 0;}#sk-container-id-3 div.sk-dashed-wrapped {border: 1px dashed gray;margin: 0 0.4em 0.5em 0.4em;box-sizing: border-box;padding-bottom: 0.4em;background-color: white;}#sk-container-id-3 div.sk-label label {font-family: monospace;font-weight: bold;display: inline-block;line-height: 1.2em;}#sk-container-id-3 div.sk-label-container {text-align: center;}#sk-container-id-3 div.sk-container {/* jupyter's `normalize.less` sets `[hidden] { display: none; }` but bootstrap.min.css set `[hidden] { display: none !important; }` so we also need the `!important` here to be able to override the default hidden behavior on the sphinx rendered scikit-learn.org. See: https://github.com/scikit-learn/scikit-learn/issues/21755 */display: inline-block !important;position: relative;}#sk-container-id-3 div.sk-text-repr-fallback {display: none;}</style><div id=\"sk-container-id-3\" class=\"sk-top-container\"><div class=\"sk-text-repr-fallback\"><pre>LinearRegression()</pre><b>In a Jupyter environment, please rerun this cell to show the HTML representation or trust the notebook. <br />On GitHub, the HTML representation is unable to render, please try loading this page with nbviewer.org.</b></div><div class=\"sk-container\" hidden><div class=\"sk-item\"><div class=\"sk-estimator sk-toggleable\"><input class=\"sk-toggleable__control sk-hidden--visually\" id=\"sk-estimator-id-3\" type=\"checkbox\" checked><label for=\"sk-estimator-id-3\" class=\"sk-toggleable__label sk-toggleable__label-arrow\">LinearRegression</label><div class=\"sk-toggleable__content\"><pre>LinearRegression()</pre></div></div></div></div></div>"
      ],
      "text/plain": [
       "LinearRegression()"
      ]
     },
     "execution_count": 90,
     "metadata": {},
     "output_type": "execute_result"
    }
   ],
   "source": [
    "lr.fit(x_train,y_train)"
   ]
  },
  {
   "cell_type": "markdown",
   "id": "3a01598a",
   "metadata": {},
   "source": [
    "# Predicting value of x_test"
   ]
  },
  {
   "cell_type": "code",
   "execution_count": 91,
   "id": "05b45003",
   "metadata": {},
   "outputs": [
    {
     "data": {
      "text/plain": [
       "array([15121.07516696,  7499.00000002, 23719.49201789, 16647.39972956,\n",
       "       12195.72395092, 18994.32000619, 13685.53189924, 17280.83516531,\n",
       "       17933.34797053, 10405.42654304, 11450.6446476 , 21184.61906853,\n",
       "       11245.43325255, 11073.43536605, 14792.13738155, 13906.53238472,\n",
       "       17018.95205186, 12006.36984249, 34022.88024407,  6577.85919369,\n",
       "       36180.10127413, 17492.30941809, 17838.61099738, 22120.41939367,\n",
       "       19455.19904789, 11440.02809815,  9035.3520687 , 14835.71295837,\n",
       "       14070.64234211, 16907.60433276, 21117.69285861, 26696.3159681 ,\n",
       "       31590.00000009, 18676.59282032,  9240.56346374,  9508.17794485,\n",
       "       19040.66938089,  9943.12128733, 11244.59674658,  8081.28899446,\n",
       "       17904.57178602, 23445.03802976, 17592.38225113,  8488.47050517,\n",
       "       12006.36984249, 20191.76011016,  9256.35255417, 13345.83266396,\n",
       "       21093.32019685, 11466.43373802,  4969.12772997, 17371.38176566,\n",
       "       15685.97624418, 16491.28208364, 11249.32952873, 21439.11441956,\n",
       "       14899.63182845, 18558.38881926, 16477.92760858, 35254.84616127,\n",
       "       13684.69539327, 16314.40491697, 13443.2006336 , 18698.1289649 ,\n",
       "       21406.45605998, 61383.02354726, 12910.64033905, 11962.39092674,\n",
       "       19477.95932569, 11535.03275312, 34078.60755908, 20625.64372492,\n",
       "       16589.29274683, 19256.71183205, 16961.2985001 ,  7092.25922827,\n",
       "        8977.66396383, 23033.46760423, 18491.55770883, 18967.86041429,\n",
       "        9523.71773788, 10006.19057443, 11451.48115357, 17684.48720488,\n",
       "       11187.08290944, 17281.67167128, 20765.08198354, 26458.82843667,\n",
       "       11249.32952873, 20332.53119982, 19331.0336242 , 11263.92756891,\n",
       "       17193.72641996, 16571.4701554 , 10689.94945668, 16995.74289533,\n",
       "        7093.09573425, 54278.20900071, 24129.71730592, 10951.16554019,\n",
       "       16735.22323127, 15393.93113535, 16454.13699882, 13066.52567521,\n",
       "       14130.73623912, 30993.64102234,  9012.69080531, 13966.5525635 ,\n",
       "        9445.03807281,  3818.65282325,  6507.92386186, 24050.89294667,\n",
       "       15835.59267692, 20111.53071435, 18666.30711128])"
      ]
     },
     "execution_count": 91,
     "metadata": {},
     "output_type": "execute_result"
    }
   ],
   "source": [
    "y_pred = lr.predict(x_test)\n",
    "y_pred"
   ]
  },
  {
   "cell_type": "code",
   "execution_count": 92,
   "id": "d4bc194a",
   "metadata": {},
   "outputs": [
    {
     "data": {
      "text/html": [
       "<div>\n",
       "<style scoped>\n",
       "    .dataframe tbody tr th:only-of-type {\n",
       "        vertical-align: middle;\n",
       "    }\n",
       "\n",
       "    .dataframe tbody tr th {\n",
       "        vertical-align: top;\n",
       "    }\n",
       "\n",
       "    .dataframe thead th {\n",
       "        text-align: right;\n",
       "    }\n",
       "</style>\n",
       "<table border=\"1\" class=\"dataframe\">\n",
       "  <thead>\n",
       "    <tr style=\"text-align: right;\">\n",
       "      <th></th>\n",
       "      <th>disp_size(cm/inch)</th>\n",
       "      <th>resolution(pixels)</th>\n",
       "      <th>os</th>\n",
       "      <th>num_cores</th>\n",
       "      <th>mp_speed(GHz)</th>\n",
       "      <th>int_memory(GB)</th>\n",
       "      <th>ram(GB)</th>\n",
       "      <th>battery_power(mAh)</th>\n",
       "      <th>mob_width(mm)</th>\n",
       "      <th>mob_height(mm)</th>\n",
       "      <th>...</th>\n",
       "      <th>Red</th>\n",
       "      <th>Ruby</th>\n",
       "      <th>Sapphire</th>\n",
       "      <th>Sea</th>\n",
       "      <th>Silver</th>\n",
       "      <th>Violet</th>\n",
       "      <th>Wave</th>\n",
       "      <th>White</th>\n",
       "      <th>gold</th>\n",
       "      <th>white</th>\n",
       "    </tr>\n",
       "  </thead>\n",
       "  <tbody>\n",
       "    <tr>\n",
       "      <th>124</th>\n",
       "      <td>16.00</td>\n",
       "      <td>2462400</td>\n",
       "      <td>9</td>\n",
       "      <td>8</td>\n",
       "      <td>2.0</td>\n",
       "      <td>64</td>\n",
       "      <td>4.0</td>\n",
       "      <td>4000.0</td>\n",
       "      <td>8.35</td>\n",
       "      <td>158.30</td>\n",
       "      <td>...</td>\n",
       "      <td>0</td>\n",
       "      <td>0</td>\n",
       "      <td>0</td>\n",
       "      <td>0</td>\n",
       "      <td>0</td>\n",
       "      <td>0</td>\n",
       "      <td>0</td>\n",
       "      <td>0</td>\n",
       "      <td>0</td>\n",
       "      <td>0</td>\n",
       "    </tr>\n",
       "    <tr>\n",
       "      <th>30</th>\n",
       "      <td>15.49</td>\n",
       "      <td>1123200</td>\n",
       "      <td>9</td>\n",
       "      <td>8</td>\n",
       "      <td>2.0</td>\n",
       "      <td>32</td>\n",
       "      <td>3.0</td>\n",
       "      <td>4000.0</td>\n",
       "      <td>73.70</td>\n",
       "      <td>154.30</td>\n",
       "      <td>...</td>\n",
       "      <td>0</td>\n",
       "      <td>0</td>\n",
       "      <td>1</td>\n",
       "      <td>0</td>\n",
       "      <td>0</td>\n",
       "      <td>0</td>\n",
       "      <td>0</td>\n",
       "      <td>0</td>\n",
       "      <td>0</td>\n",
       "      <td>0</td>\n",
       "    </tr>\n",
       "    <tr>\n",
       "      <th>199</th>\n",
       "      <td>16.21</td>\n",
       "      <td>2527200</td>\n",
       "      <td>9</td>\n",
       "      <td>8</td>\n",
       "      <td>2.3</td>\n",
       "      <td>128</td>\n",
       "      <td>8.0</td>\n",
       "      <td>4500.0</td>\n",
       "      <td>75.23</td>\n",
       "      <td>159.53</td>\n",
       "      <td>...</td>\n",
       "      <td>0</td>\n",
       "      <td>0</td>\n",
       "      <td>0</td>\n",
       "      <td>0</td>\n",
       "      <td>0</td>\n",
       "      <td>0</td>\n",
       "      <td>0</td>\n",
       "      <td>0</td>\n",
       "      <td>0</td>\n",
       "      <td>0</td>\n",
       "    </tr>\n",
       "    <tr>\n",
       "      <th>438</th>\n",
       "      <td>13.97</td>\n",
       "      <td>2073600</td>\n",
       "      <td>6</td>\n",
       "      <td>8</td>\n",
       "      <td>1.5</td>\n",
       "      <td>64</td>\n",
       "      <td>4.0</td>\n",
       "      <td>3200.0</td>\n",
       "      <td>75.20</td>\n",
       "      <td>153.30</td>\n",
       "      <td>...</td>\n",
       "      <td>0</td>\n",
       "      <td>0</td>\n",
       "      <td>0</td>\n",
       "      <td>0</td>\n",
       "      <td>0</td>\n",
       "      <td>0</td>\n",
       "      <td>0</td>\n",
       "      <td>0</td>\n",
       "      <td>0</td>\n",
       "      <td>0</td>\n",
       "    </tr>\n",
       "    <tr>\n",
       "      <th>154</th>\n",
       "      <td>16.00</td>\n",
       "      <td>2527200</td>\n",
       "      <td>9</td>\n",
       "      <td>8</td>\n",
       "      <td>2.2</td>\n",
       "      <td>64</td>\n",
       "      <td>4.0</td>\n",
       "      <td>4000.0</td>\n",
       "      <td>75.21</td>\n",
       "      <td>159.21</td>\n",
       "      <td>...</td>\n",
       "      <td>0</td>\n",
       "      <td>0</td>\n",
       "      <td>0</td>\n",
       "      <td>0</td>\n",
       "      <td>0</td>\n",
       "      <td>0</td>\n",
       "      <td>0</td>\n",
       "      <td>0</td>\n",
       "      <td>0</td>\n",
       "      <td>0</td>\n",
       "    </tr>\n",
       "    <tr>\n",
       "      <th>...</th>\n",
       "      <td>...</td>\n",
       "      <td>...</td>\n",
       "      <td>...</td>\n",
       "      <td>...</td>\n",
       "      <td>...</td>\n",
       "      <td>...</td>\n",
       "      <td>...</td>\n",
       "      <td>...</td>\n",
       "      <td>...</td>\n",
       "      <td>...</td>\n",
       "      <td>...</td>\n",
       "      <td>...</td>\n",
       "      <td>...</td>\n",
       "      <td>...</td>\n",
       "      <td>...</td>\n",
       "      <td>...</td>\n",
       "      <td>...</td>\n",
       "      <td>...</td>\n",
       "      <td>...</td>\n",
       "      <td>...</td>\n",
       "      <td>...</td>\n",
       "    </tr>\n",
       "    <tr>\n",
       "      <th>117</th>\n",
       "      <td>15.80</td>\n",
       "      <td>1094400</td>\n",
       "      <td>9</td>\n",
       "      <td>8</td>\n",
       "      <td>2.0</td>\n",
       "      <td>32</td>\n",
       "      <td>3.0</td>\n",
       "      <td>5000.0</td>\n",
       "      <td>9.00</td>\n",
       "      <td>175.00</td>\n",
       "      <td>...</td>\n",
       "      <td>0</td>\n",
       "      <td>0</td>\n",
       "      <td>0</td>\n",
       "      <td>0</td>\n",
       "      <td>0</td>\n",
       "      <td>0</td>\n",
       "      <td>0</td>\n",
       "      <td>0</td>\n",
       "      <td>0</td>\n",
       "      <td>0</td>\n",
       "    </tr>\n",
       "    <tr>\n",
       "      <th>234</th>\n",
       "      <td>16.23</td>\n",
       "      <td>2527200</td>\n",
       "      <td>9</td>\n",
       "      <td>8</td>\n",
       "      <td>2.0</td>\n",
       "      <td>128</td>\n",
       "      <td>8.0</td>\n",
       "      <td>3700.0</td>\n",
       "      <td>74.71</td>\n",
       "      <td>157.25</td>\n",
       "      <td>...</td>\n",
       "      <td>0</td>\n",
       "      <td>0</td>\n",
       "      <td>0</td>\n",
       "      <td>0</td>\n",
       "      <td>0</td>\n",
       "      <td>0</td>\n",
       "      <td>0</td>\n",
       "      <td>0</td>\n",
       "      <td>0</td>\n",
       "      <td>0</td>\n",
       "    </tr>\n",
       "    <tr>\n",
       "      <th>238</th>\n",
       "      <td>16.00</td>\n",
       "      <td>2462400</td>\n",
       "      <td>8</td>\n",
       "      <td>8</td>\n",
       "      <td>1.8</td>\n",
       "      <td>32</td>\n",
       "      <td>4.0</td>\n",
       "      <td>3260.0</td>\n",
       "      <td>75.03</td>\n",
       "      <td>154.81</td>\n",
       "      <td>...</td>\n",
       "      <td>0</td>\n",
       "      <td>0</td>\n",
       "      <td>0</td>\n",
       "      <td>0</td>\n",
       "      <td>0</td>\n",
       "      <td>0</td>\n",
       "      <td>0</td>\n",
       "      <td>0</td>\n",
       "      <td>0</td>\n",
       "      <td>0</td>\n",
       "    </tr>\n",
       "    <tr>\n",
       "      <th>104</th>\n",
       "      <td>16.23</td>\n",
       "      <td>2527200</td>\n",
       "      <td>9</td>\n",
       "      <td>8</td>\n",
       "      <td>2.2</td>\n",
       "      <td>128</td>\n",
       "      <td>6.0</td>\n",
       "      <td>4000.0</td>\n",
       "      <td>74.30</td>\n",
       "      <td>156.70</td>\n",
       "      <td>...</td>\n",
       "      <td>0</td>\n",
       "      <td>0</td>\n",
       "      <td>0</td>\n",
       "      <td>0</td>\n",
       "      <td>0</td>\n",
       "      <td>0</td>\n",
       "      <td>0</td>\n",
       "      <td>0</td>\n",
       "      <td>0</td>\n",
       "      <td>0</td>\n",
       "    </tr>\n",
       "    <tr>\n",
       "      <th>346</th>\n",
       "      <td>15.70</td>\n",
       "      <td>2332800</td>\n",
       "      <td>8</td>\n",
       "      <td>8</td>\n",
       "      <td>2.8</td>\n",
       "      <td>64</td>\n",
       "      <td>6.0</td>\n",
       "      <td>4000.0</td>\n",
       "      <td>75.30</td>\n",
       "      <td>155.50</td>\n",
       "      <td>...</td>\n",
       "      <td>1</td>\n",
       "      <td>0</td>\n",
       "      <td>0</td>\n",
       "      <td>0</td>\n",
       "      <td>0</td>\n",
       "      <td>0</td>\n",
       "      <td>0</td>\n",
       "      <td>0</td>\n",
       "      <td>0</td>\n",
       "      <td>0</td>\n",
       "    </tr>\n",
       "  </tbody>\n",
       "</table>\n",
       "<p>115 rows × 57 columns</p>\n",
       "</div>"
      ],
      "text/plain": [
       "     disp_size(cm/inch)  resolution(pixels)  os  num_cores  mp_speed(GHz)  \\\n",
       "124               16.00             2462400   9          8            2.0   \n",
       "30                15.49             1123200   9          8            2.0   \n",
       "199               16.21             2527200   9          8            2.3   \n",
       "438               13.97             2073600   6          8            1.5   \n",
       "154               16.00             2527200   9          8            2.2   \n",
       "..                  ...                 ...  ..        ...            ...   \n",
       "117               15.80             1094400   9          8            2.0   \n",
       "234               16.23             2527200   9          8            2.0   \n",
       "238               16.00             2462400   8          8            1.8   \n",
       "104               16.23             2527200   9          8            2.2   \n",
       "346               15.70             2332800   8          8            2.8   \n",
       "\n",
       "     int_memory(GB)  ram(GB)  battery_power(mAh)  mob_width(mm)  \\\n",
       "124              64      4.0              4000.0           8.35   \n",
       "30               32      3.0              4000.0          73.70   \n",
       "199             128      8.0              4500.0          75.23   \n",
       "438              64      4.0              3200.0          75.20   \n",
       "154              64      4.0              4000.0          75.21   \n",
       "..              ...      ...                 ...            ...   \n",
       "117              32      3.0              5000.0           9.00   \n",
       "234             128      8.0              3700.0          74.71   \n",
       "238              32      4.0              3260.0          75.03   \n",
       "104             128      6.0              4000.0          74.30   \n",
       "346              64      6.0              4000.0          75.30   \n",
       "\n",
       "     mob_height(mm)  ...  Red  Ruby  Sapphire  Sea  Silver  Violet  Wave  \\\n",
       "124          158.30  ...    0     0         0    0       0       0     0   \n",
       "30           154.30  ...    0     0         1    0       0       0     0   \n",
       "199          159.53  ...    0     0         0    0       0       0     0   \n",
       "438          153.30  ...    0     0         0    0       0       0     0   \n",
       "154          159.21  ...    0     0         0    0       0       0     0   \n",
       "..              ...  ...  ...   ...       ...  ...     ...     ...   ...   \n",
       "117          175.00  ...    0     0         0    0       0       0     0   \n",
       "234          157.25  ...    0     0         0    0       0       0     0   \n",
       "238          154.81  ...    0     0         0    0       0       0     0   \n",
       "104          156.70  ...    0     0         0    0       0       0     0   \n",
       "346          155.50  ...    1     0         0    0       0       0     0   \n",
       "\n",
       "     White  gold  white  \n",
       "124      0     0      0  \n",
       "30       0     0      0  \n",
       "199      0     0      0  \n",
       "438      0     0      0  \n",
       "154      0     0      0  \n",
       "..     ...   ...    ...  \n",
       "117      0     0      0  \n",
       "234      0     0      0  \n",
       "238      0     0      0  \n",
       "104      0     0      0  \n",
       "346      0     0      0  \n",
       "\n",
       "[115 rows x 57 columns]"
      ]
     },
     "execution_count": 92,
     "metadata": {},
     "output_type": "execute_result"
    }
   ],
   "source": [
    "x_test"
   ]
  },
  {
   "cell_type": "markdown",
   "id": "ec60f8a0",
   "metadata": {},
   "source": [
    "# Checking accuracy of our model"
   ]
  },
  {
   "cell_type": "code",
   "execution_count": 93,
   "id": "f541b652",
   "metadata": {},
   "outputs": [
    {
     "data": {
      "text/plain": [
       "0.759231635915598"
      ]
     },
     "execution_count": 93,
     "metadata": {},
     "output_type": "execute_result"
    }
   ],
   "source": [
    "from sklearn.metrics import r2_score\n",
    "r2_score(y_pred,y_test)"
   ]
  },
  {
   "cell_type": "code",
   "execution_count": 94,
   "id": "ef720c3e",
   "metadata": {},
   "outputs": [
    {
     "data": {
      "text/plain": [
       "array([ 1.45070570e+03,  1.72434138e-04, -1.21640458e+03, -4.13850428e+02,\n",
       "        5.48730900e+03,  4.28148273e+01,  8.40006710e+02, -2.83744438e+00,\n",
       "       -1.41241656e+02, -9.84133141e+01, -1.13130276e+02,  5.35847318e+01,\n",
       "       -1.58804825e+03,  9.91385939e+02, -1.29236677e+03, -5.33298428e+02,\n",
       "        2.72743726e+04,  3.91165867e-01,  6.91091873e+02,  8.77490924e+01,\n",
       "        1.11478115e+03, -6.68957835e+01, -3.70239186e+03, -2.34379099e+03,\n",
       "        2.62605037e+03, -2.90796672e+03, -4.30223456e+02, -1.59324839e+03,\n",
       "        6.20803393e+03,  2.21043289e+03,  8.45418785e+02,  8.44582279e+02,\n",
       "        2.58873612e+03, -4.05521304e+03, -4.03588274e-12,  2.58873612e+03,\n",
       "       -4.17148625e+03, -2.92119245e+03,  1.91110420e+03,  1.03334584e+03,\n",
       "       -6.69090919e+02,  2.91289676e+03,  1.10579836e+03, -1.84343558e+03,\n",
       "        5.79671864e+03, -9.09494702e-13, -1.61442074e+01,  1.06641927e+03,\n",
       "        4.11316341e+02,  4.11316341e+02, -5.65955308e+03,  2.75882561e+03,\n",
       "       -1.35755788e+03,  1.08544270e+03,  9.70642614e+02, -8.19255627e+03,\n",
       "        2.55492970e+03])"
      ]
     },
     "execution_count": 94,
     "metadata": {},
     "output_type": "execute_result"
    }
   ],
   "source": [
    "# value of m\n",
    "lr.coef_"
   ]
  },
  {
   "cell_type": "code",
   "execution_count": 95,
   "id": "509b4e8e",
   "metadata": {},
   "outputs": [
    {
     "data": {
      "text/plain": [
       "12739.065680859621"
      ]
     },
     "execution_count": 95,
     "metadata": {},
     "output_type": "execute_result"
    }
   ],
   "source": [
    "# value of c\n",
    "lr.intercept_"
   ]
  },
  {
   "cell_type": "code",
   "execution_count": 96,
   "id": "a158b0c2",
   "metadata": {},
   "outputs": [
    {
     "data": {
      "text/plain": [
       "4088.1564095761787"
      ]
     },
     "execution_count": 96,
     "metadata": {},
     "output_type": "execute_result"
    }
   ],
   "source": [
    "# Checking error in our model\n",
    "from sklearn.metrics import mean_squared_error\n",
    "np.sqrt(mean_squared_error(y_pred,y_test))"
   ]
  }
 ],
 "metadata": {
  "kernelspec": {
   "display_name": "Python 3 (ipykernel)",
   "language": "python",
   "name": "python3"
  },
  "language_info": {
   "codemirror_mode": {
    "name": "ipython",
    "version": 3
   },
   "file_extension": ".py",
   "mimetype": "text/x-python",
   "name": "python",
   "nbconvert_exporter": "python",
   "pygments_lexer": "ipython3",
   "version": "3.9.6"
  }
 },
 "nbformat": 4,
 "nbformat_minor": 5
}
