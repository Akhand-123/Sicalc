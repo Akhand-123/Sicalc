{
 "cells": [
  {
   "cell_type": "markdown",
   "id": "eee4de9c",
   "metadata": {},
   "source": [
    "# Problem Statments:\n",
    "- We have to calculate the total compensation for each employee.\n",
    "- The HR department is planning to provide some additional compensation to each working employee which needs to be calculated by looking at the profile of each employee and the benefits they are getting. "
   ]
  },
  {
   "cell_type": "markdown",
   "id": "1f6cf3f8",
   "metadata": {},
   "source": [
    "# Importing libraries"
   ]
  },
  {
   "cell_type": "code",
   "execution_count": 1,
   "id": "135df667",
   "metadata": {},
   "outputs": [],
   "source": [
    "import pandas as pd\n",
    "import numpy as np\n",
    "import matplotlib.pyplot as plt\n",
    "import seaborn as sns\n",
    "import warnings\n",
    "warnings.filterwarnings('ignore')"
   ]
  },
  {
   "cell_type": "code",
   "execution_count": 2,
   "id": "aef7c914",
   "metadata": {},
   "outputs": [
    {
     "data": {
      "text/html": [
       "<div>\n",
       "<style scoped>\n",
       "    .dataframe tbody tr th:only-of-type {\n",
       "        vertical-align: middle;\n",
       "    }\n",
       "\n",
       "    .dataframe tbody tr th {\n",
       "        vertical-align: top;\n",
       "    }\n",
       "\n",
       "    .dataframe thead th {\n",
       "        text-align: right;\n",
       "    }\n",
       "</style>\n",
       "<table border=\"1\" class=\"dataframe\">\n",
       "  <thead>\n",
       "    <tr style=\"text-align: right;\">\n",
       "      <th></th>\n",
       "      <th>Year</th>\n",
       "      <th>OGC</th>\n",
       "      <th>OG</th>\n",
       "      <th>DC</th>\n",
       "      <th>Dept</th>\n",
       "      <th>UC</th>\n",
       "      <th>Union</th>\n",
       "      <th>JF</th>\n",
       "      <th>Job</th>\n",
       "      <th>EI</th>\n",
       "      <th>Salaries</th>\n",
       "      <th>Overtime</th>\n",
       "      <th>H/D</th>\n",
       "      <th>YT</th>\n",
       "      <th>Total_Compensation</th>\n",
       "    </tr>\n",
       "  </thead>\n",
       "  <tbody>\n",
       "    <tr>\n",
       "      <th>0</th>\n",
       "      <td>2015</td>\n",
       "      <td>4</td>\n",
       "      <td>Community Health</td>\n",
       "      <td>DPH</td>\n",
       "      <td>Public Health</td>\n",
       "      <td>250</td>\n",
       "      <td>SEIU - Health Workers, Local 1021</td>\n",
       "      <td>Med Therapy &amp; Auxiliary</td>\n",
       "      <td>Morgue Attendant</td>\n",
       "      <td>6725</td>\n",
       "      <td>12196</td>\n",
       "      <td>0</td>\n",
       "      <td>0.00</td>\n",
       "      <td>Calendar</td>\n",
       "      <td>16158</td>\n",
       "    </tr>\n",
       "    <tr>\n",
       "      <th>1</th>\n",
       "      <td>2013</td>\n",
       "      <td>4</td>\n",
       "      <td>Community Health</td>\n",
       "      <td>DPH</td>\n",
       "      <td>Public Health</td>\n",
       "      <td>39</td>\n",
       "      <td>Stationary Engineers, Local 39</td>\n",
       "      <td>Journeyman Trade</td>\n",
       "      <td>Stationary Engineer</td>\n",
       "      <td>25058</td>\n",
       "      <td>74639</td>\n",
       "      <td>2820</td>\n",
       "      <td>12703.31</td>\n",
       "      <td>Fiscal</td>\n",
       "      <td>115784</td>\n",
       "    </tr>\n",
       "    <tr>\n",
       "      <th>2</th>\n",
       "      <td>2015</td>\n",
       "      <td>6</td>\n",
       "      <td>General Administration &amp; Finance</td>\n",
       "      <td>ASR</td>\n",
       "      <td>Assessor/Recorder</td>\n",
       "      <td>21</td>\n",
       "      <td>Prof &amp; Tech Engineers - Miscellaneous, Local 21</td>\n",
       "      <td>Appraisal &amp; Taxation</td>\n",
       "      <td>Senior Real Property Appraiser</td>\n",
       "      <td>46108</td>\n",
       "      <td>100554</td>\n",
       "      <td>0</td>\n",
       "      <td>12424.50</td>\n",
       "      <td>Calendar</td>\n",
       "      <td>144708</td>\n",
       "    </tr>\n",
       "    <tr>\n",
       "      <th>3</th>\n",
       "      <td>2016</td>\n",
       "      <td>1</td>\n",
       "      <td>Public Protection</td>\n",
       "      <td>POL</td>\n",
       "      <td>Police</td>\n",
       "      <td>911</td>\n",
       "      <td>Police Officers' Association</td>\n",
       "      <td>Police Services</td>\n",
       "      <td>Sergeant 3</td>\n",
       "      <td>33369</td>\n",
       "      <td>140164</td>\n",
       "      <td>52754</td>\n",
       "      <td>13043.87</td>\n",
       "      <td>Fiscal</td>\n",
       "      <td>242323</td>\n",
       "    </tr>\n",
       "    <tr>\n",
       "      <th>4</th>\n",
       "      <td>2013</td>\n",
       "      <td>2</td>\n",
       "      <td>Public Works, Transportation &amp; Commerce</td>\n",
       "      <td>HHP</td>\n",
       "      <td>PUC Hetch Hetchy</td>\n",
       "      <td>21</td>\n",
       "      <td>Prof &amp; Tech Engineers - Miscellaneous, Local 21</td>\n",
       "      <td>Information Systems</td>\n",
       "      <td>IS Engineer-Journey</td>\n",
       "      <td>28684</td>\n",
       "      <td>58813</td>\n",
       "      <td>0</td>\n",
       "      <td>7655.28</td>\n",
       "      <td>Calendar</td>\n",
       "      <td>82106</td>\n",
       "    </tr>\n",
       "  </tbody>\n",
       "</table>\n",
       "</div>"
      ],
      "text/plain": [
       "   Year  OGC                                       OG   DC               Dept  \\\n",
       "0  2015    4                         Community Health  DPH      Public Health   \n",
       "1  2013    4                         Community Health  DPH      Public Health   \n",
       "2  2015    6         General Administration & Finance  ASR  Assessor/Recorder   \n",
       "3  2016    1                        Public Protection  POL             Police   \n",
       "4  2013    2  Public Works, Transportation & Commerce  HHP   PUC Hetch Hetchy   \n",
       "\n",
       "    UC                                            Union  \\\n",
       "0  250                SEIU - Health Workers, Local 1021   \n",
       "1   39                   Stationary Engineers, Local 39   \n",
       "2   21  Prof & Tech Engineers - Miscellaneous, Local 21   \n",
       "3  911                     Police Officers' Association   \n",
       "4   21  Prof & Tech Engineers - Miscellaneous, Local 21   \n",
       "\n",
       "                        JF                             Job     EI  Salaries  \\\n",
       "0  Med Therapy & Auxiliary                Morgue Attendant   6725     12196   \n",
       "1         Journeyman Trade             Stationary Engineer  25058     74639   \n",
       "2     Appraisal & Taxation  Senior Real Property Appraiser  46108    100554   \n",
       "3          Police Services                      Sergeant 3  33369    140164   \n",
       "4      Information Systems             IS Engineer-Journey  28684     58813   \n",
       "\n",
       "   Overtime       H/D        YT  Total_Compensation  \n",
       "0         0      0.00  Calendar               16158  \n",
       "1      2820  12703.31    Fiscal              115784  \n",
       "2         0  12424.50  Calendar              144708  \n",
       "3     52754  13043.87    Fiscal              242323  \n",
       "4         0   7655.28  Calendar               82106  "
      ]
     },
     "execution_count": 2,
     "metadata": {},
     "output_type": "execute_result"
    }
   ],
   "source": [
    "data = pd.read_csv('train_set.csv')\n",
    "data.head()"
   ]
  },
  {
   "cell_type": "code",
   "execution_count": 3,
   "id": "61cd7997",
   "metadata": {},
   "outputs": [
    {
     "data": {
      "text/plain": [
       "(287836, 15)"
      ]
     },
     "execution_count": 3,
     "metadata": {},
     "output_type": "execute_result"
    }
   ],
   "source": [
    "data.shape"
   ]
  },
  {
   "cell_type": "markdown",
   "id": "a448f737",
   "metadata": {},
   "source": [
    "### Observation:-\n",
    "- There are total 287836 rows and 15 columns.\n",
    "- Each row include the information of individual employee working in the company."
   ]
  },
  {
   "cell_type": "code",
   "execution_count": 4,
   "id": "4743d0fe",
   "metadata": {},
   "outputs": [
    {
     "data": {
      "text/plain": [
       "Year                   0\n",
       "OGC                    0\n",
       "OG                     0\n",
       "DC                     0\n",
       "Dept                   0\n",
       "UC                     0\n",
       "Union                 36\n",
       "JF                    38\n",
       "Job                    0\n",
       "EI                     0\n",
       "Salaries               0\n",
       "Overtime               0\n",
       "H/D                    0\n",
       "YT                     0\n",
       "Total_Compensation     0\n",
       "dtype: int64"
      ]
     },
     "execution_count": 4,
     "metadata": {},
     "output_type": "execute_result"
    }
   ],
   "source": [
    "data.isnull().sum()"
   ]
  },
  {
   "cell_type": "code",
   "execution_count": 5,
   "id": "7efae9b4",
   "metadata": {},
   "outputs": [
    {
     "data": {
      "text/plain": [
       "Year                       4\n",
       "OGC                        7\n",
       "OG                         7\n",
       "DC                        54\n",
       "Dept                      54\n",
       "UC                       789\n",
       "Union                     73\n",
       "JF                        55\n",
       "Job                     1136\n",
       "EI                     52403\n",
       "Salaries              104444\n",
       "Overtime               33632\n",
       "H/D                   113669\n",
       "YT                         2\n",
       "Total_Compensation    155965\n",
       "dtype: int64"
      ]
     },
     "execution_count": 5,
     "metadata": {},
     "output_type": "execute_result"
    }
   ],
   "source": [
    "data.nunique()"
   ]
  },
  {
   "cell_type": "code",
   "execution_count": 6,
   "id": "d2be61f4",
   "metadata": {},
   "outputs": [
    {
     "name": "stdout",
     "output_type": "stream",
     "text": [
      "<class 'pandas.core.frame.DataFrame'>\n",
      "RangeIndex: 287836 entries, 0 to 287835\n",
      "Data columns (total 15 columns):\n",
      " #   Column              Non-Null Count   Dtype  \n",
      "---  ------              --------------   -----  \n",
      " 0   Year                287836 non-null  int64  \n",
      " 1   OGC                 287836 non-null  int64  \n",
      " 2   OG                  287836 non-null  object \n",
      " 3   DC                  287836 non-null  object \n",
      " 4   Dept                287836 non-null  object \n",
      " 5   UC                  287836 non-null  int64  \n",
      " 6   Union               287800 non-null  object \n",
      " 7   JF                  287798 non-null  object \n",
      " 8   Job                 287836 non-null  object \n",
      " 9   EI                  287836 non-null  int64  \n",
      " 10  Salaries            287836 non-null  int64  \n",
      " 11  Overtime            287836 non-null  int64  \n",
      " 12  H/D                 287836 non-null  float64\n",
      " 13  YT                  287836 non-null  object \n",
      " 14  Total_Compensation  287836 non-null  int64  \n",
      "dtypes: float64(1), int64(7), object(7)\n",
      "memory usage: 32.9+ MB\n"
     ]
    }
   ],
   "source": [
    "data.info()"
   ]
  },
  {
   "cell_type": "code",
   "execution_count": 7,
   "id": "3d9146e5",
   "metadata": {},
   "outputs": [
    {
     "data": {
      "text/html": [
       "<div>\n",
       "<style scoped>\n",
       "    .dataframe tbody tr th:only-of-type {\n",
       "        vertical-align: middle;\n",
       "    }\n",
       "\n",
       "    .dataframe tbody tr th {\n",
       "        vertical-align: top;\n",
       "    }\n",
       "\n",
       "    .dataframe thead th {\n",
       "        text-align: right;\n",
       "    }\n",
       "</style>\n",
       "<table border=\"1\" class=\"dataframe\">\n",
       "  <thead>\n",
       "    <tr style=\"text-align: right;\">\n",
       "      <th></th>\n",
       "      <th>Year</th>\n",
       "      <th>Total_Compensation</th>\n",
       "    </tr>\n",
       "  </thead>\n",
       "  <tbody>\n",
       "    <tr>\n",
       "      <th>1</th>\n",
       "      <td>2014</td>\n",
       "      <td>8395033466</td>\n",
       "    </tr>\n",
       "    <tr>\n",
       "      <th>0</th>\n",
       "      <td>2013</td>\n",
       "      <td>8212269034</td>\n",
       "    </tr>\n",
       "    <tr>\n",
       "      <th>2</th>\n",
       "      <td>2015</td>\n",
       "      <td>7810552333</td>\n",
       "    </tr>\n",
       "    <tr>\n",
       "      <th>3</th>\n",
       "      <td>2016</td>\n",
       "      <td>3787289759</td>\n",
       "    </tr>\n",
       "  </tbody>\n",
       "</table>\n",
       "</div>"
      ],
      "text/plain": [
       "   Year  Total_Compensation\n",
       "1  2014          8395033466\n",
       "0  2013          8212269034\n",
       "2  2015          7810552333\n",
       "3  2016          3787289759"
      ]
     },
     "execution_count": 7,
     "metadata": {},
     "output_type": "execute_result"
    }
   ],
   "source": [
    "yrs_=data.groupby('Year',as_index=False).Total_Compensation.sum().sort_values('Total_Compensation',ascending=False)\n",
    "yrs_"
   ]
  },
  {
   "cell_type": "markdown",
   "id": "6585697e",
   "metadata": {},
   "source": [
    "In year 2014 Compensation that was distributed was hight."
   ]
  },
  {
   "cell_type": "code",
   "execution_count": 8,
   "id": "4375fa74",
   "metadata": {},
   "outputs": [],
   "source": [
    "col_for_model = ['OGC','UC','EI','Salaries','Overtime','H/D','Total_Compensation']"
   ]
  },
  {
   "cell_type": "code",
   "execution_count": 9,
   "id": "3d100db3",
   "metadata": {},
   "outputs": [
    {
     "data": {
      "text/html": [
       "<div>\n",
       "<style scoped>\n",
       "    .dataframe tbody tr th:only-of-type {\n",
       "        vertical-align: middle;\n",
       "    }\n",
       "\n",
       "    .dataframe tbody tr th {\n",
       "        vertical-align: top;\n",
       "    }\n",
       "\n",
       "    .dataframe thead th {\n",
       "        text-align: right;\n",
       "    }\n",
       "</style>\n",
       "<table border=\"1\" class=\"dataframe\">\n",
       "  <thead>\n",
       "    <tr style=\"text-align: right;\">\n",
       "      <th></th>\n",
       "      <th>Year</th>\n",
       "      <th>OGC</th>\n",
       "      <th>UC</th>\n",
       "      <th>EI</th>\n",
       "      <th>Salaries</th>\n",
       "      <th>Overtime</th>\n",
       "      <th>H/D</th>\n",
       "      <th>Total_Compensation</th>\n",
       "    </tr>\n",
       "  </thead>\n",
       "  <tbody>\n",
       "    <tr>\n",
       "      <th>count</th>\n",
       "      <td>287836.000000</td>\n",
       "      <td>287836.000000</td>\n",
       "      <td>287836.000000</td>\n",
       "      <td>287836.000000</td>\n",
       "      <td>287836.000000</td>\n",
       "      <td>287836.000000</td>\n",
       "      <td>287836.000000</td>\n",
       "      <td>287836.000000</td>\n",
       "    </tr>\n",
       "    <tr>\n",
       "      <th>mean</th>\n",
       "      <td>2014.250104</td>\n",
       "      <td>2.976007</td>\n",
       "      <td>490.540186</td>\n",
       "      <td>26913.060020</td>\n",
       "      <td>63262.713139</td>\n",
       "      <td>4401.037115</td>\n",
       "      <td>8932.876472</td>\n",
       "      <td>97990.329882</td>\n",
       "    </tr>\n",
       "    <tr>\n",
       "      <th>std</th>\n",
       "      <td>1.016282</td>\n",
       "      <td>1.575586</td>\n",
       "      <td>333.238723</td>\n",
       "      <td>15539.719696</td>\n",
       "      <td>44638.657748</td>\n",
       "      <td>11079.137749</td>\n",
       "      <td>4894.072024</td>\n",
       "      <td>67750.020573</td>\n",
       "    </tr>\n",
       "    <tr>\n",
       "      <th>min</th>\n",
       "      <td>2013.000000</td>\n",
       "      <td>1.000000</td>\n",
       "      <td>1.000000</td>\n",
       "      <td>1.000000</td>\n",
       "      <td>-68771.000000</td>\n",
       "      <td>-12308.000000</td>\n",
       "      <td>-2940.470000</td>\n",
       "      <td>-74082.000000</td>\n",
       "    </tr>\n",
       "    <tr>\n",
       "      <th>25%</th>\n",
       "      <td>2013.000000</td>\n",
       "      <td>2.000000</td>\n",
       "      <td>236.000000</td>\n",
       "      <td>13434.000000</td>\n",
       "      <td>23406.000000</td>\n",
       "      <td>0.000000</td>\n",
       "      <td>4358.347500</td>\n",
       "      <td>35977.000000</td>\n",
       "    </tr>\n",
       "    <tr>\n",
       "      <th>50%</th>\n",
       "      <td>2014.000000</td>\n",
       "      <td>2.000000</td>\n",
       "      <td>535.000000</td>\n",
       "      <td>27013.000000</td>\n",
       "      <td>62504.500000</td>\n",
       "      <td>0.000000</td>\n",
       "      <td>11982.035000</td>\n",
       "      <td>98033.000000</td>\n",
       "    </tr>\n",
       "    <tr>\n",
       "      <th>75%</th>\n",
       "      <td>2015.000000</td>\n",
       "      <td>4.000000</td>\n",
       "      <td>790.000000</td>\n",
       "      <td>40397.250000</td>\n",
       "      <td>93000.250000</td>\n",
       "      <td>2738.000000</td>\n",
       "      <td>12801.790000</td>\n",
       "      <td>142138.250000</td>\n",
       "    </tr>\n",
       "    <tr>\n",
       "      <th>max</th>\n",
       "      <td>2016.000000</td>\n",
       "      <td>7.000000</td>\n",
       "      <td>990.000000</td>\n",
       "      <td>53794.000000</td>\n",
       "      <td>515101.000000</td>\n",
       "      <td>227313.000000</td>\n",
       "      <td>21872.800000</td>\n",
       "      <td>653498.000000</td>\n",
       "    </tr>\n",
       "  </tbody>\n",
       "</table>\n",
       "</div>"
      ],
      "text/plain": [
       "                Year            OGC             UC             EI  \\\n",
       "count  287836.000000  287836.000000  287836.000000  287836.000000   \n",
       "mean     2014.250104       2.976007     490.540186   26913.060020   \n",
       "std         1.016282       1.575586     333.238723   15539.719696   \n",
       "min      2013.000000       1.000000       1.000000       1.000000   \n",
       "25%      2013.000000       2.000000     236.000000   13434.000000   \n",
       "50%      2014.000000       2.000000     535.000000   27013.000000   \n",
       "75%      2015.000000       4.000000     790.000000   40397.250000   \n",
       "max      2016.000000       7.000000     990.000000   53794.000000   \n",
       "\n",
       "            Salaries       Overtime            H/D  Total_Compensation  \n",
       "count  287836.000000  287836.000000  287836.000000       287836.000000  \n",
       "mean    63262.713139    4401.037115    8932.876472        97990.329882  \n",
       "std     44638.657748   11079.137749    4894.072024        67750.020573  \n",
       "min    -68771.000000  -12308.000000   -2940.470000       -74082.000000  \n",
       "25%     23406.000000       0.000000    4358.347500        35977.000000  \n",
       "50%     62504.500000       0.000000   11982.035000        98033.000000  \n",
       "75%     93000.250000    2738.000000   12801.790000       142138.250000  \n",
       "max    515101.000000  227313.000000   21872.800000       653498.000000  "
      ]
     },
     "execution_count": 9,
     "metadata": {},
     "output_type": "execute_result"
    }
   ],
   "source": [
    "data.describe()"
   ]
  },
  {
   "cell_type": "code",
   "execution_count": 16,
   "id": "e5613353",
   "metadata": {},
   "outputs": [
    {
     "data": {
      "text/html": [
       "<div>\n",
       "<style scoped>\n",
       "    .dataframe tbody tr th:only-of-type {\n",
       "        vertical-align: middle;\n",
       "    }\n",
       "\n",
       "    .dataframe tbody tr th {\n",
       "        vertical-align: top;\n",
       "    }\n",
       "\n",
       "    .dataframe thead th {\n",
       "        text-align: right;\n",
       "    }\n",
       "</style>\n",
       "<table border=\"1\" class=\"dataframe\">\n",
       "  <thead>\n",
       "    <tr style=\"text-align: right;\">\n",
       "      <th></th>\n",
       "      <th>OGC</th>\n",
       "      <th>UC</th>\n",
       "      <th>EI</th>\n",
       "      <th>Salaries</th>\n",
       "      <th>Overtime</th>\n",
       "      <th>H/D</th>\n",
       "      <th>Total_Compensation</th>\n",
       "    </tr>\n",
       "  </thead>\n",
       "  <tbody>\n",
       "    <tr>\n",
       "      <th>0</th>\n",
       "      <td>4</td>\n",
       "      <td>250</td>\n",
       "      <td>6725</td>\n",
       "      <td>12196</td>\n",
       "      <td>0</td>\n",
       "      <td>0.00</td>\n",
       "      <td>16158</td>\n",
       "    </tr>\n",
       "    <tr>\n",
       "      <th>1</th>\n",
       "      <td>4</td>\n",
       "      <td>39</td>\n",
       "      <td>25058</td>\n",
       "      <td>74639</td>\n",
       "      <td>2820</td>\n",
       "      <td>12703.31</td>\n",
       "      <td>115784</td>\n",
       "    </tr>\n",
       "    <tr>\n",
       "      <th>2</th>\n",
       "      <td>6</td>\n",
       "      <td>21</td>\n",
       "      <td>46108</td>\n",
       "      <td>100554</td>\n",
       "      <td>0</td>\n",
       "      <td>12424.50</td>\n",
       "      <td>144708</td>\n",
       "    </tr>\n",
       "    <tr>\n",
       "      <th>3</th>\n",
       "      <td>1</td>\n",
       "      <td>911</td>\n",
       "      <td>33369</td>\n",
       "      <td>140164</td>\n",
       "      <td>52754</td>\n",
       "      <td>13043.87</td>\n",
       "      <td>242323</td>\n",
       "    </tr>\n",
       "    <tr>\n",
       "      <th>4</th>\n",
       "      <td>2</td>\n",
       "      <td>21</td>\n",
       "      <td>28684</td>\n",
       "      <td>58813</td>\n",
       "      <td>0</td>\n",
       "      <td>7655.28</td>\n",
       "      <td>82106</td>\n",
       "    </tr>\n",
       "  </tbody>\n",
       "</table>\n",
       "</div>"
      ],
      "text/plain": [
       "   OGC   UC     EI  Salaries  Overtime       H/D  Total_Compensation\n",
       "0    4  250   6725     12196         0      0.00               16158\n",
       "1    4   39  25058     74639      2820  12703.31              115784\n",
       "2    6   21  46108    100554         0  12424.50              144708\n",
       "3    1  911  33369    140164     52754  13043.87              242323\n",
       "4    2   21  28684     58813         0   7655.28               82106"
      ]
     },
     "execution_count": 16,
     "metadata": {},
     "output_type": "execute_result"
    }
   ],
   "source": [
    "df = data[col_for_model]\n",
    "df.head()"
   ]
  },
  {
   "cell_type": "markdown",
   "id": "5870dfc8",
   "metadata": {},
   "source": [
    "# Seprating X and y from the dataset"
   ]
  },
  {
   "cell_type": "code",
   "execution_count": 17,
   "id": "4fe6dbf9",
   "metadata": {},
   "outputs": [],
   "source": [
    "X = df.drop('Total_Compensation',axis=1)\n",
    "y = df['Total_Compensation']"
   ]
  },
  {
   "cell_type": "markdown",
   "id": "1fcace93",
   "metadata": {},
   "source": [
    "# Seperating train and test from X and y"
   ]
  },
  {
   "cell_type": "code",
   "execution_count": 18,
   "id": "e121756c",
   "metadata": {},
   "outputs": [],
   "source": [
    "from sklearn.model_selection import train_test_split\n",
    "x_train,x_test,y_train,y_test = train_test_split(X,y,test_size=0.25,random_state=42)"
   ]
  },
  {
   "cell_type": "markdown",
   "id": "04bf95ef",
   "metadata": {},
   "source": [
    "# Importing LinearRegression for prediction "
   ]
  },
  {
   "cell_type": "code",
   "execution_count": 19,
   "id": "89be7b7f",
   "metadata": {},
   "outputs": [
    {
     "data": {
      "text/html": [
       "<style>#sk-container-id-2 {color: black;background-color: white;}#sk-container-id-2 pre{padding: 0;}#sk-container-id-2 div.sk-toggleable {background-color: white;}#sk-container-id-2 label.sk-toggleable__label {cursor: pointer;display: block;width: 100%;margin-bottom: 0;padding: 0.3em;box-sizing: border-box;text-align: center;}#sk-container-id-2 label.sk-toggleable__label-arrow:before {content: \"▸\";float: left;margin-right: 0.25em;color: #696969;}#sk-container-id-2 label.sk-toggleable__label-arrow:hover:before {color: black;}#sk-container-id-2 div.sk-estimator:hover label.sk-toggleable__label-arrow:before {color: black;}#sk-container-id-2 div.sk-toggleable__content {max-height: 0;max-width: 0;overflow: hidden;text-align: left;background-color: #f0f8ff;}#sk-container-id-2 div.sk-toggleable__content pre {margin: 0.2em;color: black;border-radius: 0.25em;background-color: #f0f8ff;}#sk-container-id-2 input.sk-toggleable__control:checked~div.sk-toggleable__content {max-height: 200px;max-width: 100%;overflow: auto;}#sk-container-id-2 input.sk-toggleable__control:checked~label.sk-toggleable__label-arrow:before {content: \"▾\";}#sk-container-id-2 div.sk-estimator input.sk-toggleable__control:checked~label.sk-toggleable__label {background-color: #d4ebff;}#sk-container-id-2 div.sk-label input.sk-toggleable__control:checked~label.sk-toggleable__label {background-color: #d4ebff;}#sk-container-id-2 input.sk-hidden--visually {border: 0;clip: rect(1px 1px 1px 1px);clip: rect(1px, 1px, 1px, 1px);height: 1px;margin: -1px;overflow: hidden;padding: 0;position: absolute;width: 1px;}#sk-container-id-2 div.sk-estimator {font-family: monospace;background-color: #f0f8ff;border: 1px dotted black;border-radius: 0.25em;box-sizing: border-box;margin-bottom: 0.5em;}#sk-container-id-2 div.sk-estimator:hover {background-color: #d4ebff;}#sk-container-id-2 div.sk-parallel-item::after {content: \"\";width: 100%;border-bottom: 1px solid gray;flex-grow: 1;}#sk-container-id-2 div.sk-label:hover label.sk-toggleable__label {background-color: #d4ebff;}#sk-container-id-2 div.sk-serial::before {content: \"\";position: absolute;border-left: 1px solid gray;box-sizing: border-box;top: 0;bottom: 0;left: 50%;z-index: 0;}#sk-container-id-2 div.sk-serial {display: flex;flex-direction: column;align-items: center;background-color: white;padding-right: 0.2em;padding-left: 0.2em;position: relative;}#sk-container-id-2 div.sk-item {position: relative;z-index: 1;}#sk-container-id-2 div.sk-parallel {display: flex;align-items: stretch;justify-content: center;background-color: white;position: relative;}#sk-container-id-2 div.sk-item::before, #sk-container-id-2 div.sk-parallel-item::before {content: \"\";position: absolute;border-left: 1px solid gray;box-sizing: border-box;top: 0;bottom: 0;left: 50%;z-index: -1;}#sk-container-id-2 div.sk-parallel-item {display: flex;flex-direction: column;z-index: 1;position: relative;background-color: white;}#sk-container-id-2 div.sk-parallel-item:first-child::after {align-self: flex-end;width: 50%;}#sk-container-id-2 div.sk-parallel-item:last-child::after {align-self: flex-start;width: 50%;}#sk-container-id-2 div.sk-parallel-item:only-child::after {width: 0;}#sk-container-id-2 div.sk-dashed-wrapped {border: 1px dashed gray;margin: 0 0.4em 0.5em 0.4em;box-sizing: border-box;padding-bottom: 0.4em;background-color: white;}#sk-container-id-2 div.sk-label label {font-family: monospace;font-weight: bold;display: inline-block;line-height: 1.2em;}#sk-container-id-2 div.sk-label-container {text-align: center;}#sk-container-id-2 div.sk-container {/* jupyter's `normalize.less` sets `[hidden] { display: none; }` but bootstrap.min.css set `[hidden] { display: none !important; }` so we also need the `!important` here to be able to override the default hidden behavior on the sphinx rendered scikit-learn.org. See: https://github.com/scikit-learn/scikit-learn/issues/21755 */display: inline-block !important;position: relative;}#sk-container-id-2 div.sk-text-repr-fallback {display: none;}</style><div id=\"sk-container-id-2\" class=\"sk-top-container\"><div class=\"sk-text-repr-fallback\"><pre>LinearRegression()</pre><b>In a Jupyter environment, please rerun this cell to show the HTML representation or trust the notebook. <br />On GitHub, the HTML representation is unable to render, please try loading this page with nbviewer.org.</b></div><div class=\"sk-container\" hidden><div class=\"sk-item\"><div class=\"sk-estimator sk-toggleable\"><input class=\"sk-toggleable__control sk-hidden--visually\" id=\"sk-estimator-id-2\" type=\"checkbox\" checked><label for=\"sk-estimator-id-2\" class=\"sk-toggleable__label sk-toggleable__label-arrow\">LinearRegression</label><div class=\"sk-toggleable__content\"><pre>LinearRegression()</pre></div></div></div></div></div>"
      ],
      "text/plain": [
       "LinearRegression()"
      ]
     },
     "execution_count": 19,
     "metadata": {},
     "output_type": "execute_result"
    }
   ],
   "source": [
    "from sklearn.linear_model import LinearRegression\n",
    "lr = LinearRegression()\n",
    "lr"
   ]
  },
  {
   "cell_type": "markdown",
   "id": "fe7a5096",
   "metadata": {},
   "source": [
    "# Applying Ml algo to x_train and y_train"
   ]
  },
  {
   "cell_type": "code",
   "execution_count": 20,
   "id": "1fb22485",
   "metadata": {},
   "outputs": [
    {
     "data": {
      "text/html": [
       "<style>#sk-container-id-3 {color: black;background-color: white;}#sk-container-id-3 pre{padding: 0;}#sk-container-id-3 div.sk-toggleable {background-color: white;}#sk-container-id-3 label.sk-toggleable__label {cursor: pointer;display: block;width: 100%;margin-bottom: 0;padding: 0.3em;box-sizing: border-box;text-align: center;}#sk-container-id-3 label.sk-toggleable__label-arrow:before {content: \"▸\";float: left;margin-right: 0.25em;color: #696969;}#sk-container-id-3 label.sk-toggleable__label-arrow:hover:before {color: black;}#sk-container-id-3 div.sk-estimator:hover label.sk-toggleable__label-arrow:before {color: black;}#sk-container-id-3 div.sk-toggleable__content {max-height: 0;max-width: 0;overflow: hidden;text-align: left;background-color: #f0f8ff;}#sk-container-id-3 div.sk-toggleable__content pre {margin: 0.2em;color: black;border-radius: 0.25em;background-color: #f0f8ff;}#sk-container-id-3 input.sk-toggleable__control:checked~div.sk-toggleable__content {max-height: 200px;max-width: 100%;overflow: auto;}#sk-container-id-3 input.sk-toggleable__control:checked~label.sk-toggleable__label-arrow:before {content: \"▾\";}#sk-container-id-3 div.sk-estimator input.sk-toggleable__control:checked~label.sk-toggleable__label {background-color: #d4ebff;}#sk-container-id-3 div.sk-label input.sk-toggleable__control:checked~label.sk-toggleable__label {background-color: #d4ebff;}#sk-container-id-3 input.sk-hidden--visually {border: 0;clip: rect(1px 1px 1px 1px);clip: rect(1px, 1px, 1px, 1px);height: 1px;margin: -1px;overflow: hidden;padding: 0;position: absolute;width: 1px;}#sk-container-id-3 div.sk-estimator {font-family: monospace;background-color: #f0f8ff;border: 1px dotted black;border-radius: 0.25em;box-sizing: border-box;margin-bottom: 0.5em;}#sk-container-id-3 div.sk-estimator:hover {background-color: #d4ebff;}#sk-container-id-3 div.sk-parallel-item::after {content: \"\";width: 100%;border-bottom: 1px solid gray;flex-grow: 1;}#sk-container-id-3 div.sk-label:hover label.sk-toggleable__label {background-color: #d4ebff;}#sk-container-id-3 div.sk-serial::before {content: \"\";position: absolute;border-left: 1px solid gray;box-sizing: border-box;top: 0;bottom: 0;left: 50%;z-index: 0;}#sk-container-id-3 div.sk-serial {display: flex;flex-direction: column;align-items: center;background-color: white;padding-right: 0.2em;padding-left: 0.2em;position: relative;}#sk-container-id-3 div.sk-item {position: relative;z-index: 1;}#sk-container-id-3 div.sk-parallel {display: flex;align-items: stretch;justify-content: center;background-color: white;position: relative;}#sk-container-id-3 div.sk-item::before, #sk-container-id-3 div.sk-parallel-item::before {content: \"\";position: absolute;border-left: 1px solid gray;box-sizing: border-box;top: 0;bottom: 0;left: 50%;z-index: -1;}#sk-container-id-3 div.sk-parallel-item {display: flex;flex-direction: column;z-index: 1;position: relative;background-color: white;}#sk-container-id-3 div.sk-parallel-item:first-child::after {align-self: flex-end;width: 50%;}#sk-container-id-3 div.sk-parallel-item:last-child::after {align-self: flex-start;width: 50%;}#sk-container-id-3 div.sk-parallel-item:only-child::after {width: 0;}#sk-container-id-3 div.sk-dashed-wrapped {border: 1px dashed gray;margin: 0 0.4em 0.5em 0.4em;box-sizing: border-box;padding-bottom: 0.4em;background-color: white;}#sk-container-id-3 div.sk-label label {font-family: monospace;font-weight: bold;display: inline-block;line-height: 1.2em;}#sk-container-id-3 div.sk-label-container {text-align: center;}#sk-container-id-3 div.sk-container {/* jupyter's `normalize.less` sets `[hidden] { display: none; }` but bootstrap.min.css set `[hidden] { display: none !important; }` so we also need the `!important` here to be able to override the default hidden behavior on the sphinx rendered scikit-learn.org. See: https://github.com/scikit-learn/scikit-learn/issues/21755 */display: inline-block !important;position: relative;}#sk-container-id-3 div.sk-text-repr-fallback {display: none;}</style><div id=\"sk-container-id-3\" class=\"sk-top-container\"><div class=\"sk-text-repr-fallback\"><pre>LinearRegression()</pre><b>In a Jupyter environment, please rerun this cell to show the HTML representation or trust the notebook. <br />On GitHub, the HTML representation is unable to render, please try loading this page with nbviewer.org.</b></div><div class=\"sk-container\" hidden><div class=\"sk-item\"><div class=\"sk-estimator sk-toggleable\"><input class=\"sk-toggleable__control sk-hidden--visually\" id=\"sk-estimator-id-3\" type=\"checkbox\" checked><label for=\"sk-estimator-id-3\" class=\"sk-toggleable__label sk-toggleable__label-arrow\">LinearRegression</label><div class=\"sk-toggleable__content\"><pre>LinearRegression()</pre></div></div></div></div></div>"
      ],
      "text/plain": [
       "LinearRegression()"
      ]
     },
     "execution_count": 20,
     "metadata": {},
     "output_type": "execute_result"
    }
   ],
   "source": [
    "lr.fit(x_train,y_train)"
   ]
  },
  {
   "cell_type": "markdown",
   "id": "dfa0910c",
   "metadata": {},
   "source": [
    "# Predicting value on x_test"
   ]
  },
  {
   "cell_type": "code",
   "execution_count": 21,
   "id": "29c282a8",
   "metadata": {},
   "outputs": [
    {
     "data": {
      "text/plain": [
       "array([116493.50381586,  61132.11585208,  86879.88745237, ...,\n",
       "       126149.26975572, 116058.53755752, 212124.15523417])"
      ]
     },
     "execution_count": 21,
     "metadata": {},
     "output_type": "execute_result"
    }
   ],
   "source": [
    "y_pred = lr.predict(x_test)\n",
    "y_pred"
   ]
  },
  {
   "cell_type": "code",
   "execution_count": 22,
   "id": "a611ac3e",
   "metadata": {},
   "outputs": [
    {
     "data": {
      "text/html": [
       "<div>\n",
       "<style scoped>\n",
       "    .dataframe tbody tr th:only-of-type {\n",
       "        vertical-align: middle;\n",
       "    }\n",
       "\n",
       "    .dataframe tbody tr th {\n",
       "        vertical-align: top;\n",
       "    }\n",
       "\n",
       "    .dataframe thead th {\n",
       "        text-align: right;\n",
       "    }\n",
       "</style>\n",
       "<table border=\"1\" class=\"dataframe\">\n",
       "  <thead>\n",
       "    <tr style=\"text-align: right;\">\n",
       "      <th></th>\n",
       "      <th>OGC</th>\n",
       "      <th>UC</th>\n",
       "      <th>EI</th>\n",
       "      <th>Salaries</th>\n",
       "      <th>Overtime</th>\n",
       "      <th>H/D</th>\n",
       "    </tr>\n",
       "  </thead>\n",
       "  <tbody>\n",
       "    <tr>\n",
       "      <th>37188</th>\n",
       "      <td>2</td>\n",
       "      <td>253</td>\n",
       "      <td>3733</td>\n",
       "      <td>64670</td>\n",
       "      <td>14082</td>\n",
       "      <td>13483.42000</td>\n",
       "    </tr>\n",
       "    <tr>\n",
       "      <th>43547</th>\n",
       "      <td>5</td>\n",
       "      <td>790</td>\n",
       "      <td>2635</td>\n",
       "      <td>38108</td>\n",
       "      <td>0</td>\n",
       "      <td>10230.58000</td>\n",
       "    </tr>\n",
       "    <tr>\n",
       "      <th>128478</th>\n",
       "      <td>1</td>\n",
       "      <td>790</td>\n",
       "      <td>21582</td>\n",
       "      <td>54756</td>\n",
       "      <td>0</td>\n",
       "      <td>12918.24848</td>\n",
       "    </tr>\n",
       "    <tr>\n",
       "      <th>106956</th>\n",
       "      <td>5</td>\n",
       "      <td>790</td>\n",
       "      <td>29560</td>\n",
       "      <td>748</td>\n",
       "      <td>0</td>\n",
       "      <td>269.89000</td>\n",
       "    </tr>\n",
       "    <tr>\n",
       "      <th>157292</th>\n",
       "      <td>2</td>\n",
       "      <td>790</td>\n",
       "      <td>22468</td>\n",
       "      <td>73379</td>\n",
       "      <td>0</td>\n",
       "      <td>12500.56000</td>\n",
       "    </tr>\n",
       "    <tr>\n",
       "      <th>...</th>\n",
       "      <td>...</td>\n",
       "      <td>...</td>\n",
       "      <td>...</td>\n",
       "      <td>...</td>\n",
       "      <td>...</td>\n",
       "      <td>...</td>\n",
       "    </tr>\n",
       "    <tr>\n",
       "      <th>113265</th>\n",
       "      <td>2</td>\n",
       "      <td>253</td>\n",
       "      <td>23738</td>\n",
       "      <td>66421</td>\n",
       "      <td>8316</td>\n",
       "      <td>13302.07000</td>\n",
       "    </tr>\n",
       "    <tr>\n",
       "      <th>267043</th>\n",
       "      <td>2</td>\n",
       "      <td>39</td>\n",
       "      <td>20501</td>\n",
       "      <td>50982</td>\n",
       "      <td>0</td>\n",
       "      <td>7611.00000</td>\n",
       "    </tr>\n",
       "    <tr>\n",
       "      <th>165790</th>\n",
       "      <td>2</td>\n",
       "      <td>253</td>\n",
       "      <td>8544</td>\n",
       "      <td>65941</td>\n",
       "      <td>20372</td>\n",
       "      <td>13972.61000</td>\n",
       "    </tr>\n",
       "    <tr>\n",
       "      <th>85812</th>\n",
       "      <td>3</td>\n",
       "      <td>21</td>\n",
       "      <td>5544</td>\n",
       "      <td>77908</td>\n",
       "      <td>0</td>\n",
       "      <td>12968.45603</td>\n",
       "    </tr>\n",
       "    <tr>\n",
       "      <th>279308</th>\n",
       "      <td>1</td>\n",
       "      <td>798</td>\n",
       "      <td>988</td>\n",
       "      <td>111775</td>\n",
       "      <td>43512</td>\n",
       "      <td>12681.35000</td>\n",
       "    </tr>\n",
       "  </tbody>\n",
       "</table>\n",
       "<p>71959 rows × 6 columns</p>\n",
       "</div>"
      ],
      "text/plain": [
       "        OGC   UC     EI  Salaries  Overtime          H/D\n",
       "37188     2  253   3733     64670     14082  13483.42000\n",
       "43547     5  790   2635     38108         0  10230.58000\n",
       "128478    1  790  21582     54756         0  12918.24848\n",
       "106956    5  790  29560       748         0    269.89000\n",
       "157292    2  790  22468     73379         0  12500.56000\n",
       "...     ...  ...    ...       ...       ...          ...\n",
       "113265    2  253  23738     66421      8316  13302.07000\n",
       "267043    2   39  20501     50982         0   7611.00000\n",
       "165790    2  253   8544     65941     20372  13972.61000\n",
       "85812     3   21   5544     77908         0  12968.45603\n",
       "279308    1  798    988    111775     43512  12681.35000\n",
       "\n",
       "[71959 rows x 6 columns]"
      ]
     },
     "execution_count": 22,
     "metadata": {},
     "output_type": "execute_result"
    }
   ],
   "source": [
    "x_test"
   ]
  },
  {
   "cell_type": "code",
   "execution_count": 23,
   "id": "b8ea64cf",
   "metadata": {},
   "outputs": [
    {
     "data": {
      "text/plain": [
       "array([-2.66641025e+02,  4.91907453e-01,  1.92131309e-03,  1.29856994e+00,\n",
       "        1.18366150e+00,  1.12596180e+00])"
      ]
     },
     "execution_count": 23,
     "metadata": {},
     "output_type": "execute_result"
    }
   ],
   "source": [
    "# value of m\n",
    "lr.coef_"
   ]
  },
  {
   "cell_type": "code",
   "execution_count": 24,
   "id": "6144f879",
   "metadata": {},
   "outputs": [
    {
     "data": {
      "text/plain": [
       "1066.5059297912958"
      ]
     },
     "execution_count": 24,
     "metadata": {},
     "output_type": "execute_result"
    }
   ],
   "source": [
    "# value of c\n",
    "lr.intercept_"
   ]
  },
  {
   "cell_type": "code",
   "execution_count": 25,
   "id": "0e282001",
   "metadata": {},
   "outputs": [
    {
     "data": {
      "text/plain": [
       "0.9873425644263043"
      ]
     },
     "execution_count": 25,
     "metadata": {},
     "output_type": "execute_result"
    }
   ],
   "source": [
    "# Checking the accuracy of the model\n",
    "from sklearn.metrics import r2_score\n",
    "r2_score(y_test,y_pred)"
   ]
  },
  {
   "cell_type": "markdown",
   "id": "5c80a677",
   "metadata": {},
   "source": [
    "# Observation \n",
    "- Our model have accuracy of 98.73%\n"
   ]
  },
  {
   "cell_type": "markdown",
   "id": "6c8e2956",
   "metadata": {},
   "source": [
    "# Using cross validation for imporving our model"
   ]
  },
  {
   "cell_type": "code",
   "execution_count": 27,
   "id": "e44f0e51",
   "metadata": {},
   "outputs": [
    {
     "data": {
      "text/plain": [
       "array([0.98705971, 0.98725967, 0.98879595, 0.98601991, 0.98559902,\n",
       "       0.98890971, 0.98725774, 0.98675438, 0.9872994 , 0.98775399])"
      ]
     },
     "execution_count": 27,
     "metadata": {},
     "output_type": "execute_result"
    }
   ],
   "source": [
    "from sklearn.model_selection import cross_val_score\n",
    "cross_val_score(lr,X,y,cv=10)"
   ]
  },
  {
   "cell_type": "markdown",
   "id": "8430ad15",
   "metadata": {},
   "source": [
    "# Checking the error"
   ]
  },
  {
   "cell_type": "code",
   "execution_count": 33,
   "id": "f2aedf42",
   "metadata": {},
   "outputs": [
    {
     "data": {
      "text/plain": [
       "7617.552675398487"
      ]
     },
     "execution_count": 33,
     "metadata": {},
     "output_type": "execute_result"
    }
   ],
   "source": [
    "from sklearn.metrics import mean_squared_error\n",
    "mse = np.sqrt(mean_squared_error(y_pred,y_test))\n",
    "mse\n"
   ]
  },
  {
   "cell_type": "code",
   "execution_count": 50,
   "id": "0ad49188",
   "metadata": {},
   "outputs": [
    {
     "data": {
      "text/plain": [
       "<AxesSubplot:ylabel='Total_Compensation'>"
      ]
     },
     "execution_count": 50,
     "metadata": {},
     "output_type": "execute_result"
    },
    {
     "data": {
      "image/png": "[encoded data removed]",
      "text/plain": [
       "<Figure size 432x288 with 1 Axes>"
      ]
     },
     "metadata": {
      "needs_background": "light"
     },
     "output_type": "display_data"
    }
   ],
   "source": [
    "sns.scatterplot(x=y_pred,y=y_test)\n"
   ]
  },
  {
   "cell_type": "code",
   "execution_count": null,
   "id": "1eb3f652",
   "metadata": {},
   "outputs": [],
   "source": []
  }
 ],
 "metadata": {
  "kernelspec": {
   "display_name": "Python 3 (ipykernel)",
   "language": "python",
   "name": "python3"
  },
  "language_info": {
   "codemirror_mode": {
    "name": "ipython",
    "version": 3
   },
   "file_extension": ".py",
   "mimetype": "text/x-python",
   "name": "python",
   "nbconvert_exporter": "python",
   "pygments_lexer": "ipython3",
   "version": "3.9.6"
  }
 },
 "nbformat": 4,
 "nbformat_minor": 5
}
